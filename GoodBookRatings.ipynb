{
 "metadata": {
  "name": "",
  "signature": "sha256:e0573b61588237098645a4366dbedc6ba3ade1ed77c7a638eb39f2289e59aadc"
 },
 "nbformat": 3,
 "nbformat_minor": 0,
 "worksheets": [
  {
   "cells": [
    {
     "cell_type": "code",
     "collapsed": false,
     "input": [
      "%matplotlib inline\n",
      "import numpy as np\n",
      "import matplotlib.pyplot as plt\n",
      "import pandas as pd\n",
      "import seaborn as sns\n",
      "pd.set_option('display.width', 500)\n",
      "pd.set_option('display.max_columns', 100)"
     ],
     "language": "python",
     "metadata": {},
     "outputs": [],
     "prompt_number": 77
    },
    {
     "cell_type": "markdown",
     "metadata": {},
     "source": [
      "The basic workflow (from http://nbviewer.ipython.org/github/cs109/content/blob/master/lec_04_wrangling.ipynb) is as follows:\n",
      "\n",
      "1. Build a DataFrame from the data (ideally, put all data in this object)\n",
      "2. Clean the DataFrame. It should have the following properties:\n",
      "\n",
      "    * Each row describes a single object\n",
      "    * Each column describes a property of that object\n",
      "    * Columns are numeric whenever appropriate\n",
      "    * Columns contain atomic properties that cannot be further decomposed\n",
      "    \n",
      "3. Explore global properties. Use histograms, scatter plots, and aggregation functions to summarize the data.\n",
      "4. Explore group properties. Use groupby and small multiples to compare subsets of the data.\n",
      "\n",
      "This process transforms your data into a format which is easier to work with, gives you a basic overview of the data's properties, and likely generates several questions for you to followup in subsequent analysis."
     ]
    },
    {
     "cell_type": "code",
     "collapsed": false,
     "input": [
      "df = pd.read_csv(\"cleaned.csv\")\n",
      "df.head()"
     ],
     "language": "python",
     "metadata": {},
     "outputs": [
      {
       "html": [
        "<div style=\"max-height:1000px;max-width:1500px;overflow:auto;\">\n",
        "<table border=\"1\" class=\"dataframe\">\n",
        "  <thead>\n",
        "    <tr style=\"text-align: right;\">\n",
        "      <th></th>\n",
        "      <th>rating</th>\n",
        "      <th>review_count</th>\n",
        "      <th>isbn</th>\n",
        "      <th>booktype</th>\n",
        "      <th>author_url</th>\n",
        "      <th>year</th>\n",
        "      <th>genre_urls</th>\n",
        "      <th>dir</th>\n",
        "      <th>rating_count</th>\n",
        "      <th>name</th>\n",
        "      <th>author</th>\n",
        "      <th>genres</th>\n",
        "    </tr>\n",
        "  </thead>\n",
        "  <tbody>\n",
        "    <tr>\n",
        "      <th>0</th>\n",
        "      <td> 4.40</td>\n",
        "      <td> 136455</td>\n",
        "      <td> 0439023483</td>\n",
        "      <td> book</td>\n",
        "      <td> https://www.goodreads.com/author/show/153394.S...</td>\n",
        "      <td> 2008</td>\n",
        "      <td> /genres/young-adult|/genres/science-fiction|/g...</td>\n",
        "      <td>               dir01/2767052-the-hunger-games.html</td>\n",
        "      <td> 2958974</td>\n",
        "      <td>           The Hunger Games (The Hunger Games, #1)</td>\n",
        "      <td> Suzanne_Collins</td>\n",
        "      <td> young-adult|science-fiction|dystopia|fantasy|s...</td>\n",
        "    </tr>\n",
        "    <tr>\n",
        "      <th>1</th>\n",
        "      <td> 4.41</td>\n",
        "      <td>  16648</td>\n",
        "      <td> 0439358078</td>\n",
        "      <td> book</td>\n",
        "      <td> https://www.goodreads.com/author/show/1077326....</td>\n",
        "      <td> 2003</td>\n",
        "      <td> /genres/fantasy|/genres/young-adult|/genres/fi...</td>\n",
        "      <td> dir01/2.Harry_Potter_and_the_Order_of_the_Phoe...</td>\n",
        "      <td> 1284478</td>\n",
        "      <td> Harry Potter and the Order of the Phoenix (Har...</td>\n",
        "      <td>     J_K_Rowling</td>\n",
        "      <td> fantasy|young-adult|fiction|fantasy|magic|chil...</td>\n",
        "    </tr>\n",
        "    <tr>\n",
        "      <th>2</th>\n",
        "      <td> 3.56</td>\n",
        "      <td>  85746</td>\n",
        "      <td> 0316015849</td>\n",
        "      <td> book</td>\n",
        "      <td> https://www.goodreads.com/author/show/941441.S...</td>\n",
        "      <td> 2005</td>\n",
        "      <td> /genres/young-adult|/genres/fantasy|/genres/ro...</td>\n",
        "      <td>                         dir01/41865.Twilight.html</td>\n",
        "      <td> 2579564</td>\n",
        "      <td>                           Twilight (Twilight, #1)</td>\n",
        "      <td> Stephenie_Meyer</td>\n",
        "      <td> young-adult|fantasy|romance|paranormal|vampire...</td>\n",
        "    </tr>\n",
        "    <tr>\n",
        "      <th>3</th>\n",
        "      <td> 4.23</td>\n",
        "      <td>  47906</td>\n",
        "      <td> 0061120081</td>\n",
        "      <td> book</td>\n",
        "      <td> https://www.goodreads.com/author/show/1825.Har...</td>\n",
        "      <td> 1960</td>\n",
        "      <td> /genres/classics|/genres/fiction|/genres/histo...</td>\n",
        "      <td>             dir01/2657.To_Kill_a_Mockingbird.html</td>\n",
        "      <td> 2078123</td>\n",
        "      <td>                             To Kill a Mockingbird</td>\n",
        "      <td>      Harper_Lee</td>\n",
        "      <td> classics|fiction|historical-fiction|academic|s...</td>\n",
        "    </tr>\n",
        "    <tr>\n",
        "      <th>4</th>\n",
        "      <td> 4.23</td>\n",
        "      <td>  34772</td>\n",
        "      <td> 0679783261</td>\n",
        "      <td> book</td>\n",
        "      <td> https://www.goodreads.com/author/show/1265.Jan...</td>\n",
        "      <td> 1813</td>\n",
        "      <td> /genres/classics|/genres/fiction|/genres/roman...</td>\n",
        "      <td>               dir01/1885.Pride_and_Prejudice.html</td>\n",
        "      <td> 1388992</td>\n",
        "      <td>                               Pride and Prejudice</td>\n",
        "      <td>     Jane_Austen</td>\n",
        "      <td> classics|fiction|romance|historical-fiction|li...</td>\n",
        "    </tr>\n",
        "  </tbody>\n",
        "</table>\n",
        "</div>"
       ],
       "metadata": {},
       "output_type": "pyout",
       "prompt_number": 78,
       "text": [
        "   rating  review_count        isbn booktype                                         author_url  year                                         genre_urls                                                dir  rating_count                                               name           author                                             genres\n",
        "0    4.40        136455  0439023483     book  https://www.goodreads.com/author/show/153394.S...  2008  /genres/young-adult|/genres/science-fiction|/g...                dir01/2767052-the-hunger-games.html       2958974            The Hunger Games (The Hunger Games, #1)  Suzanne_Collins  young-adult|science-fiction|dystopia|fantasy|s...\n",
        "1    4.41         16648  0439358078     book  https://www.goodreads.com/author/show/1077326....  2003  /genres/fantasy|/genres/young-adult|/genres/fi...  dir01/2.Harry_Potter_and_the_Order_of_the_Phoe...       1284478  Harry Potter and the Order of the Phoenix (Har...      J_K_Rowling  fantasy|young-adult|fiction|fantasy|magic|chil...\n",
        "2    3.56         85746  0316015849     book  https://www.goodreads.com/author/show/941441.S...  2005  /genres/young-adult|/genres/fantasy|/genres/ro...                          dir01/41865.Twilight.html       2579564                            Twilight (Twilight, #1)  Stephenie_Meyer  young-adult|fantasy|romance|paranormal|vampire...\n",
        "3    4.23         47906  0061120081     book  https://www.goodreads.com/author/show/1825.Har...  1960  /genres/classics|/genres/fiction|/genres/histo...              dir01/2657.To_Kill_a_Mockingbird.html       2078123                              To Kill a Mockingbird       Harper_Lee  classics|fiction|historical-fiction|academic|s...\n",
        "4    4.23         34772  0679783261     book  https://www.goodreads.com/author/show/1265.Jan...  1813  /genres/classics|/genres/fiction|/genres/roman...                dir01/1885.Pride_and_Prejudice.html       1388992                                Pride and Prejudice      Jane_Austen  classics|fiction|romance|historical-fiction|li..."
       ]
      }
     ],
     "prompt_number": 78
    },
    {
     "cell_type": "code",
     "collapsed": false,
     "input": [
      "df.shape"
     ],
     "language": "python",
     "metadata": {},
     "outputs": [
      {
       "metadata": {},
       "output_type": "pyout",
       "prompt_number": 79,
       "text": [
        "(5993, 12)"
       ]
      }
     ],
     "prompt_number": 79
    },
    {
     "cell_type": "code",
     "collapsed": false,
     "input": [
      "df.dtypes"
     ],
     "language": "python",
     "metadata": {},
     "outputs": [
      {
       "metadata": {},
       "output_type": "pyout",
       "prompt_number": 80,
       "text": [
        "rating          float64\n",
        "review_count      int64\n",
        "isbn             object\n",
        "booktype         object\n",
        "author_url       object\n",
        "year              int64\n",
        "genre_urls       object\n",
        "dir              object\n",
        "rating_count      int64\n",
        "name             object\n",
        "author           object\n",
        "genres           object\n",
        "dtype: object"
       ]
      }
     ],
     "prompt_number": 80
    },
    {
     "cell_type": "code",
     "collapsed": false,
     "input": [
      "df.isbn[df.isbn.isnull()]=\"\"\n",
      "df.genre_urls[df.genre_urls.isnull()]=\"\"\n",
      "df.genres[df.genres.isnull()]=\"\""
     ],
     "language": "python",
     "metadata": {},
     "outputs": [],
     "prompt_number": 81
    },
    {
     "cell_type": "code",
     "collapsed": false,
     "input": [
      "df.describe()"
     ],
     "language": "python",
     "metadata": {},
     "outputs": [
      {
       "html": [
        "<div style=\"max-height:1000px;max-width:1500px;overflow:auto;\">\n",
        "<table border=\"1\" class=\"dataframe\">\n",
        "  <thead>\n",
        "    <tr style=\"text-align: right;\">\n",
        "      <th></th>\n",
        "      <th>rating</th>\n",
        "      <th>review_count</th>\n",
        "      <th>year</th>\n",
        "      <th>rating_count</th>\n",
        "    </tr>\n",
        "  </thead>\n",
        "  <tbody>\n",
        "    <tr>\n",
        "      <th>count</th>\n",
        "      <td> 5993.000000</td>\n",
        "      <td>   5993.000000</td>\n",
        "      <td> 5993.000000</td>\n",
        "      <td>    5993.000000</td>\n",
        "    </tr>\n",
        "    <tr>\n",
        "      <th>mean</th>\n",
        "      <td>    4.041997</td>\n",
        "      <td>   2374.331220</td>\n",
        "      <td> 1969.085099</td>\n",
        "      <td>   51183.895879</td>\n",
        "    </tr>\n",
        "    <tr>\n",
        "      <th>std</th>\n",
        "      <td>    0.260509</td>\n",
        "      <td>   5493.093328</td>\n",
        "      <td>  185.383169</td>\n",
        "      <td>  137649.335633</td>\n",
        "    </tr>\n",
        "    <tr>\n",
        "      <th>min</th>\n",
        "      <td>    2.000000</td>\n",
        "      <td>      0.000000</td>\n",
        "      <td>-1500.000000</td>\n",
        "      <td>       5.000000</td>\n",
        "    </tr>\n",
        "    <tr>\n",
        "      <th>25%</th>\n",
        "      <td>    3.870000</td>\n",
        "      <td>    390.000000</td>\n",
        "      <td> 1980.000000</td>\n",
        "      <td>    7527.000000</td>\n",
        "    </tr>\n",
        "    <tr>\n",
        "      <th>50%</th>\n",
        "      <td>    4.050000</td>\n",
        "      <td>    936.000000</td>\n",
        "      <td> 2002.000000</td>\n",
        "      <td>   18072.000000</td>\n",
        "    </tr>\n",
        "    <tr>\n",
        "      <th>75%</th>\n",
        "      <td>    4.210000</td>\n",
        "      <td>   2212.000000</td>\n",
        "      <td> 2009.000000</td>\n",
        "      <td>   42943.000000</td>\n",
        "    </tr>\n",
        "    <tr>\n",
        "      <th>max</th>\n",
        "      <td>    5.000000</td>\n",
        "      <td> 136455.000000</td>\n",
        "      <td> 2014.000000</td>\n",
        "      <td> 2958974.000000</td>\n",
        "    </tr>\n",
        "  </tbody>\n",
        "</table>\n",
        "</div>"
       ],
       "metadata": {},
       "output_type": "pyout",
       "prompt_number": 82,
       "text": [
        "            rating   review_count         year    rating_count\n",
        "count  5993.000000    5993.000000  5993.000000     5993.000000\n",
        "mean      4.041997    2374.331220  1969.085099    51183.895879\n",
        "std       0.260509    5493.093328   185.383169   137649.335633\n",
        "min       2.000000       0.000000 -1500.000000        5.000000\n",
        "25%       3.870000     390.000000  1980.000000     7527.000000\n",
        "50%       4.050000     936.000000  2002.000000    18072.000000\n",
        "75%       4.210000    2212.000000  2009.000000    42943.000000\n",
        "max       5.000000  136455.000000  2014.000000  2958974.000000"
       ]
      }
     ],
     "prompt_number": 82
    },
    {
     "cell_type": "code",
     "collapsed": false,
     "input": [
      "decade =  (df.year // 10) * 10\n",
      "print type(decade)\n",
      "decade"
     ],
     "language": "python",
     "metadata": {},
     "outputs": [
      {
       "output_type": "stream",
       "stream": "stdout",
       "text": [
        "<class 'pandas.core.series.Series'>\n"
       ]
      },
      {
       "metadata": {},
       "output_type": "pyout",
       "prompt_number": 83,
       "text": [
        "0     2000\n",
        "1     2000\n",
        "2     2000\n",
        "3     1960\n",
        "4     1810\n",
        "5     1930\n",
        "6     1940\n",
        "7     1960\n",
        "8     1940\n",
        "9     1970\n",
        "10    1990\n",
        "11    2000\n",
        "12    2000\n",
        "13    1860\n",
        "14    1590\n",
        "...\n",
        "5978    2000\n",
        "5979    2010\n",
        "5980    1940\n",
        "5981    1970\n",
        "5982    2010\n",
        "5983    1980\n",
        "5984    2000\n",
        "5985    2000\n",
        "5986    2010\n",
        "5987    2000\n",
        "5988    2000\n",
        "5989    2000\n",
        "5990    2010\n",
        "5991    2000\n",
        "5992    2000\n",
        "Name: year, Length: 5993, dtype: int64"
       ]
      }
     ],
     "prompt_number": 83
    },
    {
     "cell_type": "code",
     "collapsed": false,
     "input": [
      "bydecade_df = df[['name', 'year']]\n",
      "bydecade_df['decade'] = decade\n",
      "\n",
      "bydecade_df.head()"
     ],
     "language": "python",
     "metadata": {},
     "outputs": [
      {
       "html": [
        "<div style=\"max-height:1000px;max-width:1500px;overflow:auto;\">\n",
        "<table border=\"1\" class=\"dataframe\">\n",
        "  <thead>\n",
        "    <tr style=\"text-align: right;\">\n",
        "      <th></th>\n",
        "      <th>name</th>\n",
        "      <th>year</th>\n",
        "      <th>decade</th>\n",
        "    </tr>\n",
        "  </thead>\n",
        "  <tbody>\n",
        "    <tr>\n",
        "      <th>0</th>\n",
        "      <td>           The Hunger Games (The Hunger Games, #1)</td>\n",
        "      <td> 2008</td>\n",
        "      <td> 2000</td>\n",
        "    </tr>\n",
        "    <tr>\n",
        "      <th>1</th>\n",
        "      <td> Harry Potter and the Order of the Phoenix (Har...</td>\n",
        "      <td> 2003</td>\n",
        "      <td> 2000</td>\n",
        "    </tr>\n",
        "    <tr>\n",
        "      <th>2</th>\n",
        "      <td>                           Twilight (Twilight, #1)</td>\n",
        "      <td> 2005</td>\n",
        "      <td> 2000</td>\n",
        "    </tr>\n",
        "    <tr>\n",
        "      <th>3</th>\n",
        "      <td>                             To Kill a Mockingbird</td>\n",
        "      <td> 1960</td>\n",
        "      <td> 1960</td>\n",
        "    </tr>\n",
        "    <tr>\n",
        "      <th>4</th>\n",
        "      <td>                               Pride and Prejudice</td>\n",
        "      <td> 1813</td>\n",
        "      <td> 1810</td>\n",
        "    </tr>\n",
        "  </tbody>\n",
        "</table>\n",
        "</div>"
       ],
       "metadata": {},
       "output_type": "pyout",
       "prompt_number": 84,
       "text": [
        "                                                name  year  decade\n",
        "0            The Hunger Games (The Hunger Games, #1)  2008    2000\n",
        "1  Harry Potter and the Order of the Phoenix (Har...  2003    2000\n",
        "2                            Twilight (Twilight, #1)  2005    2000\n",
        "3                              To Kill a Mockingbird  1960    1960\n",
        "4                                Pride and Prejudice  1813    1810"
       ]
      }
     ],
     "prompt_number": 84
    },
    {
     "cell_type": "code",
     "collapsed": false,
     "input": [
      "dfdecade=df.groupby(decade)\n",
      "print type(dfdecade)\n",
      "dfdecade.groups[0]"
     ],
     "language": "python",
     "metadata": {},
     "outputs": [
      {
       "output_type": "stream",
       "stream": "stdout",
       "text": [
        "<class 'pandas.core.groupby.DataFrameGroupBy'>\n"
       ]
      },
      {
       "metadata": {},
       "output_type": "pyout",
       "prompt_number": 85,
       "text": [
        "[1330L, 4714L]"
       ]
      }
     ],
     "prompt_number": 85
    },
    {
     "cell_type": "code",
     "collapsed": false,
     "input": [],
     "language": "python",
     "metadata": {},
     "outputs": [],
     "prompt_number": 85
    },
    {
     "cell_type": "code",
     "collapsed": false,
     "input": [],
     "language": "python",
     "metadata": {},
     "outputs": [],
     "prompt_number": 85
    },
    {
     "cell_type": "code",
     "collapsed": false,
     "input": [
      "decade_ratings = df.groupby(decade).rating\n",
      "decade_mean=decade_ratings.mean()\n",
      "decade_mean.name = 'Decade Mean'\n",
      "print decade_mean"
     ],
     "language": "python",
     "metadata": {},
     "outputs": [
      {
       "output_type": "stream",
       "stream": "stdout",
       "text": [
        "year\n",
        "-1500    3.600000\n",
        "-800     3.845000\n",
        "-560     4.030000\n",
        "-520     3.920000\n",
        "-500     4.060000\n",
        "-460     3.960000\n",
        "-450     3.520000\n",
        "-440     3.870000\n",
        "-430     3.640000\n",
        "-420     3.830000\n",
        "-400     4.086667\n",
        "-390     4.110000\n",
        "-380     3.850000\n",
        "-370     3.990000\n",
        "-360     4.070000\n",
        "...\n",
        "1870    4.014400\n",
        "1880    3.956053\n",
        "1890    3.935946\n",
        "1900    4.005246\n",
        "1910    3.962549\n",
        "1920    4.008222\n",
        "1930    4.059375\n",
        "1940    4.061360\n",
        "1950    4.047135\n",
        "1960    4.075707\n",
        "1970    4.044161\n",
        "1980    4.031509\n",
        "1990    4.021173\n",
        "2000    4.003405\n",
        "2010    4.128055\n",
        "Name: Decade Mean, Length: 90, dtype: float64\n"
       ]
      }
     ],
     "prompt_number": 86
    },
    {
     "cell_type": "code",
     "collapsed": false,
     "input": [
      "decade_std=decade_ratings.std()"
     ],
     "language": "python",
     "metadata": {},
     "outputs": [],
     "prompt_number": 87
    },
    {
     "cell_type": "code",
     "collapsed": false,
     "input": [
      "plt.plot(decade_mean.index, decade_mean.values, 'o-',\n",
      "        color='r', lw=3, label='Decade Average')\n",
      "plt.scatter(df.year, df.rating, alpha=.04, lw=0)\n",
      "plt.fill_between(decade_mean.index, (decade_mean + decade_std).values,\n",
      "                 (decade_mean - decade_std).values, color='r', alpha=.2)\n",
      "plt.xlabel(\"Year\")\n",
      "plt.ylabel(\"Score\")\n",
      "plt.legend()\n",
      "plt.xlim([1940, 2010]);"
     ],
     "language": "python",
     "metadata": {},
     "outputs": [
      {
       "metadata": {},
       "output_type": "display_data",
       "png": "[encoded data removed]",
       "text": [
        "<matplotlib.figure.Figure at 0x10bc84d0>"
       ]
      }
     ],
     "prompt_number": 88
    },
    {
     "cell_type": "code",
     "collapsed": false,
     "input": [
      "for year, subset in df.groupby('year'):\n",
      "    print year, subset[subset.rating == subset.rating.max()].name.values"
     ],
     "language": "python",
     "metadata": {},
     "outputs": [
      {
       "output_type": "stream",
       "stream": "stdout",
       "text": [
        "-1500 ['The Epic of Gilgamesh']\n",
        "-800 ['The Iliad/The Odyssey']\n",
        "-560 [\"Aesop's Fables\"]\n",
        "-512 ['The Art of War']\n",
        "-500 ['The Bhagavad Gita']\n",
        "-458 ['The Oresteia']\n",
        "-442 ['Antigone']\n",
        "-440 ['The Histories']\n",
        "-431 ['Medea']\n",
        "-429 ['Oedipus Rex']\n",
        "-411 ['The History of the Peloponnesian War']\n",
        "-400 ['Complete Works']\n",
        "-390 ['Apology']\n",
        "-380 ['The Republic']\n",
        "-370 ['The Symposium']\n",
        "-360 ['Five Dialogues']\n",
        "-350 ['The Nicomachean Ethics']\n",
        "-29 ['The Aeneid']\n",
        "4 ['The Seven Spiritual Laws of Success']\n",
        "8 ['Metamorphoses']\n",
        "13 ['The Day Jesus Rode Into Croydon']\n",
        "100 ['The New Oxford Annotated Bible, New Revised Standard Version']\n",
        "121 ['The Twelve Caesars']\n",
        "130 ['Holy Bible']\n",
        "158 ['The Golden Ass']\n",
        "174 ['Meditations']\n",
        "200 ['The Garden of Eden']\n",
        "201 ['Fe Fi FOE Comes']\n",
        "213 ['Na\\xc3\\x83\\xc2\\xafve. Super']\n",
        "397 ['Confessions']\n",
        "632 ['The Quran']\n",
        "800 ['Beowulf']\n",
        "900 ['The Arabian Nights']\n",
        "968 ['La B\\xc3\\x83\\xc2\\xaate humaine (Les Rougon-Macquart, #17)']\n",
        "1002 ['The Pillow Book']\n",
        "1008 ['The Tale of Genji']\n",
        "1010 ['Shahnameh']\n",
        "1100 ['Rubaiyat of Omar Khayyam']\n",
        "1106 ['The T\\xc3\\x83\\xc2\\xa1in']\n",
        "1140 ['Poema de M\\xc3\\x83\\xc2\\xado Cid']\n",
        "1200 ['The Poetic Edda']\n",
        "1215 [ '\\xc3\\x99\\xc2\\x85\\xc3\\x98\\xc2\\xab\\xc3\\x99\\xc2\\x86\\xc3\\x99\\xc2\\x88\\xc3\\x9b\\xc2\\x8c \\xc3\\x99\\xc2\\x85\\xc3\\x98\\xc2\\xb9\\xc3\\x99\\xc2\\x86\\xc3\\x99\\xc2\\x88\\xc3\\x9b\\xc2\\x8c']\n",
        "1220 ['The Prose Edda']\n",
        "1300 ['The Imitation of Christ']\n",
        "1314 "
       ]
      },
      {
       "output_type": "stream",
       "stream": "stdout",
       "text": [
        "['Inferno (The Divine Comedy, #1)']\n",
        "1321 ['The Divine Comedy']\n",
        "1348 ['The Decameron']\n",
        "1386 ['Auto-da-F\\xc3\\x83\\xc2\\xa9']\n",
        "1390 ['Sir Gawain and the Green Knight']\n",
        "1391 ['Keep the Aspidistra Flying']\n",
        "1485 [\"Le Morte d'Arthur\"]\n",
        "1516 ['Utopia']\n",
        "1522 ['Three Kingdoms']\n",
        "1532 ['The Prince']\n",
        "1572 ['The Complete Essays']\n",
        "1589 ['Titus Andronicus']\n",
        "1590 ['The Taming of the Shrew']\n",
        "1592 ['Monkey']\n",
        "1595 [\"A Midsummer Night's Dream\"]\n",
        "1597 ['Richard III']\n",
        "1599 ['Much Ado About Nothing']\n",
        "1600 ['Henry V']\n",
        "1601 ['Twelfth Night']\n",
        "1602 ['Hamlet']\n",
        "1603 ['Othello']\n",
        "1604 ['Doctor Faustus']\n",
        "1605 ['King Lear']\n",
        "1606 ['Antony and Cleopatra']\n",
        "1608 ['Coriolanus']\n",
        "1609 [\"Shakespeare's Sonnets\"]\n",
        "1611 ['Holy Bible']\n",
        "1621 ['The Anatomy of Melancholy']\n",
        "1623 ['The Complete Works']\n",
        "1635 ['La vida es sue\\xc3\\x83\\xc2\\xb1o']\n",
        "1642 ['A Book of Five Rings']\n",
        "1667 ['Paradise Lost']\n",
        "1678 [\"The Pilgrim's Progress\"]\n",
        "1680 ['The Divan']\n",
        "1691 ['The Practice of the Presence of God']\n",
        "1719 ['Robinson Crusoe']\n",
        "1721 ['Moll Flanders']\n",
        "1726 [\"Gulliver's Travels\"]\n",
        "1729 ['A Modest Proposal and Other Satirical Works']\n",
        "1748 ['Clarissa, or, the History of a Young Lady']\n",
        "1749 ['The History of Tom Jones, a Foundling']\n",
        "1759 "
       ]
      },
      {
       "output_type": "stream",
       "stream": "stdout",
       "text": [
        "['Candide']\n",
        "1767 ['The Life and Opinions of Tristram Shandy, Gentleman']\n",
        "1774 ['The Sorrows of Young Werther']\n",
        "1776 [ 'The Declaration of Independence and The Constitution of the United States']\n",
        "1778 ['Evelina']\n",
        "1781 ['Critique of Pure Reason']\n",
        "1782 ['Les Liaisons Dangereuses']\n",
        "1787 ['The Constitution of the United States of America']\n",
        "1790 ['The Marriage of Heaven and Hell']\n",
        "1791 ['Dream of the Red Chamber']\n",
        "1794 ['Songs of Innocence and of Experience']\n",
        "1795 ['The Monk']\n",
        "1798 ['Lyrical Ballads']\n",
        "1806 ['Phenomenology of Spirit']\n",
        "1811 ['Sense and Sensibility']\n",
        "1812 [\"The Complete Grimm's Fairy Tales\"]\n",
        "1813 ['Pride and Prejudice']\n",
        "1814 ['Mansfield Park']\n",
        "1815 ['Emma']\n",
        "1817 ['Persuasion']\n",
        "1818 ['Frankenstein']\n",
        "1819 ['Ivanhoe']\n",
        "1820 ['The Legend of Sleepy Hollow']\n",
        "1823 ['The Night Before Christmas']\n",
        "1824 ['Don Juan']\n",
        "1825 ['Eugene Onegin']\n",
        "1826 ['The Last of the Mohicans (The Leatherstocking Tales #2)']\n",
        "1830 ['The Book of Mormon']\n",
        "1831 ['The Hunchback of Notre-Dame']\n",
        "1832 ['Faust']\n",
        "1833 ['Poetry']\n",
        "1834 ['P\\xc3\\x83\\xc2\\xa8re Goriot']\n",
        "1835 ['Hymns of The Church of Jesus Christ of Latter-day Saints']\n",
        "1837 ['A Season in Hell/The Drunken Boat']\n",
        "1839 ['A Hero of Our Time']\n",
        "1840 "
       ]
      },
      {
       "output_type": "stream",
       "stream": "stdout",
       "text": [
        "['Tales of Mystery and Imagination']\n",
        "1841 ['The Old Curiosity Shop']\n",
        "1842 ['The pit and the pendulum and other stories (Penguin 60s)']\n",
        "1843 ['Lost Illusions']\n",
        "1844 ['The Raven']\n",
        "1845 ['The Raven and Other Poems']\n",
        "1847 ['Jane Eyre']\n",
        "1848 ['White Nights and Other Stories']\n",
        "1849 ['The Law']\n",
        "1850 ['Ishmael']\n",
        "1851 ['Paris Spleen']\n",
        "1852 [\"Uncle Tom's Cabin\"]\n",
        "1853 ['The History of Joseph Smith by His Mother']\n",
        "1854 ['Walden & Civil Disobedience']\n",
        "1855 ['North and South']\n",
        "1856 ['Song of Myself']\n",
        "1857 ['Les Fleurs du Mal']\n",
        "1859 ['The Origin of Species']\n",
        "1860 ['Stepping Heavenward']\n",
        "1861 ['Notes from Underground']\n",
        "1862 ['Les Mis\\xc3\\x83\\xc2\\xa9rables']\n",
        "1863 ['From the Earth to the Moon (Extraordinary Voyages, #4)']\n",
        "1864 ['Our Mutual Friend']\n",
        "1865 [\"Alice's Adventures in Wonderland & Through the Looking-Glass\"\n",
        " 'Wives and Daughters']\n",
        "1866 ['Morning and Evening, Based on the English Standard Version']\n",
        "1867 ['Capital, Volume 1 (Das Kapital, #1)']\n",
        "1868 ['Little Women (Little Women, #1)']\n",
        "1869 ['The Idiot']\n",
        "1870 ['Complete Works']\n",
        "1871 "
       ]
      },
      {
       "output_type": "stream",
       "stream": "stdout",
       "text": [
        "[ \"Through the Looking-Glass, and What Alice Found There (Alice's Adventures in Wonderland #2)\"]\n",
        "1872 ['Middlemarch']\n",
        "1873 ['Around the World in Eighty Days']\n",
        "1874 ['The Complete Fairy Tales']\n",
        "1875 ['Illuminations']\n",
        "1876 ['The Adventures of Tom Sawyer']\n",
        "1877 [\"L'Assommoir (The Dram Shop) (The Dram Shop) (Les Rougon-Macquart, #7)\"]\n",
        "1878 ['Human, All Too Human']\n",
        "1879 ['Sir Gibbie']\n",
        "1880 ['The Brothers Karamazov']\n",
        "1881 ['The Prince and the Pauper']\n",
        "1882 ['The Gay Science']\n",
        "1883 ['Thus Spoke Zarathustra']\n",
        "1884 ['The Death of Ivan Ilych']\n",
        "1885 ['Germinal (Les Rougon-Macquart, #13)']\n",
        "1886 ['Beyond Good and Evil']\n",
        "1887 ['A Study in Scarlet (Sherlock Holmes, #1)']\n",
        "1888 ['The Complete Fairy Tales' 'The Nightingale and the Rose']\n",
        "1889 ['The Collected Poems']\n",
        "1890 ['Hunger']\n",
        "1891 ['A Scandal in Bohemia (The Adventures of Sherlock Holmes, #1)']\n",
        "1892 ['The Adventures of Sherlock Holmes (Sherlock Holmes, #3)']\n",
        "1893 ['The Memoirs of Sherlock Holmes (Sherlock Holmes, #4)']\n",
        "1894 ['The Jungle Books']\n",
        "1895 ['The Importance of Being Earnest and Other Plays']\n",
        "1896 ['Story of a Soul']\n",
        "1897 ['De Profundis and Other Writings']\n",
        "1898 ['The War of the Worlds']\n",
        "1899 ['The Complete Works of William Shakespeare']\n",
        "1900 ['Selected Stories']\n",
        "1901 ['The Tale of Peter Rabbit']\n",
        "1902 ['Holy Bible']\n",
        "1903 ['The Scarlet Pimpernel']\n",
        "1904 ['The Return of Sherlock Holmes (Sherlock Holmes, #6)']\n",
        "1905 ['A Little Princess']\n",
        "1906 [\"The Unabridged Devil's Dictionary\"]\n",
        "1907 ['The Shepherd of the Hills']\n",
        "1908 ['The Complete Anne of Green Gables Boxed Set (Anne of Green Gables, #1-8)']\n",
        "1909 ['Martin Eden']\n",
        "1910 ['Gitanjali']\n",
        "1911 ['The Secret Garden']\n",
        "1912 ['Daddy-Long-Legs (Daddy-Long-Legs, #1)']\n",
        "1913 "
       ]
      },
      {
       "output_type": "stream",
       "stream": "stdout",
       "text": [
        "['In the Shadow of Young Girls in Flower (In Search of Lost Time, #2)']\n",
        "1914 ['Rashomon and Seventeen Other Stories']\n",
        "1915 ['Jesus the Christ']\n",
        "1916 ['The Mysterious Stranger']\n",
        "1917 [\"Anne's House of Dreams (Anne of Green Gables, #5)\"]\n",
        "1918 ['The Elements of Style']\n",
        "1919 ['Remembrance of Things Past']\n",
        "1920 ['The Guermantes Way']\n",
        "1921 ['Rilla of Ingleside (Anne of Green Gables, #8)']\n",
        "1922 ['Remembrance of Things Past']\n",
        "1923 ['Leave It to Psmith (Psmith, #4 ; Blandings Castle, #2)']\n",
        "1924 ['The Complete Sherlock Holmes']\n",
        "1925 ['The Captive & The Fugitive (In Search of Lost Time, #5-6)']\n",
        "1926 ['The World of Winnie-the-Pooh']\n",
        "1927 ['Time Regained (In Search of Lost Time, #7)']\n",
        "1928 ['The House at Pooh Corner']\n",
        "1929 ['Letters to a Young Poet']\n",
        "1930 ['The Complete Sherlock Holmes, Volume II']\n",
        "1931 ['The Joy of Cooking']\n",
        "1932 ['Journey to the End of the Night']\n",
        "1933 ['The Complete Novels']\n",
        "1934 ['I, Claudius/Claudius the God']\n",
        "1935 ['Musashi']\n",
        "1936 ['Three Comrades']\n",
        "1937 ['The Cost of Discipleship']\n",
        "1938 ['The Science of Mind']\n",
        "1939 ['Arch of Triumph']\n",
        "1940 ['The Little Prince']\n",
        "1941 [ '\\xc3\\x98\\xc2\\xb9\\xc3\\x98\\xc2\\xa8\\xc3\\x99\\xc2\\x82\\xc3\\x98\\xc2\\xb1\\xc3\\x99\\xc2\\x8a\\xc3\\x98\\xc2\\xa9 \\xc3\\x98\\xc2\\xb9\\xc3\\x99\\xc2\\x85\\xc3\\x98\\xc2\\xb1']\n",
        "1942 ['The Little House']\n",
        "1943 ['K\\xc3\\x83\\xc2\\xbcrk Mantolu Madonna']\n",
        "1944 ['Ficciones']\n",
        "1945 ['The Aleph and Other Stories']\n",
        "1946 ['The Complete Stories']\n",
        "1947 ['Survival in Auschwitz']\n",
        "1948 ['King of the Wind']\n",
        "1949 ['Paroles']\n",
        "1950 [ '\\xc3\\xa0\\xc2\\xae\\xc2\\xaa\\xc3\\xa0\\xc2\\xaf\\xc2\\x8a\\xc3\\xa0\\xc2\\xae\\xc2\\xa9\\xc3\\xa0\\xc2\\xaf\\xc2\\x8d\\xc3\\xa0\\xc2\\xae\\xc2\\xa9\\xc3\\xa0\\xc2\\xae\\xc2\\xbf\\xc3\\xa0\\xc2\\xae\\xc2\\xaf\\xc3\\xa0\\xc2\\xae\\xc2\\xbf\\xc3\\xa0\\xc2\\xae\\xc2\\xa9\\xc3\\xa0\\xc2\\xaf\\xc2\\x8d \\xc3\\xa0\\xc2\\xae\\xc2\\x9a\\xc3\\xa0\\xc2\\xaf\\xc2\\x86\\xc3\\xa0\\xc2\\xae\\xc2\\xb2\\xc3\\xa0\\xc2\\xaf\\xc2\\x8d\\xc3\\xa0\\xc2\\xae\\xc2\\xb5\\xc3\\xa0\\xc2\\xae\\xc2\\xa9\\xc3\\xa0\\xc2\\xaf\\xc2\\x8d [Ponniyin Selvan]']\n",
        "1951 ['The Foundation Trilogy (Foundation, #1-3)']\n",
        "1952 ['Holy Bible']\n",
        "1953 ['The Flight of the Feathered Serpent']\n",
        "1954 ['The Return of the King (The Lord of the Rings, #3)']\n",
        "1955 ['Les rois maudits Vols 1-7']"
       ]
      },
      {
       "output_type": "stream",
       "stream": "stdout",
       "text": [
        "\n",
        "1956 ['Through Gates of Splendor']\n",
        "1957 ['The Cairo Trilogy (The Cairo Trilogy #1-3)']\n",
        "1958 ['Exodus']\n",
        "1959 ['Life and Fate' '100 Love Sonnets']\n",
        "1960 ['The Annotated Alice']\n",
        "1961 ['New World Translation of the Holy Scriptures']\n",
        "1962 ['Labyrinths']\n",
        "1963 ['The Civil War']\n",
        "1964 ['The Feynman Lectures on Physics']\n",
        "1965 ['Manchild in the Promised Land']\n",
        "1966 ['The Disorderly Knights (The Lymond Chronicles, #3)']\n",
        "1967 ['The Master and Margarita' 'The Forgotten Soldier']\n",
        "1968 ['The Proper Role of Government']\n",
        "1969 ['Pawn in Frankincense (The Lymond Chronicles, #4)']\n",
        "1970 ['The Fortress']\n",
        "1971 ['Tutunamayanlar']\n",
        "1972 ['Le Monogramme']\n",
        "1973 ['J.R.R. Tolkien 4-Book Boxed Set']\n",
        "1974 ['The Power Broker']\n",
        "1975 ['Checkmate (The Lymond Chronicles, #6)']\n",
        "1976 ['Roots']\n",
        "1977 [\"A Lover's Discourse\"]\n",
        "1978 ['The Best of Roald Dahl']\n",
        "1979 ['G\\xc3\\x83\\xc2\\xb6del, Escher, Bach']\n",
        "1980 ['Cosmos']\n",
        "1981 ['The Lord God Made Them All']\n",
        "1982 ['The Book of Disquiet']\n",
        "1983 ['Essays and Lectures']\n",
        "1984 [ '\\xc3\\x98\\xc2\\xa7\\xc3\\x99\\xc2\\x84\\xc3\\x98\\xc2\\xa5\\xc3\\x98\\xc2\\xb3\\xc3\\x99\\xc2\\x84\\xc3\\x98\\xc2\\xa7\\xc3\\x99\\xc2\\x85 \\xc3\\x98\\xc2\\xa8\\xc3\\x99\\xc2\\x8a\\xc3\\x99\\xc2\\x86 \\xc3\\x98\\xc2\\xa7\\xc3\\x99\\xc2\\x84\\xc3\\x98\\xc2\\xb4\\xc3\\x98\\xc2\\xb1\\xc3\\x99\\xc2\\x82 \\xc3\\x99\\xc2\\x88\\xc3\\x98\\xc2\\xa7\\xc3\\x99\\xc2\\x84\\xc3\\x98\\xc2\\xba\\xc3\\x98\\xc2\\xb1\\xc3\\x98\\xc2\\xa8']\n",
        "1985 ['Lonesome Dove']\n",
        "1986 [\"The Hitchhiker's Guide to the Galaxy\"]\n",
        "1987 ['Calvin and Hobbes']\n",
        "1988 ['The Essential Calvin and Hobbes']\n",
        "1989 ['The Hobbit']\n",
        "1990 ['The Authoritative Calvin And Hobbes']\n",
        "1991 ['Rain of Gold']\n",
        "1992 ['The Indispensable Calvin and Hobbes']\n",
        "1993 ['Mark of the Lion Trilogy']\n",
        "1994 ['The Complete Aubrey/Maturin Novels (5 Volumes)']\n",
        "1995 ['The Calvin and Hobbes Tenth Anniversary Book']\n",
        "1996 ['Calvin and Hobbes']\n",
        "1997 "
       ]
      },
      {
       "output_type": "stream",
       "stream": "stdout",
       "text": [
        "['The Song of the Lioness Quartet (Song of the Lioness, #1-4)']\n",
        "1998 ['Harry Potter Boxset (Harry Potter, #1-7)']\n",
        "1999 ['The Harry Potter Collection (Harry Potter, #1-4)']\n",
        "2000 ['Standing for Something']\n",
        "2001 ['A Storm of Swords (A Song of Ice and Fire, #3-1)']\n",
        "2002 "
       ]
      },
      {
       "output_type": "stream",
       "stream": "stdout",
       "text": [
        "['Way to Be!']\n",
        "2003 ['The Complete Far Side, 1980-1994']\n",
        "2004 [ '\\xc3\\x99\\xc2\\xbe\\xc3\\x9b\\xc2\\x8c\\xc3\\x98\\xc2\\xb1\\xc3\\x99\\xc2\\x90 \\xc3\\x9a\\xc2\\xa9\\xc3\\x98\\xc2\\xa7\\xc3\\x99\\xc2\\x85\\xc3\\x99\\xc2\\x84']\n",
        "2005 ['The Complete Calvin and Hobbes']\n",
        "2006 ['Warriors Boxed Set (Warriors, #1-3)']\n",
        "2007 ['ESV Study Bible']\n",
        "2008 ['The Absolute Sandman, Vol. 4']\n",
        "2009 ['Black Dagger Brotherhood']\n",
        "2010 ['The Years Distilled']\n",
        "2011 ['Family Secrets']\n",
        "2012 ['A Book About Absolutely Nothing.' 'Obscured Darkness (Family Secrets #2)'\n",
        " \"Patience's Love\" 'Abstraction In Theory - Laws Of Physical Transaction']\n",
        "2013 ['Blade Heart']\n",
        "2014 ['An Elephant Is On My House' 'Untainted (Photographer Trilogy, #3)']\n"
       ]
      }
     ],
     "prompt_number": 89
    },
    {
     "cell_type": "code",
     "collapsed": false,
     "input": [
      "df.genres"
     ],
     "language": "python",
     "metadata": {},
     "outputs": [
      {
       "metadata": {},
       "output_type": "pyout",
       "prompt_number": 90,
       "text": [
        "0     young-adult|science-fiction|dystopia|fantasy|s...\n",
        "1     fantasy|young-adult|fiction|fantasy|magic|chil...\n",
        "2     young-adult|fantasy|romance|paranormal|vampire...\n",
        "3     classics|fiction|historical-fiction|academic|s...\n",
        "4     classics|fiction|romance|historical-fiction|li...\n",
        "5     classics|historical-fiction|fiction|romance|li...\n",
        "6     classics|young-adult|childrens|christian|adven...\n",
        "7     childrens|young-adult|childrens|picture-books|...\n",
        "8     classics|fiction|science-fiction|dystopia|lite...\n",
        "9     science-fiction|humor|fantasy|classics|humor|c...\n",
        "10    fiction|historical-fiction|romance|cultural|ja...\n",
        "11    mystery|thriller|suspense|historical-fiction|a...\n",
        "12    historical-fiction|young-adult|fiction|book-cl...\n",
        "13    classics|childrens|young-adult|literature|adve...\n",
        "14    classics|plays|fiction|romance|academic|school...\n",
        "...\n",
        "5978    fiction|young-adult|book-club|young-adult|youn...\n",
        "5979    young-adult|fantasy|paranormal|shapeshifters|w...\n",
        "5980    economics|non-fiction|politics|business|philos...\n",
        "5981    science-fiction|fantasy|fiction|classics|scien...\n",
        "5982    european-literature|spanish-literature|drama|f...\n",
        "5983    non-fiction|economics|history|biography|politi...\n",
        "5984    novels|fiction|religion|literature|philosophy|...\n",
        "5985    christian-fiction|christian|young-adult|fictio...\n",
        "5986    mystery|mystery|crime|thriller|suspense|thrill...\n",
        "5987    poetry|religion|christian|religion|theology|re...\n",
        "5988    history|non-fiction|biography|adventure|book-c...\n",
        "5989    young-adult|realistic-fiction|romance|contempo...\n",
        "5990    contemporary|romance|young-adult|sociology|abu...\n",
        "5991    religion|islam|religion|self-help|spirituality...\n",
        "5992    fiction|fantasy|magic|science-fiction-fantasy|...\n",
        "Name: genres, Length: 5993, dtype: object"
       ]
      }
     ],
     "prompt_number": 90
    },
    {
     "cell_type": "code",
     "collapsed": false,
     "input": [
      "genres = set()\n",
      "for m in df.genres:\n",
      "    genres.update(g for g in m.split('|'))\n",
      "genres = sorted(genres)\n",
      "\n",
      "for genre in genres:\n",
      "    df[\"genre:\"+genre] = [genre in g.split('|') for g in df.genres]\n",
      "         \n",
      "df.head()"
     ],
     "language": "python",
     "metadata": {},
     "outputs": [
      {
       "html": [
        "<div style=\"max-height:1000px;max-width:1500px;overflow:auto;\">\n",
        "<table border=\"1\" class=\"dataframe\">\n",
        "  <thead>\n",
        "    <tr style=\"text-align: right;\">\n",
        "      <th></th>\n",
        "      <th>rating</th>\n",
        "      <th>review_count</th>\n",
        "      <th>isbn</th>\n",
        "      <th>booktype</th>\n",
        "      <th>author_url</th>\n",
        "      <th>year</th>\n",
        "      <th>genre_urls</th>\n",
        "      <th>dir</th>\n",
        "      <th>rating_count</th>\n",
        "      <th>name</th>\n",
        "      <th>author</th>\n",
        "      <th>genres</th>\n",
        "      <th>genre:</th>\n",
        "      <th>genre:14th-century</th>\n",
        "      <th>genre:15th-century</th>\n",
        "      <th>genre:16th-century</th>\n",
        "      <th>genre:17th-century</th>\n",
        "      <th>genre:18th-century</th>\n",
        "      <th>genre:19th-century</th>\n",
        "      <th>genre:20th-century</th>\n",
        "      <th>genre:abuse</th>\n",
        "      <th>genre:academia</th>\n",
        "      <th>genre:academic</th>\n",
        "      <th>genre:action</th>\n",
        "      <th>genre:activism</th>\n",
        "      <th>genre:adolescence</th>\n",
        "      <th>genre:adoption</th>\n",
        "      <th>genre:adult</th>\n",
        "      <th>genre:adult-fiction</th>\n",
        "      <th>genre:adventure</th>\n",
        "      <th>genre:africa</th>\n",
        "      <th>genre:african-american</th>\n",
        "      <th>genre:african-american-literature</th>\n",
        "      <th>genre:african-literature</th>\n",
        "      <th>genre:aliens</th>\n",
        "      <th>genre:alternate-history</th>\n",
        "      <th>genre:american</th>\n",
        "      <th>genre:american-civil-war</th>\n",
        "      <th>genre:american-fiction</th>\n",
        "      <th>genre:american-history</th>\n",
        "      <th>genre:american-novels</th>\n",
        "      <th>genre:americana</th>\n",
        "      <th>genre:anarchism</th>\n",
        "      <th>genre:ancient</th>\n",
        "      <th>genre:angels</th>\n",
        "      <th>genre:animal-fiction</th>\n",
        "      <th>genre:animals</th>\n",
        "      <th>genre:anime</th>\n",
        "      <th>genre:anthologies</th>\n",
        "      <th>genre:anthropology</th>\n",
        "      <th>...</th>\n",
        "      <th>genre:time-travel-romance</th>\n",
        "      <th>genre:tragedy</th>\n",
        "      <th>genre:trans</th>\n",
        "      <th>genre:transgender</th>\n",
        "      <th>genre:travel</th>\n",
        "      <th>genre:travelogue</th>\n",
        "      <th>genre:true-crime</th>\n",
        "      <th>genre:true-story</th>\n",
        "      <th>genre:turkish</th>\n",
        "      <th>genre:turkish-literature</th>\n",
        "      <th>genre:ukraine</th>\n",
        "      <th>genre:unicorns</th>\n",
        "      <th>genre:united-states</th>\n",
        "      <th>genre:urban-fantasy</th>\n",
        "      <th>genre:urban-planning</th>\n",
        "      <th>genre:urbanism</th>\n",
        "      <th>genre:us-presidents</th>\n",
        "      <th>genre:utopia</th>\n",
        "      <th>genre:vampires</th>\n",
        "      <th>genre:vegan</th>\n",
        "      <th>genre:video-games</th>\n",
        "      <th>genre:walking</th>\n",
        "      <th>genre:war</th>\n",
        "      <th>genre:weird-fiction</th>\n",
        "      <th>genre:werewolves</th>\n",
        "      <th>genre:western</th>\n",
        "      <th>genre:western-romance</th>\n",
        "      <th>genre:wicca</th>\n",
        "      <th>genre:wilderness</th>\n",
        "      <th>genre:wildlife</th>\n",
        "      <th>genre:witches</th>\n",
        "      <th>genre:wizards</th>\n",
        "      <th>genre:wolves</th>\n",
        "      <th>genre:womens</th>\n",
        "      <th>genre:womens-fiction</th>\n",
        "      <th>genre:womens-studies</th>\n",
        "      <th>genre:world-history</th>\n",
        "      <th>genre:world-war-ii</th>\n",
        "      <th>genre:writing</th>\n",
        "      <th>genre:x-men</th>\n",
        "      <th>genre:young-adult</th>\n",
        "      <th>genre:young-adult-contemporary</th>\n",
        "      <th>genre:young-adult-fantasy</th>\n",
        "      <th>genre:young-adult-historical-fiction</th>\n",
        "      <th>genre:young-adult-paranormal</th>\n",
        "      <th>genre:young-adult-romance</th>\n",
        "      <th>genre:young-adult-science-fiction</th>\n",
        "      <th>genre:young-readers</th>\n",
        "      <th>genre:zen</th>\n",
        "      <th>genre:zombies</th>\n",
        "    </tr>\n",
        "  </thead>\n",
        "  <tbody>\n",
        "    <tr>\n",
        "      <th>0</th>\n",
        "      <td> 4.40</td>\n",
        "      <td> 136455</td>\n",
        "      <td> 0439023483</td>\n",
        "      <td> book</td>\n",
        "      <td> https://www.goodreads.com/author/show/153394.S...</td>\n",
        "      <td> 2008</td>\n",
        "      <td> /genres/young-adult|/genres/science-fiction|/g...</td>\n",
        "      <td>               dir01/2767052-the-hunger-games.html</td>\n",
        "      <td> 2958974</td>\n",
        "      <td>           The Hunger Games (The Hunger Games, #1)</td>\n",
        "      <td> Suzanne_Collins</td>\n",
        "      <td> young-adult|science-fiction|dystopia|fantasy|s...</td>\n",
        "      <td> False</td>\n",
        "      <td> False</td>\n",
        "      <td> False</td>\n",
        "      <td> False</td>\n",
        "      <td> False</td>\n",
        "      <td> False</td>\n",
        "      <td> False</td>\n",
        "      <td> False</td>\n",
        "      <td> False</td>\n",
        "      <td> False</td>\n",
        "      <td> False</td>\n",
        "      <td>  True</td>\n",
        "      <td> False</td>\n",
        "      <td> False</td>\n",
        "      <td> False</td>\n",
        "      <td> False</td>\n",
        "      <td> False</td>\n",
        "      <td>  True</td>\n",
        "      <td> False</td>\n",
        "      <td> False</td>\n",
        "      <td> False</td>\n",
        "      <td> False</td>\n",
        "      <td> False</td>\n",
        "      <td> False</td>\n",
        "      <td> False</td>\n",
        "      <td> False</td>\n",
        "      <td> False</td>\n",
        "      <td> False</td>\n",
        "      <td> False</td>\n",
        "      <td> False</td>\n",
        "      <td> False</td>\n",
        "      <td> False</td>\n",
        "      <td> False</td>\n",
        "      <td> False</td>\n",
        "      <td> False</td>\n",
        "      <td> False</td>\n",
        "      <td> False</td>\n",
        "      <td> False</td>\n",
        "      <td>...</td>\n",
        "      <td> False</td>\n",
        "      <td> False</td>\n",
        "      <td> False</td>\n",
        "      <td> False</td>\n",
        "      <td> False</td>\n",
        "      <td> False</td>\n",
        "      <td> False</td>\n",
        "      <td> False</td>\n",
        "      <td> False</td>\n",
        "      <td> False</td>\n",
        "      <td> False</td>\n",
        "      <td> False</td>\n",
        "      <td> False</td>\n",
        "      <td> False</td>\n",
        "      <td> False</td>\n",
        "      <td> False</td>\n",
        "      <td> False</td>\n",
        "      <td> False</td>\n",
        "      <td> False</td>\n",
        "      <td> False</td>\n",
        "      <td> False</td>\n",
        "      <td> False</td>\n",
        "      <td> False</td>\n",
        "      <td> False</td>\n",
        "      <td> False</td>\n",
        "      <td> False</td>\n",
        "      <td> False</td>\n",
        "      <td> False</td>\n",
        "      <td> False</td>\n",
        "      <td> False</td>\n",
        "      <td> False</td>\n",
        "      <td> False</td>\n",
        "      <td> False</td>\n",
        "      <td> False</td>\n",
        "      <td> False</td>\n",
        "      <td> False</td>\n",
        "      <td> False</td>\n",
        "      <td> False</td>\n",
        "      <td> False</td>\n",
        "      <td> False</td>\n",
        "      <td>  True</td>\n",
        "      <td> False</td>\n",
        "      <td> False</td>\n",
        "      <td> False</td>\n",
        "      <td> False</td>\n",
        "      <td> False</td>\n",
        "      <td> False</td>\n",
        "      <td> False</td>\n",
        "      <td> False</td>\n",
        "      <td> False</td>\n",
        "    </tr>\n",
        "    <tr>\n",
        "      <th>1</th>\n",
        "      <td> 4.41</td>\n",
        "      <td>  16648</td>\n",
        "      <td> 0439358078</td>\n",
        "      <td> book</td>\n",
        "      <td> https://www.goodreads.com/author/show/1077326....</td>\n",
        "      <td> 2003</td>\n",
        "      <td> /genres/fantasy|/genres/young-adult|/genres/fi...</td>\n",
        "      <td> dir01/2.Harry_Potter_and_the_Order_of_the_Phoe...</td>\n",
        "      <td> 1284478</td>\n",
        "      <td> Harry Potter and the Order of the Phoenix (Har...</td>\n",
        "      <td>     J_K_Rowling</td>\n",
        "      <td> fantasy|young-adult|fiction|fantasy|magic|chil...</td>\n",
        "      <td> False</td>\n",
        "      <td> False</td>\n",
        "      <td> False</td>\n",
        "      <td> False</td>\n",
        "      <td> False</td>\n",
        "      <td> False</td>\n",
        "      <td> False</td>\n",
        "      <td> False</td>\n",
        "      <td> False</td>\n",
        "      <td> False</td>\n",
        "      <td> False</td>\n",
        "      <td> False</td>\n",
        "      <td> False</td>\n",
        "      <td> False</td>\n",
        "      <td> False</td>\n",
        "      <td> False</td>\n",
        "      <td> False</td>\n",
        "      <td>  True</td>\n",
        "      <td> False</td>\n",
        "      <td> False</td>\n",
        "      <td> False</td>\n",
        "      <td> False</td>\n",
        "      <td> False</td>\n",
        "      <td> False</td>\n",
        "      <td> False</td>\n",
        "      <td> False</td>\n",
        "      <td> False</td>\n",
        "      <td> False</td>\n",
        "      <td> False</td>\n",
        "      <td> False</td>\n",
        "      <td> False</td>\n",
        "      <td> False</td>\n",
        "      <td> False</td>\n",
        "      <td> False</td>\n",
        "      <td> False</td>\n",
        "      <td> False</td>\n",
        "      <td> False</td>\n",
        "      <td> False</td>\n",
        "      <td>...</td>\n",
        "      <td> False</td>\n",
        "      <td> False</td>\n",
        "      <td> False</td>\n",
        "      <td> False</td>\n",
        "      <td> False</td>\n",
        "      <td> False</td>\n",
        "      <td> False</td>\n",
        "      <td> False</td>\n",
        "      <td> False</td>\n",
        "      <td> False</td>\n",
        "      <td> False</td>\n",
        "      <td> False</td>\n",
        "      <td> False</td>\n",
        "      <td> False</td>\n",
        "      <td> False</td>\n",
        "      <td> False</td>\n",
        "      <td> False</td>\n",
        "      <td> False</td>\n",
        "      <td> False</td>\n",
        "      <td> False</td>\n",
        "      <td> False</td>\n",
        "      <td> False</td>\n",
        "      <td> False</td>\n",
        "      <td> False</td>\n",
        "      <td> False</td>\n",
        "      <td> False</td>\n",
        "      <td> False</td>\n",
        "      <td> False</td>\n",
        "      <td> False</td>\n",
        "      <td> False</td>\n",
        "      <td> False</td>\n",
        "      <td> False</td>\n",
        "      <td> False</td>\n",
        "      <td> False</td>\n",
        "      <td> False</td>\n",
        "      <td> False</td>\n",
        "      <td> False</td>\n",
        "      <td> False</td>\n",
        "      <td> False</td>\n",
        "      <td> False</td>\n",
        "      <td>  True</td>\n",
        "      <td> False</td>\n",
        "      <td> False</td>\n",
        "      <td> False</td>\n",
        "      <td> False</td>\n",
        "      <td> False</td>\n",
        "      <td> False</td>\n",
        "      <td> False</td>\n",
        "      <td> False</td>\n",
        "      <td> False</td>\n",
        "    </tr>\n",
        "    <tr>\n",
        "      <th>2</th>\n",
        "      <td> 3.56</td>\n",
        "      <td>  85746</td>\n",
        "      <td> 0316015849</td>\n",
        "      <td> book</td>\n",
        "      <td> https://www.goodreads.com/author/show/941441.S...</td>\n",
        "      <td> 2005</td>\n",
        "      <td> /genres/young-adult|/genres/fantasy|/genres/ro...</td>\n",
        "      <td>                         dir01/41865.Twilight.html</td>\n",
        "      <td> 2579564</td>\n",
        "      <td>                           Twilight (Twilight, #1)</td>\n",
        "      <td> Stephenie_Meyer</td>\n",
        "      <td> young-adult|fantasy|romance|paranormal|vampire...</td>\n",
        "      <td> False</td>\n",
        "      <td> False</td>\n",
        "      <td> False</td>\n",
        "      <td> False</td>\n",
        "      <td> False</td>\n",
        "      <td> False</td>\n",
        "      <td> False</td>\n",
        "      <td> False</td>\n",
        "      <td> False</td>\n",
        "      <td> False</td>\n",
        "      <td> False</td>\n",
        "      <td> False</td>\n",
        "      <td> False</td>\n",
        "      <td> False</td>\n",
        "      <td> False</td>\n",
        "      <td> False</td>\n",
        "      <td> False</td>\n",
        "      <td> False</td>\n",
        "      <td> False</td>\n",
        "      <td> False</td>\n",
        "      <td> False</td>\n",
        "      <td> False</td>\n",
        "      <td> False</td>\n",
        "      <td> False</td>\n",
        "      <td> False</td>\n",
        "      <td> False</td>\n",
        "      <td> False</td>\n",
        "      <td> False</td>\n",
        "      <td> False</td>\n",
        "      <td> False</td>\n",
        "      <td> False</td>\n",
        "      <td> False</td>\n",
        "      <td> False</td>\n",
        "      <td> False</td>\n",
        "      <td> False</td>\n",
        "      <td> False</td>\n",
        "      <td> False</td>\n",
        "      <td> False</td>\n",
        "      <td>...</td>\n",
        "      <td> False</td>\n",
        "      <td> False</td>\n",
        "      <td> False</td>\n",
        "      <td> False</td>\n",
        "      <td> False</td>\n",
        "      <td> False</td>\n",
        "      <td> False</td>\n",
        "      <td> False</td>\n",
        "      <td> False</td>\n",
        "      <td> False</td>\n",
        "      <td> False</td>\n",
        "      <td> False</td>\n",
        "      <td> False</td>\n",
        "      <td>  True</td>\n",
        "      <td> False</td>\n",
        "      <td> False</td>\n",
        "      <td> False</td>\n",
        "      <td> False</td>\n",
        "      <td>  True</td>\n",
        "      <td> False</td>\n",
        "      <td> False</td>\n",
        "      <td> False</td>\n",
        "      <td> False</td>\n",
        "      <td> False</td>\n",
        "      <td> False</td>\n",
        "      <td> False</td>\n",
        "      <td> False</td>\n",
        "      <td> False</td>\n",
        "      <td> False</td>\n",
        "      <td> False</td>\n",
        "      <td> False</td>\n",
        "      <td> False</td>\n",
        "      <td> False</td>\n",
        "      <td> False</td>\n",
        "      <td> False</td>\n",
        "      <td> False</td>\n",
        "      <td> False</td>\n",
        "      <td> False</td>\n",
        "      <td> False</td>\n",
        "      <td> False</td>\n",
        "      <td>  True</td>\n",
        "      <td> False</td>\n",
        "      <td> False</td>\n",
        "      <td> False</td>\n",
        "      <td> False</td>\n",
        "      <td> False</td>\n",
        "      <td> False</td>\n",
        "      <td> False</td>\n",
        "      <td> False</td>\n",
        "      <td> False</td>\n",
        "    </tr>\n",
        "    <tr>\n",
        "      <th>3</th>\n",
        "      <td> 4.23</td>\n",
        "      <td>  47906</td>\n",
        "      <td> 0061120081</td>\n",
        "      <td> book</td>\n",
        "      <td> https://www.goodreads.com/author/show/1825.Har...</td>\n",
        "      <td> 1960</td>\n",
        "      <td> /genres/classics|/genres/fiction|/genres/histo...</td>\n",
        "      <td>             dir01/2657.To_Kill_a_Mockingbird.html</td>\n",
        "      <td> 2078123</td>\n",
        "      <td>                             To Kill a Mockingbird</td>\n",
        "      <td>      Harper_Lee</td>\n",
        "      <td> classics|fiction|historical-fiction|academic|s...</td>\n",
        "      <td> False</td>\n",
        "      <td> False</td>\n",
        "      <td> False</td>\n",
        "      <td> False</td>\n",
        "      <td> False</td>\n",
        "      <td> False</td>\n",
        "      <td> False</td>\n",
        "      <td> False</td>\n",
        "      <td> False</td>\n",
        "      <td> False</td>\n",
        "      <td>  True</td>\n",
        "      <td> False</td>\n",
        "      <td> False</td>\n",
        "      <td> False</td>\n",
        "      <td> False</td>\n",
        "      <td> False</td>\n",
        "      <td> False</td>\n",
        "      <td> False</td>\n",
        "      <td> False</td>\n",
        "      <td> False</td>\n",
        "      <td> False</td>\n",
        "      <td> False</td>\n",
        "      <td> False</td>\n",
        "      <td> False</td>\n",
        "      <td> False</td>\n",
        "      <td> False</td>\n",
        "      <td> False</td>\n",
        "      <td> False</td>\n",
        "      <td> False</td>\n",
        "      <td> False</td>\n",
        "      <td> False</td>\n",
        "      <td> False</td>\n",
        "      <td> False</td>\n",
        "      <td> False</td>\n",
        "      <td> False</td>\n",
        "      <td> False</td>\n",
        "      <td> False</td>\n",
        "      <td> False</td>\n",
        "      <td>...</td>\n",
        "      <td> False</td>\n",
        "      <td> False</td>\n",
        "      <td> False</td>\n",
        "      <td> False</td>\n",
        "      <td> False</td>\n",
        "      <td> False</td>\n",
        "      <td> False</td>\n",
        "      <td> False</td>\n",
        "      <td> False</td>\n",
        "      <td> False</td>\n",
        "      <td> False</td>\n",
        "      <td> False</td>\n",
        "      <td> False</td>\n",
        "      <td> False</td>\n",
        "      <td> False</td>\n",
        "      <td> False</td>\n",
        "      <td> False</td>\n",
        "      <td> False</td>\n",
        "      <td> False</td>\n",
        "      <td> False</td>\n",
        "      <td> False</td>\n",
        "      <td> False</td>\n",
        "      <td> False</td>\n",
        "      <td> False</td>\n",
        "      <td> False</td>\n",
        "      <td> False</td>\n",
        "      <td> False</td>\n",
        "      <td> False</td>\n",
        "      <td> False</td>\n",
        "      <td> False</td>\n",
        "      <td> False</td>\n",
        "      <td> False</td>\n",
        "      <td> False</td>\n",
        "      <td> False</td>\n",
        "      <td> False</td>\n",
        "      <td> False</td>\n",
        "      <td> False</td>\n",
        "      <td> False</td>\n",
        "      <td> False</td>\n",
        "      <td> False</td>\n",
        "      <td>  True</td>\n",
        "      <td> False</td>\n",
        "      <td> False</td>\n",
        "      <td> False</td>\n",
        "      <td> False</td>\n",
        "      <td> False</td>\n",
        "      <td> False</td>\n",
        "      <td> False</td>\n",
        "      <td> False</td>\n",
        "      <td> False</td>\n",
        "    </tr>\n",
        "    <tr>\n",
        "      <th>4</th>\n",
        "      <td> 4.23</td>\n",
        "      <td>  34772</td>\n",
        "      <td> 0679783261</td>\n",
        "      <td> book</td>\n",
        "      <td> https://www.goodreads.com/author/show/1265.Jan...</td>\n",
        "      <td> 1813</td>\n",
        "      <td> /genres/classics|/genres/fiction|/genres/roman...</td>\n",
        "      <td>               dir01/1885.Pride_and_Prejudice.html</td>\n",
        "      <td> 1388992</td>\n",
        "      <td>                               Pride and Prejudice</td>\n",
        "      <td>     Jane_Austen</td>\n",
        "      <td> classics|fiction|romance|historical-fiction|li...</td>\n",
        "      <td> False</td>\n",
        "      <td> False</td>\n",
        "      <td> False</td>\n",
        "      <td> False</td>\n",
        "      <td> False</td>\n",
        "      <td> False</td>\n",
        "      <td> False</td>\n",
        "      <td> False</td>\n",
        "      <td> False</td>\n",
        "      <td> False</td>\n",
        "      <td>  True</td>\n",
        "      <td> False</td>\n",
        "      <td> False</td>\n",
        "      <td> False</td>\n",
        "      <td> False</td>\n",
        "      <td>  True</td>\n",
        "      <td> False</td>\n",
        "      <td> False</td>\n",
        "      <td> False</td>\n",
        "      <td> False</td>\n",
        "      <td> False</td>\n",
        "      <td> False</td>\n",
        "      <td> False</td>\n",
        "      <td> False</td>\n",
        "      <td> False</td>\n",
        "      <td> False</td>\n",
        "      <td> False</td>\n",
        "      <td> False</td>\n",
        "      <td> False</td>\n",
        "      <td> False</td>\n",
        "      <td> False</td>\n",
        "      <td> False</td>\n",
        "      <td> False</td>\n",
        "      <td> False</td>\n",
        "      <td> False</td>\n",
        "      <td> False</td>\n",
        "      <td> False</td>\n",
        "      <td> False</td>\n",
        "      <td>...</td>\n",
        "      <td> False</td>\n",
        "      <td> False</td>\n",
        "      <td> False</td>\n",
        "      <td> False</td>\n",
        "      <td> False</td>\n",
        "      <td> False</td>\n",
        "      <td> False</td>\n",
        "      <td> False</td>\n",
        "      <td> False</td>\n",
        "      <td> False</td>\n",
        "      <td> False</td>\n",
        "      <td> False</td>\n",
        "      <td> False</td>\n",
        "      <td> False</td>\n",
        "      <td> False</td>\n",
        "      <td> False</td>\n",
        "      <td> False</td>\n",
        "      <td> False</td>\n",
        "      <td> False</td>\n",
        "      <td> False</td>\n",
        "      <td> False</td>\n",
        "      <td> False</td>\n",
        "      <td> False</td>\n",
        "      <td> False</td>\n",
        "      <td> False</td>\n",
        "      <td> False</td>\n",
        "      <td> False</td>\n",
        "      <td> False</td>\n",
        "      <td> False</td>\n",
        "      <td> False</td>\n",
        "      <td> False</td>\n",
        "      <td> False</td>\n",
        "      <td> False</td>\n",
        "      <td> False</td>\n",
        "      <td> False</td>\n",
        "      <td> False</td>\n",
        "      <td> False</td>\n",
        "      <td> False</td>\n",
        "      <td> False</td>\n",
        "      <td> False</td>\n",
        "      <td> False</td>\n",
        "      <td> False</td>\n",
        "      <td> False</td>\n",
        "      <td> False</td>\n",
        "      <td> False</td>\n",
        "      <td> False</td>\n",
        "      <td> False</td>\n",
        "      <td> False</td>\n",
        "      <td> False</td>\n",
        "      <td> False</td>\n",
        "    </tr>\n",
        "  </tbody>\n",
        "</table>\n",
        "<p>5 rows \u00d7 550 columns</p>\n",
        "</div>"
       ],
       "metadata": {},
       "output_type": "pyout",
       "prompt_number": 91,
       "text": [
        "   rating  review_count        isbn booktype                                         author_url  year                                         genre_urls                                                dir  rating_count                                               name           author                                             genres genre: genre:14th-century genre:15th-century genre:16th-century genre:17th-century genre:18th-century genre:19th-century genre:20th-century genre:abuse  \\\n",
        "0    4.40        136455  0439023483     book  https://www.goodreads.com/author/show/153394.S...  2008  /genres/young-adult|/genres/science-fiction|/g...                dir01/2767052-the-hunger-games.html       2958974            The Hunger Games (The Hunger Games, #1)  Suzanne_Collins  young-adult|science-fiction|dystopia|fantasy|s...  False              False              False              False              False              False              False              False       False   \n",
        "1    4.41         16648  0439358078     book  https://www.goodreads.com/author/show/1077326....  2003  /genres/fantasy|/genres/young-adult|/genres/fi...  dir01/2.Harry_Potter_and_the_Order_of_the_Phoe...       1284478  Harry Potter and the Order of the Phoenix (Har...      J_K_Rowling  fantasy|young-adult|fiction|fantasy|magic|chil...  False              False              False              False              False              False              False              False       False   \n",
        "2    3.56         85746  0316015849     book  https://www.goodreads.com/author/show/941441.S...  2005  /genres/young-adult|/genres/fantasy|/genres/ro...                          dir01/41865.Twilight.html       2579564                            Twilight (Twilight, #1)  Stephenie_Meyer  young-adult|fantasy|romance|paranormal|vampire...  False              False              False              False              False              False              False              False       False   \n",
        "3    4.23         47906  0061120081     book  https://www.goodreads.com/author/show/1825.Har...  1960  /genres/classics|/genres/fiction|/genres/histo...              dir01/2657.To_Kill_a_Mockingbird.html       2078123                              To Kill a Mockingbird       Harper_Lee  classics|fiction|historical-fiction|academic|s...  False              False              False              False              False              False              False              False       False   \n",
        "4    4.23         34772  0679783261     book  https://www.goodreads.com/author/show/1265.Jan...  1813  /genres/classics|/genres/fiction|/genres/roman...                dir01/1885.Pride_and_Prejudice.html       1388992                                Pride and Prejudice      Jane_Austen  classics|fiction|romance|historical-fiction|li...  False              False              False              False              False              False              False              False       False   \n",
        "\n",
        "  genre:academia genre:academic genre:action genre:activism genre:adolescence genre:adoption genre:adult genre:adult-fiction genre:adventure genre:africa genre:african-american genre:african-american-literature genre:african-literature genre:aliens genre:alternate-history genre:american genre:american-civil-war genre:american-fiction genre:american-history genre:american-novels genre:americana genre:anarchism genre:ancient genre:angels genre:animal-fiction genre:animals genre:anime  \\\n",
        "0          False          False         True          False             False          False       False               False            True        False                  False                             False                    False        False                   False          False                    False                  False                  False                 False           False           False         False        False                False         False       False   \n",
        "1          False          False        False          False             False          False       False               False            True        False                  False                             False                    False        False                   False          False                    False                  False                  False                 False           False           False         False        False                False         False       False   \n",
        "2          False          False        False          False             False          False       False               False           False        False                  False                             False                    False        False                   False          False                    False                  False                  False                 False           False           False         False        False                False         False       False   \n",
        "3          False           True        False          False             False          False       False               False           False        False                  False                             False                    False        False                   False          False                    False                  False                  False                 False           False           False         False        False                False         False       False   \n",
        "4          False           True        False          False             False          False        True               False           False        False                  False                             False                    False        False                   False          False                    False                  False                  False                 False           False           False         False        False                False         False       False   \n",
        "\n",
        "  genre:anthologies genre:anthropology        ...         genre:time-travel-romance genre:tragedy genre:trans genre:transgender genre:travel genre:travelogue genre:true-crime genre:true-story genre:turkish genre:turkish-literature genre:ukraine genre:unicorns genre:united-states genre:urban-fantasy genre:urban-planning genre:urbanism genre:us-presidents genre:utopia genre:vampires genre:vegan genre:video-games genre:walking genre:war genre:weird-fiction genre:werewolves genre:western  \\\n",
        "0             False              False        ...                             False         False       False             False        False            False            False            False         False                    False         False          False               False               False                False          False               False        False          False       False             False         False     False               False            False         False   \n",
        "1             False              False        ...                             False         False       False             False        False            False            False            False         False                    False         False          False               False               False                False          False               False        False          False       False             False         False     False               False            False         False   \n",
        "2             False              False        ...                             False         False       False             False        False            False            False            False         False                    False         False          False               False                True                False          False               False        False           True       False             False         False     False               False            False         False   \n",
        "3             False              False        ...                             False         False       False             False        False            False            False            False         False                    False         False          False               False               False                False          False               False        False          False       False             False         False     False               False            False         False   \n",
        "4             False              False        ...                             False         False       False             False        False            False            False            False         False                    False         False          False               False               False                False          False               False        False          False       False             False         False     False               False            False         False   \n",
        "\n",
        "  genre:western-romance genre:wicca genre:wilderness genre:wildlife genre:witches genre:wizards genre:wolves genre:womens genre:womens-fiction genre:womens-studies genre:world-history genre:world-war-ii genre:writing genre:x-men genre:young-adult genre:young-adult-contemporary genre:young-adult-fantasy genre:young-adult-historical-fiction genre:young-adult-paranormal genre:young-adult-romance genre:young-adult-science-fiction genre:young-readers genre:zen genre:zombies  \n",
        "0                 False       False            False          False         False         False        False        False                False                False               False              False         False       False              True                          False                     False                                False                        False                     False                             False               False     False         False  \n",
        "1                 False       False            False          False         False         False        False        False                False                False               False              False         False       False              True                          False                     False                                False                        False                     False                             False               False     False         False  \n",
        "2                 False       False            False          False         False         False        False        False                False                False               False              False         False       False              True                          False                     False                                False                        False                     False                             False               False     False         False  \n",
        "3                 False       False            False          False         False         False        False        False                False                False               False              False         False       False              True                          False                     False                                False                        False                     False                             False               False     False         False  \n",
        "4                 False       False            False          False         False         False        False        False                False                False               False              False         False       False             False                          False                     False                                False                        False                     False                             False               False     False         False  \n",
        "\n",
        "[5 rows x 550 columns]"
       ]
      }
     ],
     "prompt_number": 91
    },
    {
     "cell_type": "code",
     "collapsed": false,
     "input": [
      "df.shape"
     ],
     "language": "python",
     "metadata": {},
     "outputs": [
      {
       "metadata": {},
       "output_type": "pyout",
       "prompt_number": 92,
       "text": [
        "(5993, 550)"
       ]
      }
     ],
     "prompt_number": 92
    },
    {
     "cell_type": "code",
     "collapsed": false,
     "input": [
      "genres = ['genre:'+g for g in genres]\n",
      "genres"
     ],
     "language": "python",
     "metadata": {},
     "outputs": [
      {
       "metadata": {},
       "output_type": "pyout",
       "prompt_number": 93,
       "text": [
        "['genre:',\n",
        " 'genre:14th-century',\n",
        " 'genre:15th-century',\n",
        " 'genre:16th-century',\n",
        " 'genre:17th-century',\n",
        " 'genre:18th-century',\n",
        " 'genre:19th-century',\n",
        " 'genre:20th-century',\n",
        " 'genre:abuse',\n",
        " 'genre:academia',\n",
        " 'genre:academic',\n",
        " 'genre:action',\n",
        " 'genre:activism',\n",
        " 'genre:adolescence',\n",
        " 'genre:adoption',\n",
        " 'genre:adult',\n",
        " 'genre:adult-fiction',\n",
        " 'genre:adventure',\n",
        " 'genre:africa',\n",
        " 'genre:african-american',\n",
        " 'genre:african-american-literature',\n",
        " 'genre:african-literature',\n",
        " 'genre:aliens',\n",
        " 'genre:alternate-history',\n",
        " 'genre:american',\n",
        " 'genre:american-civil-war',\n",
        " 'genre:american-fiction',\n",
        " 'genre:american-history',\n",
        " 'genre:american-novels',\n",
        " 'genre:americana',\n",
        " 'genre:anarchism',\n",
        " 'genre:ancient',\n",
        " 'genre:angels',\n",
        " 'genre:animal-fiction',\n",
        " 'genre:animals',\n",
        " 'genre:anime',\n",
        " 'genre:anthologies',\n",
        " 'genre:anthropology',\n",
        " 'genre:anthropomorphic',\n",
        " 'genre:apocalyptic',\n",
        " 'genre:architecture',\n",
        " 'genre:art',\n",
        " 'genre:art-history',\n",
        " 'genre:arthurian',\n",
        " 'genre:asia',\n",
        " 'genre:asian-literature',\n",
        " 'genre:astronomy',\n",
        " 'genre:atheism',\n",
        " 'genre:australia',\n",
        " 'genre:autobiography',\n",
        " 'genre:bande-dessin%C3%A9e',\n",
        " 'genre:banned-books',\n",
        " 'genre:baseball',\n",
        " 'genre:basketball',\n",
        " 'genre:batman',\n",
        " 'genre:bdsm',\n",
        " 'genre:beauty-and-the-beast',\n",
        " 'genre:belgian',\n",
        " 'genre:belgium',\n",
        " 'genre:biography',\n",
        " 'genre:biography-memoir',\n",
        " 'genre:biology',\n",
        " 'genre:birds',\n",
        " 'genre:bizarro-fiction',\n",
        " 'genre:boarding-school',\n",
        " 'genre:book-club',\n",
        " 'genre:books-about-books',\n",
        " 'genre:brain',\n",
        " 'genre:brazil',\n",
        " 'genre:british-literature',\n",
        " 'genre:buddhism',\n",
        " 'genre:bulgaria',\n",
        " 'genre:bulgarian-literature',\n",
        " 'genre:business',\n",
        " 'genre:canada',\n",
        " 'genre:canadian-literature',\n",
        " 'genre:canon',\n",
        " 'genre:cartoon',\n",
        " 'genre:category-romance',\n",
        " 'genre:catholic',\n",
        " 'genre:cats',\n",
        " 'genre:chapter-books',\n",
        " 'genre:chess',\n",
        " 'genre:chick-lit',\n",
        " 'genre:childrens',\n",
        " 'genre:childrens-classics',\n",
        " 'genre:china',\n",
        " 'genre:chinese-literature',\n",
        " 'genre:christian',\n",
        " 'genre:christian-contemporary-fiction',\n",
        " 'genre:christian-fiction',\n",
        " 'genre:christian-historical-fiction',\n",
        " 'genre:christian-romance',\n",
        " 'genre:christianity',\n",
        " 'genre:christmas',\n",
        " 'genre:church',\n",
        " 'genre:church-history',\n",
        " 'genre:cities',\n",
        " 'genre:civil-war',\n",
        " 'genre:classic-literature',\n",
        " 'genre:classical-studies',\n",
        " 'genre:classics',\n",
        " 'genre:clean-romance',\n",
        " 'genre:collections',\n",
        " 'genre:college',\n",
        " 'genre:comedy',\n",
        " 'genre:comic-book',\n",
        " 'genre:comic-strips',\n",
        " 'genre:comics',\n",
        " 'genre:comics-manga',\n",
        " 'genre:coming-of-age',\n",
        " 'genre:comix',\n",
        " 'genre:communication',\n",
        " 'genre:computer-science',\n",
        " 'genre:contemporary',\n",
        " 'genre:contemporary-romance',\n",
        " 'genre:cookbooks',\n",
        " 'genre:cooking',\n",
        " 'genre:counter-culture',\n",
        " 'genre:cozy-mystery',\n",
        " 'genre:crafts',\n",
        " 'genre:crafty',\n",
        " 'genre:crime',\n",
        " 'genre:criticism',\n",
        " 'genre:cthulhu-mythos',\n",
        " 'genre:culinary',\n",
        " 'genre:cult-classics',\n",
        " 'genre:cults',\n",
        " 'genre:cultural',\n",
        " 'genre:culture',\n",
        " 'genre:cyberpunk',\n",
        " 'genre:cycling',\n",
        " 'genre:czech-literature',\n",
        " 'genre:danish',\n",
        " 'genre:dark',\n",
        " 'genre:dark-fantasy',\n",
        " 'genre:dc-comics',\n",
        " 'genre:death',\n",
        " 'genre:demons',\n",
        " 'genre:denmark',\n",
        " 'genre:design',\n",
        " 'genre:detective',\n",
        " 'genre:diary',\n",
        " 'genre:dictionaries',\n",
        " 'genre:dinosaurs',\n",
        " 'genre:disability',\n",
        " 'genre:dogs',\n",
        " 'genre:dragonlance',\n",
        " 'genre:dragons',\n",
        " 'genre:drama',\n",
        " 'genre:drawing',\n",
        " 'genre:dungeons-and-dragons',\n",
        " 'genre:dutch-literature',\n",
        " 'genre:dying-earth',\n",
        " 'genre:dystopia',\n",
        " 'genre:eastern-philosophy',\n",
        " 'genre:ecology',\n",
        " 'genre:economics',\n",
        " 'genre:education',\n",
        " 'genre:egypt',\n",
        " 'genre:egyptian-literature',\n",
        " 'genre:engineering',\n",
        " 'genre:english-literature',\n",
        " 'genre:environment',\n",
        " 'genre:epic',\n",
        " 'genre:epic-fantasy',\n",
        " 'genre:epic-poetry',\n",
        " 'genre:erotic-historical-romance',\n",
        " 'genre:erotic-romance',\n",
        " 'genre:erotica',\n",
        " 'genre:esoterica',\n",
        " 'genre:espionage',\n",
        " 'genre:essays',\n",
        " 'genre:european-history',\n",
        " 'genre:european-literature',\n",
        " 'genre:evolution',\n",
        " 'genre:fables',\n",
        " 'genre:fae',\n",
        " 'genre:fairies',\n",
        " 'genre:fairy-tale-retellings',\n",
        " 'genre:fairy-tales',\n",
        " 'genre:faith',\n",
        " 'genre:family',\n",
        " 'genre:fantasy',\n",
        " 'genre:fantasy-romance',\n",
        " 'genre:fat',\n",
        " 'genre:fat-acceptance',\n",
        " 'genre:fat-studies',\n",
        " 'genre:favorites',\n",
        " 'genre:female-authors',\n",
        " 'genre:feminism',\n",
        " 'genre:fiction',\n",
        " 'genre:film',\n",
        " 'genre:finnish-literature',\n",
        " 'genre:fitness',\n",
        " 'genre:folk-tales',\n",
        " 'genre:folklore',\n",
        " 'genre:food',\n",
        " 'genre:food-and-drink',\n",
        " 'genre:food-history',\n",
        " 'genre:food-writing',\n",
        " 'genre:foodie',\n",
        " 'genre:football',\n",
        " 'genre:forgotten-realms',\n",
        " 'genre:france',\n",
        " 'genre:french-literature',\n",
        " 'genre:french-revolution',\n",
        " 'genre:funny',\n",
        " 'genre:games',\n",
        " 'genre:gaming',\n",
        " 'genre:gardening',\n",
        " 'genre:gay',\n",
        " 'genre:gay-for-you',\n",
        " 'genre:gay-romance',\n",
        " 'genre:gender',\n",
        " 'genre:gender-studies',\n",
        " 'genre:genetics',\n",
        " 'genre:geography',\n",
        " 'genre:georgian-romance',\n",
        " 'genre:german-literature',\n",
        " 'genre:germany',\n",
        " 'genre:ghost-stories',\n",
        " 'genre:ghosts',\n",
        " 'genre:glbt',\n",
        " 'genre:god',\n",
        " 'genre:gods',\n",
        " 'genre:gothic',\n",
        " 'genre:gothic-horror',\n",
        " 'genre:gothic-romance',\n",
        " 'genre:government',\n",
        " 'genre:graphic-novels',\n",
        " 'genre:graphic-novels-comics',\n",
        " 'genre:greece',\n",
        " 'genre:greek-mythology',\n",
        " 'genre:guides',\n",
        " 'genre:hard-boiled',\n",
        " 'genre:hard-science-fiction',\n",
        " 'genre:harlequin',\n",
        " 'genre:health',\n",
        " 'genre:heroic-fantasy',\n",
        " 'genre:high-fantasy',\n",
        " 'genre:high-school',\n",
        " 'genre:hinduism',\n",
        " 'genre:historical-fiction',\n",
        " 'genre:historical-mystery',\n",
        " 'genre:historical-romance',\n",
        " 'genre:history',\n",
        " 'genre:history-of-science',\n",
        " 'genre:holiday',\n",
        " 'genre:holland',\n",
        " 'genre:holocaust',\n",
        " 'genre:horror',\n",
        " 'genre:horse-racing',\n",
        " 'genre:horses',\n",
        " 'genre:how-to',\n",
        " 'genre:humanities',\n",
        " 'genre:humor',\n",
        " 'genre:hungarian-literature',\n",
        " 'genre:hungary',\n",
        " 'genre:illness',\n",
        " 'genre:india',\n",
        " 'genre:indian-literature',\n",
        " 'genre:indonesian-literature',\n",
        " 'genre:inspirational',\n",
        " 'genre:international',\n",
        " 'genre:interracial-romance',\n",
        " 'genre:iran',\n",
        " 'genre:ireland',\n",
        " 'genre:irish-literature',\n",
        " 'genre:islam',\n",
        " 'genre:israel',\n",
        " 'genre:italian-literature',\n",
        " 'genre:italy',\n",
        " 'genre:japan',\n",
        " 'genre:japanese-literature',\n",
        " 'genre:jewish',\n",
        " 'genre:josei',\n",
        " 'genre:journal',\n",
        " 'genre:journalism',\n",
        " 'genre:judaism',\n",
        " 'genre:juvenile',\n",
        " 'genre:kenya',\n",
        " 'genre:kids',\n",
        " 'genre:komik',\n",
        " 'genre:language',\n",
        " 'genre:latin-american',\n",
        " 'genre:latin-american-literature',\n",
        " 'genre:law',\n",
        " 'genre:lds',\n",
        " 'genre:lds-fiction',\n",
        " 'genre:lds-non-fiction',\n",
        " 'genre:leadership',\n",
        " 'genre:legal-thriller',\n",
        " 'genre:lesbian',\n",
        " 'genre:lesbian-fiction',\n",
        " 'genre:light-novel',\n",
        " 'genre:literary-criticism',\n",
        " 'genre:literary-fiction',\n",
        " 'genre:literature',\n",
        " 'genre:logic',\n",
        " 'genre:love',\n",
        " 'genre:love-inspired',\n",
        " 'genre:love-inspired-historical',\n",
        " 'genre:love-story',\n",
        " 'genre:lovecraftian',\n",
        " 'genre:low-fantasy',\n",
        " 'genre:m-f-m',\n",
        " 'genre:m-m-romance',\n",
        " 'genre:magic',\n",
        " 'genre:magical-realism',\n",
        " 'genre:management',\n",
        " 'genre:manga',\n",
        " 'genre:maritime',\n",
        " 'genre:marriage',\n",
        " 'genre:marvel',\n",
        " 'genre:mathematics',\n",
        " 'genre:media-tie-in',\n",
        " 'genre:medical',\n",
        " 'genre:medicine',\n",
        " 'genre:medieval',\n",
        " 'genre:medieval-romance',\n",
        " 'genre:memoir',\n",
        " 'genre:menage',\n",
        " 'genre:mental-health',\n",
        " 'genre:mental-illness',\n",
        " 'genre:mermaids',\n",
        " 'genre:metaphysics',\n",
        " 'genre:middle-grade',\n",
        " 'genre:military',\n",
        " 'genre:military-history',\n",
        " 'genre:military-science-fiction',\n",
        " 'genre:mine',\n",
        " 'genre:modern',\n",
        " 'genre:modern-classics',\n",
        " 'genre:mormonism',\n",
        " 'genre:mountaineering',\n",
        " 'genre:movies',\n",
        " 'genre:murder-mystery',\n",
        " 'genre:music',\n",
        " 'genre:musicians',\n",
        " 'genre:mystery',\n",
        " 'genre:mystery-thriller',\n",
        " 'genre:mysticism',\n",
        " 'genre:mythology',\n",
        " 'genre:natural-history',\n",
        " 'genre:nature',\n",
        " 'genre:near-future',\n",
        " 'genre:neuroscience',\n",
        " 'genre:new-adult',\n",
        " 'genre:new-age',\n",
        " 'genre:new-weird',\n",
        " 'genre:new-york',\n",
        " 'genre:nobel-prize',\n",
        " 'genre:noir',\n",
        " 'genre:non-fiction',\n",
        " 'genre:novels',\n",
        " 'genre:nutrition',\n",
        " 'genre:occult',\n",
        " 'genre:outdoors',\n",
        " 'genre:paganism',\n",
        " 'genre:pakistan',\n",
        " 'genre:paranormal',\n",
        " 'genre:paranormal-romance',\n",
        " 'genre:parenting',\n",
        " 'genre:personal-development',\n",
        " 'genre:philosophy',\n",
        " 'genre:photography',\n",
        " 'genre:physics',\n",
        " 'genre:picture-books',\n",
        " 'genre:pirates',\n",
        " 'genre:planetary-romance',\n",
        " 'genre:plays',\n",
        " 'genre:poetry',\n",
        " 'genre:poetry-plays',\n",
        " 'genre:poland',\n",
        " 'genre:polish-literature',\n",
        " 'genre:political-science',\n",
        " 'genre:politics',\n",
        " 'genre:pop-culture',\n",
        " 'genre:popular-science',\n",
        " 'genre:portugal',\n",
        " 'genre:portuguese-literature',\n",
        " 'genre:post-apocalyptic',\n",
        " 'genre:post-colonial',\n",
        " 'genre:poverty',\n",
        " 'genre:prehistoric',\n",
        " 'genre:prehistory',\n",
        " 'genre:presidents',\n",
        " 'genre:princesses',\n",
        " 'genre:productivity',\n",
        " 'genre:psychological-thriller',\n",
        " 'genre:psychology',\n",
        " 'genre:pulp',\n",
        " 'genre:queer',\n",
        " 'genre:queer-lit',\n",
        " 'genre:rabbits',\n",
        " 'genre:race',\n",
        " 'genre:read-for-school',\n",
        " 'genre:realistic-fiction',\n",
        " 'genre:reference',\n",
        " 'genre:regency',\n",
        " 'genre:regency-romance',\n",
        " 'genre:relationships',\n",
        " 'genre:religion',\n",
        " 'genre:retellings',\n",
        " 'genre:road-trip',\n",
        " 'genre:robots',\n",
        " 'genre:rock-n-roll',\n",
        " 'genre:role-playing-games',\n",
        " 'genre:roman',\n",
        " 'genre:romance',\n",
        " 'genre:romania',\n",
        " 'genre:romanian-literature',\n",
        " 'genre:romantic',\n",
        " 'genre:romantic-suspense',\n",
        " 'genre:russia',\n",
        " 'genre:russian-literature',\n",
        " 'genre:satanism',\n",
        " 'genre:scandinavian-literature',\n",
        " 'genre:school',\n",
        " 'genre:school-stories',\n",
        " 'genre:sci-fi-fantasy',\n",
        " 'genre:science',\n",
        " 'genre:science-fiction',\n",
        " 'genre:science-fiction-fantasy',\n",
        " 'genre:science-fiction-romance',\n",
        " 'genre:scotland',\n",
        " 'genre:scripture',\n",
        " 'genre:self-help',\n",
        " 'genre:sequential-art',\n",
        " 'genre:serbian-literature',\n",
        " 'genre:sexuality',\n",
        " 'genre:shapeshifters',\n",
        " 'genre:shojo',\n",
        " 'genre:shonen',\n",
        " 'genre:short-stories',\n",
        " 'genre:short-story-collection',\n",
        " 'genre:skepticism',\n",
        " 'genre:slice-of-life',\n",
        " 'genre:social',\n",
        " 'genre:social-issues',\n",
        " 'genre:social-justice',\n",
        " 'genre:social-movements',\n",
        " 'genre:social-science',\n",
        " 'genre:society',\n",
        " 'genre:sociology',\n",
        " 'genre:soldiers',\n",
        " 'genre:southern',\n",
        " 'genre:southern-gothic',\n",
        " 'genre:space',\n",
        " 'genre:space-opera',\n",
        " 'genre:spain',\n",
        " 'genre:spanish-literature',\n",
        " 'genre:speculative-fiction',\n",
        " 'genre:spirituality',\n",
        " 'genre:splatterpunk',\n",
        " 'genre:sports',\n",
        " 'genre:sports-and-games',\n",
        " 'genre:sports-romance',\n",
        " 'genre:spy-thriller',\n",
        " 'genre:star-wars',\n",
        " 'genre:steampunk',\n",
        " 'genre:storytime',\n",
        " 'genre:superheroes',\n",
        " 'genre:superman',\n",
        " 'genre:supernatural',\n",
        " 'genre:surreal',\n",
        " 'genre:survival',\n",
        " 'genre:suspense',\n",
        " 'genre:sustainability',\n",
        " 'genre:swashbuckling',\n",
        " 'genre:sweden',\n",
        " 'genre:swedish-literature',\n",
        " 'genre:sword-and-sorcery',\n",
        " 'genre:taoism',\n",
        " 'genre:tasmania',\n",
        " 'genre:teachers',\n",
        " 'genre:teaching',\n",
        " 'genre:technical',\n",
        " 'genre:technology',\n",
        " 'genre:teen',\n",
        " 'genre:terrorism',\n",
        " 'genre:textbooks',\n",
        " 'genre:theatre',\n",
        " 'genre:theology',\n",
        " 'genre:theory',\n",
        " 'genre:thriller',\n",
        " 'genre:time-travel',\n",
        " 'genre:time-travel-romance',\n",
        " 'genre:tragedy',\n",
        " 'genre:trans',\n",
        " 'genre:transgender',\n",
        " 'genre:travel',\n",
        " 'genre:travelogue',\n",
        " 'genre:true-crime',\n",
        " 'genre:true-story',\n",
        " 'genre:turkish',\n",
        " 'genre:turkish-literature',\n",
        " 'genre:ukraine',\n",
        " 'genre:unicorns',\n",
        " 'genre:united-states',\n",
        " 'genre:urban-fantasy',\n",
        " 'genre:urban-planning',\n",
        " 'genre:urbanism',\n",
        " 'genre:us-presidents',\n",
        " 'genre:utopia',\n",
        " 'genre:vampires',\n",
        " 'genre:vegan',\n",
        " 'genre:video-games',\n",
        " 'genre:walking',\n",
        " 'genre:war',\n",
        " 'genre:weird-fiction',\n",
        " 'genre:werewolves',\n",
        " 'genre:western',\n",
        " 'genre:western-romance',\n",
        " 'genre:wicca',\n",
        " 'genre:wilderness',\n",
        " 'genre:wildlife',\n",
        " 'genre:witches',\n",
        " 'genre:wizards',\n",
        " 'genre:wolves',\n",
        " 'genre:womens',\n",
        " 'genre:womens-fiction',\n",
        " 'genre:womens-studies',\n",
        " 'genre:world-history',\n",
        " 'genre:world-war-ii',\n",
        " 'genre:writing',\n",
        " 'genre:x-men',\n",
        " 'genre:young-adult',\n",
        " 'genre:young-adult-contemporary',\n",
        " 'genre:young-adult-fantasy',\n",
        " 'genre:young-adult-historical-fiction',\n",
        " 'genre:young-adult-paranormal',\n",
        " 'genre:young-adult-romance',\n",
        " 'genre:young-adult-science-fiction',\n",
        " 'genre:young-readers',\n",
        " 'genre:zen',\n",
        " 'genre:zombies']"
       ]
      }
     ],
     "prompt_number": 93
    },
    {
     "cell_type": "code",
     "collapsed": false,
     "input": [
      "dfmovies=df[df[\"genre:movies\"]==True]\n",
      "dfmovies"
     ],
     "language": "python",
     "metadata": {},
     "outputs": [
      {
       "html": [
        "<div style=\"max-height:1000px;max-width:1500px;overflow:auto;\">\n",
        "<table border=\"1\" class=\"dataframe\">\n",
        "  <thead>\n",
        "    <tr style=\"text-align: right;\">\n",
        "      <th></th>\n",
        "      <th>rating</th>\n",
        "      <th>review_count</th>\n",
        "      <th>isbn</th>\n",
        "      <th>booktype</th>\n",
        "      <th>author_url</th>\n",
        "      <th>year</th>\n",
        "      <th>genre_urls</th>\n",
        "      <th>dir</th>\n",
        "      <th>rating_count</th>\n",
        "      <th>name</th>\n",
        "      <th>author</th>\n",
        "      <th>genres</th>\n",
        "      <th>genre:</th>\n",
        "      <th>genre:14th-century</th>\n",
        "      <th>genre:15th-century</th>\n",
        "      <th>genre:16th-century</th>\n",
        "      <th>genre:17th-century</th>\n",
        "      <th>genre:18th-century</th>\n",
        "      <th>genre:19th-century</th>\n",
        "      <th>genre:20th-century</th>\n",
        "      <th>genre:abuse</th>\n",
        "      <th>genre:academia</th>\n",
        "      <th>genre:academic</th>\n",
        "      <th>genre:action</th>\n",
        "      <th>genre:activism</th>\n",
        "      <th>genre:adolescence</th>\n",
        "      <th>genre:adoption</th>\n",
        "      <th>genre:adult</th>\n",
        "      <th>genre:adult-fiction</th>\n",
        "      <th>genre:adventure</th>\n",
        "      <th>genre:africa</th>\n",
        "      <th>genre:african-american</th>\n",
        "      <th>genre:african-american-literature</th>\n",
        "      <th>genre:african-literature</th>\n",
        "      <th>genre:aliens</th>\n",
        "      <th>genre:alternate-history</th>\n",
        "      <th>genre:american</th>\n",
        "      <th>genre:american-civil-war</th>\n",
        "      <th>genre:american-fiction</th>\n",
        "      <th>genre:american-history</th>\n",
        "      <th>genre:american-novels</th>\n",
        "      <th>genre:americana</th>\n",
        "      <th>genre:anarchism</th>\n",
        "      <th>genre:ancient</th>\n",
        "      <th>genre:angels</th>\n",
        "      <th>genre:animal-fiction</th>\n",
        "      <th>genre:animals</th>\n",
        "      <th>genre:anime</th>\n",
        "      <th>genre:anthologies</th>\n",
        "      <th>genre:anthropology</th>\n",
        "      <th>...</th>\n",
        "      <th>genre:time-travel-romance</th>\n",
        "      <th>genre:tragedy</th>\n",
        "      <th>genre:trans</th>\n",
        "      <th>genre:transgender</th>\n",
        "      <th>genre:travel</th>\n",
        "      <th>genre:travelogue</th>\n",
        "      <th>genre:true-crime</th>\n",
        "      <th>genre:true-story</th>\n",
        "      <th>genre:turkish</th>\n",
        "      <th>genre:turkish-literature</th>\n",
        "      <th>genre:ukraine</th>\n",
        "      <th>genre:unicorns</th>\n",
        "      <th>genre:united-states</th>\n",
        "      <th>genre:urban-fantasy</th>\n",
        "      <th>genre:urban-planning</th>\n",
        "      <th>genre:urbanism</th>\n",
        "      <th>genre:us-presidents</th>\n",
        "      <th>genre:utopia</th>\n",
        "      <th>genre:vampires</th>\n",
        "      <th>genre:vegan</th>\n",
        "      <th>genre:video-games</th>\n",
        "      <th>genre:walking</th>\n",
        "      <th>genre:war</th>\n",
        "      <th>genre:weird-fiction</th>\n",
        "      <th>genre:werewolves</th>\n",
        "      <th>genre:western</th>\n",
        "      <th>genre:western-romance</th>\n",
        "      <th>genre:wicca</th>\n",
        "      <th>genre:wilderness</th>\n",
        "      <th>genre:wildlife</th>\n",
        "      <th>genre:witches</th>\n",
        "      <th>genre:wizards</th>\n",
        "      <th>genre:wolves</th>\n",
        "      <th>genre:womens</th>\n",
        "      <th>genre:womens-fiction</th>\n",
        "      <th>genre:womens-studies</th>\n",
        "      <th>genre:world-history</th>\n",
        "      <th>genre:world-war-ii</th>\n",
        "      <th>genre:writing</th>\n",
        "      <th>genre:x-men</th>\n",
        "      <th>genre:young-adult</th>\n",
        "      <th>genre:young-adult-contemporary</th>\n",
        "      <th>genre:young-adult-fantasy</th>\n",
        "      <th>genre:young-adult-historical-fiction</th>\n",
        "      <th>genre:young-adult-paranormal</th>\n",
        "      <th>genre:young-adult-romance</th>\n",
        "      <th>genre:young-adult-science-fiction</th>\n",
        "      <th>genre:young-readers</th>\n",
        "      <th>genre:zen</th>\n",
        "      <th>genre:zombies</th>\n",
        "    </tr>\n",
        "  </thead>\n",
        "  <tbody>\n",
        "    <tr>\n",
        "      <th>40  </th>\n",
        "      <td> 4.05</td>\n",
        "      <td> 50663</td>\n",
        "      <td> 1565125606</td>\n",
        "      <td> book</td>\n",
        "      <td> https://www.goodreads.com/author/show/24556.Sa...</td>\n",
        "      <td> 2006</td>\n",
        "      <td> /genres/book-club|/genres/contemporary|/genres...</td>\n",
        "      <td>              dir01/43641.Water_for_Elephants.html</td>\n",
        "      <td> 885435</td>\n",
        "      <td>                               Water for Elephants</td>\n",
        "      <td>          Sara_Gruen</td>\n",
        "      <td> book-club|contemporary|fiction|literary-fictio...</td>\n",
        "      <td> False</td>\n",
        "      <td> False</td>\n",
        "      <td> False</td>\n",
        "      <td> False</td>\n",
        "      <td> False</td>\n",
        "      <td> False</td>\n",
        "      <td> False</td>\n",
        "      <td> False</td>\n",
        "      <td> False</td>\n",
        "      <td> False</td>\n",
        "      <td> False</td>\n",
        "      <td> False</td>\n",
        "      <td> False</td>\n",
        "      <td> False</td>\n",
        "      <td> False</td>\n",
        "      <td> False</td>\n",
        "      <td> False</td>\n",
        "      <td> False</td>\n",
        "      <td> False</td>\n",
        "      <td> False</td>\n",
        "      <td> False</td>\n",
        "      <td> False</td>\n",
        "      <td> False</td>\n",
        "      <td> False</td>\n",
        "      <td> False</td>\n",
        "      <td> False</td>\n",
        "      <td> False</td>\n",
        "      <td> False</td>\n",
        "      <td> False</td>\n",
        "      <td> False</td>\n",
        "      <td> False</td>\n",
        "      <td> False</td>\n",
        "      <td> False</td>\n",
        "      <td> False</td>\n",
        "      <td> False</td>\n",
        "      <td> False</td>\n",
        "      <td> False</td>\n",
        "      <td> False</td>\n",
        "      <td>...</td>\n",
        "      <td> False</td>\n",
        "      <td> False</td>\n",
        "      <td> False</td>\n",
        "      <td> False</td>\n",
        "      <td> False</td>\n",
        "      <td> False</td>\n",
        "      <td> False</td>\n",
        "      <td> False</td>\n",
        "      <td> False</td>\n",
        "      <td> False</td>\n",
        "      <td> False</td>\n",
        "      <td> False</td>\n",
        "      <td> False</td>\n",
        "      <td> False</td>\n",
        "      <td> False</td>\n",
        "      <td> False</td>\n",
        "      <td> False</td>\n",
        "      <td> False</td>\n",
        "      <td> False</td>\n",
        "      <td> False</td>\n",
        "      <td> False</td>\n",
        "      <td> False</td>\n",
        "      <td> False</td>\n",
        "      <td> False</td>\n",
        "      <td> False</td>\n",
        "      <td> False</td>\n",
        "      <td> False</td>\n",
        "      <td> False</td>\n",
        "      <td> False</td>\n",
        "      <td> False</td>\n",
        "      <td> False</td>\n",
        "      <td> False</td>\n",
        "      <td> False</td>\n",
        "      <td> False</td>\n",
        "      <td> False</td>\n",
        "      <td> False</td>\n",
        "      <td> False</td>\n",
        "      <td> False</td>\n",
        "      <td> False</td>\n",
        "      <td> False</td>\n",
        "      <td> False</td>\n",
        "      <td> False</td>\n",
        "      <td> False</td>\n",
        "      <td> False</td>\n",
        "      <td> False</td>\n",
        "      <td> False</td>\n",
        "      <td> False</td>\n",
        "      <td> False</td>\n",
        "      <td> False</td>\n",
        "      <td> False</td>\n",
        "    </tr>\n",
        "    <tr>\n",
        "      <th>97  </th>\n",
        "      <td> 3.96</td>\n",
        "      <td> 22248</td>\n",
        "      <td> 0142001740</td>\n",
        "      <td> book</td>\n",
        "      <td> https://www.goodreads.com/author/show/4711.Sue...</td>\n",
        "      <td> 2001</td>\n",
        "      <td> /genres/american|/genres/southern|/genres/fict...</td>\n",
        "      <td>          dir01/37435.The_Secret_Life_of_Bees.html</td>\n",
        "      <td> 742872</td>\n",
        "      <td>                           The Secret Life of Bees</td>\n",
        "      <td>       Sue_Monk_Kidd</td>\n",
        "      <td> american|southern|fiction|book-club|novels|lit...</td>\n",
        "      <td> False</td>\n",
        "      <td> False</td>\n",
        "      <td> False</td>\n",
        "      <td> False</td>\n",
        "      <td> False</td>\n",
        "      <td> False</td>\n",
        "      <td> False</td>\n",
        "      <td> False</td>\n",
        "      <td> False</td>\n",
        "      <td> False</td>\n",
        "      <td>  True</td>\n",
        "      <td> False</td>\n",
        "      <td> False</td>\n",
        "      <td> False</td>\n",
        "      <td> False</td>\n",
        "      <td> False</td>\n",
        "      <td> False</td>\n",
        "      <td> False</td>\n",
        "      <td> False</td>\n",
        "      <td>  True</td>\n",
        "      <td> False</td>\n",
        "      <td> False</td>\n",
        "      <td> False</td>\n",
        "      <td> False</td>\n",
        "      <td>  True</td>\n",
        "      <td> False</td>\n",
        "      <td> False</td>\n",
        "      <td> False</td>\n",
        "      <td> False</td>\n",
        "      <td> False</td>\n",
        "      <td> False</td>\n",
        "      <td> False</td>\n",
        "      <td> False</td>\n",
        "      <td> False</td>\n",
        "      <td> False</td>\n",
        "      <td> False</td>\n",
        "      <td> False</td>\n",
        "      <td> False</td>\n",
        "      <td>...</td>\n",
        "      <td> False</td>\n",
        "      <td> False</td>\n",
        "      <td> False</td>\n",
        "      <td> False</td>\n",
        "      <td> False</td>\n",
        "      <td> False</td>\n",
        "      <td> False</td>\n",
        "      <td> False</td>\n",
        "      <td> False</td>\n",
        "      <td> False</td>\n",
        "      <td> False</td>\n",
        "      <td> False</td>\n",
        "      <td> False</td>\n",
        "      <td> False</td>\n",
        "      <td> False</td>\n",
        "      <td> False</td>\n",
        "      <td> False</td>\n",
        "      <td> False</td>\n",
        "      <td> False</td>\n",
        "      <td> False</td>\n",
        "      <td> False</td>\n",
        "      <td> False</td>\n",
        "      <td> False</td>\n",
        "      <td> False</td>\n",
        "      <td> False</td>\n",
        "      <td> False</td>\n",
        "      <td> False</td>\n",
        "      <td> False</td>\n",
        "      <td> False</td>\n",
        "      <td> False</td>\n",
        "      <td> False</td>\n",
        "      <td> False</td>\n",
        "      <td> False</td>\n",
        "      <td> False</td>\n",
        "      <td> False</td>\n",
        "      <td> False</td>\n",
        "      <td> False</td>\n",
        "      <td> False</td>\n",
        "      <td> False</td>\n",
        "      <td> False</td>\n",
        "      <td>  True</td>\n",
        "      <td> False</td>\n",
        "      <td> False</td>\n",
        "      <td> False</td>\n",
        "      <td> False</td>\n",
        "      <td> False</td>\n",
        "      <td> False</td>\n",
        "      <td> False</td>\n",
        "      <td> False</td>\n",
        "      <td> False</td>\n",
        "    </tr>\n",
        "    <tr>\n",
        "      <th>262 </th>\n",
        "      <td> 4.06</td>\n",
        "      <td>  2429</td>\n",
        "      <td> 0786226749</td>\n",
        "      <td> book</td>\n",
        "      <td> https://www.goodreads.com/author/show/3075.Joh...</td>\n",
        "      <td> 1985</td>\n",
        "      <td> /genres/literary-fiction|/genres/romance|/genr...</td>\n",
        "      <td>             dir03/4687.The_Cider_House_Rules.html</td>\n",
        "      <td> 100816</td>\n",
        "      <td>                             The Cider House Rules</td>\n",
        "      <td>         John_Irving</td>\n",
        "      <td> literary-fiction|romance|literature|20th-centu...</td>\n",
        "      <td> False</td>\n",
        "      <td> False</td>\n",
        "      <td> False</td>\n",
        "      <td> False</td>\n",
        "      <td> False</td>\n",
        "      <td> False</td>\n",
        "      <td> False</td>\n",
        "      <td>  True</td>\n",
        "      <td> False</td>\n",
        "      <td> False</td>\n",
        "      <td> False</td>\n",
        "      <td> False</td>\n",
        "      <td> False</td>\n",
        "      <td> False</td>\n",
        "      <td> False</td>\n",
        "      <td> False</td>\n",
        "      <td> False</td>\n",
        "      <td> False</td>\n",
        "      <td> False</td>\n",
        "      <td> False</td>\n",
        "      <td> False</td>\n",
        "      <td> False</td>\n",
        "      <td> False</td>\n",
        "      <td> False</td>\n",
        "      <td> False</td>\n",
        "      <td> False</td>\n",
        "      <td> False</td>\n",
        "      <td> False</td>\n",
        "      <td> False</td>\n",
        "      <td> False</td>\n",
        "      <td> False</td>\n",
        "      <td> False</td>\n",
        "      <td> False</td>\n",
        "      <td> False</td>\n",
        "      <td> False</td>\n",
        "      <td> False</td>\n",
        "      <td> False</td>\n",
        "      <td> False</td>\n",
        "      <td>...</td>\n",
        "      <td> False</td>\n",
        "      <td> False</td>\n",
        "      <td> False</td>\n",
        "      <td> False</td>\n",
        "      <td> False</td>\n",
        "      <td> False</td>\n",
        "      <td> False</td>\n",
        "      <td> False</td>\n",
        "      <td> False</td>\n",
        "      <td> False</td>\n",
        "      <td> False</td>\n",
        "      <td> False</td>\n",
        "      <td> False</td>\n",
        "      <td> False</td>\n",
        "      <td> False</td>\n",
        "      <td> False</td>\n",
        "      <td> False</td>\n",
        "      <td> False</td>\n",
        "      <td> False</td>\n",
        "      <td> False</td>\n",
        "      <td> False</td>\n",
        "      <td> False</td>\n",
        "      <td> False</td>\n",
        "      <td> False</td>\n",
        "      <td> False</td>\n",
        "      <td> False</td>\n",
        "      <td> False</td>\n",
        "      <td> False</td>\n",
        "      <td> False</td>\n",
        "      <td> False</td>\n",
        "      <td> False</td>\n",
        "      <td> False</td>\n",
        "      <td> False</td>\n",
        "      <td> False</td>\n",
        "      <td> False</td>\n",
        "      <td> False</td>\n",
        "      <td> False</td>\n",
        "      <td> False</td>\n",
        "      <td> False</td>\n",
        "      <td> False</td>\n",
        "      <td> False</td>\n",
        "      <td> False</td>\n",
        "      <td> False</td>\n",
        "      <td> False</td>\n",
        "      <td> False</td>\n",
        "      <td> False</td>\n",
        "      <td> False</td>\n",
        "      <td> False</td>\n",
        "      <td> False</td>\n",
        "      <td> False</td>\n",
        "    </tr>\n",
        "    <tr>\n",
        "      <th>306 </th>\n",
        "      <td> 4.38</td>\n",
        "      <td>  3083</td>\n",
        "      <td> 0451933028</td>\n",
        "      <td> book</td>\n",
        "      <td> https://www.goodreads.com/author/show/3389.Ste...</td>\n",
        "      <td> 1996</td>\n",
        "      <td> /genres/novels|/genres/drama|/genres/fiction|/...</td>\n",
        "      <td>                   dir04/11566.The_Green_Mile.html</td>\n",
        "      <td> 130310</td>\n",
        "      <td>                                    The Green Mile</td>\n",
        "      <td>        Stephen_King</td>\n",
        "      <td> novels|drama|fiction|horror|science-fiction|me...</td>\n",
        "      <td> False</td>\n",
        "      <td> False</td>\n",
        "      <td> False</td>\n",
        "      <td> False</td>\n",
        "      <td> False</td>\n",
        "      <td> False</td>\n",
        "      <td> False</td>\n",
        "      <td> False</td>\n",
        "      <td> False</td>\n",
        "      <td> False</td>\n",
        "      <td> False</td>\n",
        "      <td> False</td>\n",
        "      <td> False</td>\n",
        "      <td> False</td>\n",
        "      <td> False</td>\n",
        "      <td> False</td>\n",
        "      <td> False</td>\n",
        "      <td> False</td>\n",
        "      <td> False</td>\n",
        "      <td> False</td>\n",
        "      <td> False</td>\n",
        "      <td> False</td>\n",
        "      <td> False</td>\n",
        "      <td> False</td>\n",
        "      <td> False</td>\n",
        "      <td> False</td>\n",
        "      <td> False</td>\n",
        "      <td> False</td>\n",
        "      <td> False</td>\n",
        "      <td> False</td>\n",
        "      <td> False</td>\n",
        "      <td> False</td>\n",
        "      <td> False</td>\n",
        "      <td> False</td>\n",
        "      <td> False</td>\n",
        "      <td> False</td>\n",
        "      <td> False</td>\n",
        "      <td> False</td>\n",
        "      <td>...</td>\n",
        "      <td> False</td>\n",
        "      <td> False</td>\n",
        "      <td> False</td>\n",
        "      <td> False</td>\n",
        "      <td> False</td>\n",
        "      <td> False</td>\n",
        "      <td> False</td>\n",
        "      <td> False</td>\n",
        "      <td> False</td>\n",
        "      <td> False</td>\n",
        "      <td> False</td>\n",
        "      <td> False</td>\n",
        "      <td> False</td>\n",
        "      <td> False</td>\n",
        "      <td> False</td>\n",
        "      <td> False</td>\n",
        "      <td> False</td>\n",
        "      <td> False</td>\n",
        "      <td> False</td>\n",
        "      <td> False</td>\n",
        "      <td> False</td>\n",
        "      <td> False</td>\n",
        "      <td> False</td>\n",
        "      <td> False</td>\n",
        "      <td> False</td>\n",
        "      <td> False</td>\n",
        "      <td> False</td>\n",
        "      <td> False</td>\n",
        "      <td> False</td>\n",
        "      <td> False</td>\n",
        "      <td> False</td>\n",
        "      <td> False</td>\n",
        "      <td> False</td>\n",
        "      <td> False</td>\n",
        "      <td> False</td>\n",
        "      <td> False</td>\n",
        "      <td> False</td>\n",
        "      <td> False</td>\n",
        "      <td> False</td>\n",
        "      <td> False</td>\n",
        "      <td> False</td>\n",
        "      <td> False</td>\n",
        "      <td> False</td>\n",
        "      <td> False</td>\n",
        "      <td> False</td>\n",
        "      <td> False</td>\n",
        "      <td> False</td>\n",
        "      <td> False</td>\n",
        "      <td> False</td>\n",
        "      <td> False</td>\n",
        "    </tr>\n",
        "    <tr>\n",
        "      <th>575 </th>\n",
        "      <td> 3.91</td>\n",
        "      <td>  2980</td>\n",
        "      <td> 0446676071</td>\n",
        "      <td> book</td>\n",
        "      <td> https://www.goodreads.com/author/show/2345.Nic...</td>\n",
        "      <td> 1998</td>\n",
        "      <td> /genres/romance|/genres/womens-fiction|/genres...</td>\n",
        "      <td>               dir06/3478.Message_in_a_Bottle.html</td>\n",
        "      <td> 141661</td>\n",
        "      <td>                               Message in a Bottle</td>\n",
        "      <td>     Nicholas_Sparks</td>\n",
        "      <td> romance|womens-fiction|chick-lit|contemporary|...</td>\n",
        "      <td> False</td>\n",
        "      <td> False</td>\n",
        "      <td> False</td>\n",
        "      <td> False</td>\n",
        "      <td> False</td>\n",
        "      <td> False</td>\n",
        "      <td> False</td>\n",
        "      <td> False</td>\n",
        "      <td> False</td>\n",
        "      <td> False</td>\n",
        "      <td> False</td>\n",
        "      <td> False</td>\n",
        "      <td> False</td>\n",
        "      <td> False</td>\n",
        "      <td> False</td>\n",
        "      <td>  True</td>\n",
        "      <td>  True</td>\n",
        "      <td> False</td>\n",
        "      <td> False</td>\n",
        "      <td> False</td>\n",
        "      <td> False</td>\n",
        "      <td> False</td>\n",
        "      <td> False</td>\n",
        "      <td> False</td>\n",
        "      <td> False</td>\n",
        "      <td> False</td>\n",
        "      <td> False</td>\n",
        "      <td> False</td>\n",
        "      <td> False</td>\n",
        "      <td> False</td>\n",
        "      <td> False</td>\n",
        "      <td> False</td>\n",
        "      <td> False</td>\n",
        "      <td> False</td>\n",
        "      <td> False</td>\n",
        "      <td> False</td>\n",
        "      <td> False</td>\n",
        "      <td> False</td>\n",
        "      <td>...</td>\n",
        "      <td> False</td>\n",
        "      <td> False</td>\n",
        "      <td> False</td>\n",
        "      <td> False</td>\n",
        "      <td> False</td>\n",
        "      <td> False</td>\n",
        "      <td> False</td>\n",
        "      <td> False</td>\n",
        "      <td> False</td>\n",
        "      <td> False</td>\n",
        "      <td> False</td>\n",
        "      <td> False</td>\n",
        "      <td> False</td>\n",
        "      <td> False</td>\n",
        "      <td> False</td>\n",
        "      <td> False</td>\n",
        "      <td> False</td>\n",
        "      <td> False</td>\n",
        "      <td> False</td>\n",
        "      <td> False</td>\n",
        "      <td> False</td>\n",
        "      <td> False</td>\n",
        "      <td> False</td>\n",
        "      <td> False</td>\n",
        "      <td> False</td>\n",
        "      <td> False</td>\n",
        "      <td> False</td>\n",
        "      <td> False</td>\n",
        "      <td> False</td>\n",
        "      <td> False</td>\n",
        "      <td> False</td>\n",
        "      <td> False</td>\n",
        "      <td> False</td>\n",
        "      <td> False</td>\n",
        "      <td>  True</td>\n",
        "      <td> False</td>\n",
        "      <td> False</td>\n",
        "      <td> False</td>\n",
        "      <td> False</td>\n",
        "      <td> False</td>\n",
        "      <td> False</td>\n",
        "      <td> False</td>\n",
        "      <td> False</td>\n",
        "      <td> False</td>\n",
        "      <td> False</td>\n",
        "      <td> False</td>\n",
        "      <td> False</td>\n",
        "      <td> False</td>\n",
        "      <td> False</td>\n",
        "      <td> False</td>\n",
        "    </tr>\n",
        "    <tr>\n",
        "      <th>697 </th>\n",
        "      <td> 3.97</td>\n",
        "      <td>  1118</td>\n",
        "      <td> 0743453255</td>\n",
        "      <td> book</td>\n",
        "      <td> https://www.goodreads.com/author/show/77004.Wi...</td>\n",
        "      <td> 1986</td>\n",
        "      <td> /genres/fiction|/genres/historical-fiction|/ge...</td>\n",
        "      <td>                    dir07/186190.Forrest_Gump.html</td>\n",
        "      <td>  30604</td>\n",
        "      <td>                   Forrest Gump (Forrest Gump, #1)</td>\n",
        "      <td>       Winston_Groom</td>\n",
        "      <td> fiction|historical-fiction|media-tie-in|movies...</td>\n",
        "      <td> False</td>\n",
        "      <td> False</td>\n",
        "      <td> False</td>\n",
        "      <td> False</td>\n",
        "      <td> False</td>\n",
        "      <td> False</td>\n",
        "      <td> False</td>\n",
        "      <td> False</td>\n",
        "      <td> False</td>\n",
        "      <td> False</td>\n",
        "      <td> False</td>\n",
        "      <td> False</td>\n",
        "      <td> False</td>\n",
        "      <td> False</td>\n",
        "      <td> False</td>\n",
        "      <td>  True</td>\n",
        "      <td> False</td>\n",
        "      <td>  True</td>\n",
        "      <td> False</td>\n",
        "      <td> False</td>\n",
        "      <td> False</td>\n",
        "      <td> False</td>\n",
        "      <td> False</td>\n",
        "      <td> False</td>\n",
        "      <td> False</td>\n",
        "      <td> False</td>\n",
        "      <td> False</td>\n",
        "      <td> False</td>\n",
        "      <td> False</td>\n",
        "      <td> False</td>\n",
        "      <td> False</td>\n",
        "      <td> False</td>\n",
        "      <td> False</td>\n",
        "      <td> False</td>\n",
        "      <td> False</td>\n",
        "      <td> False</td>\n",
        "      <td> False</td>\n",
        "      <td> False</td>\n",
        "      <td>...</td>\n",
        "      <td> False</td>\n",
        "      <td> False</td>\n",
        "      <td> False</td>\n",
        "      <td> False</td>\n",
        "      <td> False</td>\n",
        "      <td> False</td>\n",
        "      <td> False</td>\n",
        "      <td> False</td>\n",
        "      <td> False</td>\n",
        "      <td> False</td>\n",
        "      <td> False</td>\n",
        "      <td> False</td>\n",
        "      <td> False</td>\n",
        "      <td> False</td>\n",
        "      <td> False</td>\n",
        "      <td> False</td>\n",
        "      <td> False</td>\n",
        "      <td> False</td>\n",
        "      <td> False</td>\n",
        "      <td> False</td>\n",
        "      <td> False</td>\n",
        "      <td> False</td>\n",
        "      <td> False</td>\n",
        "      <td> False</td>\n",
        "      <td> False</td>\n",
        "      <td> False</td>\n",
        "      <td> False</td>\n",
        "      <td> False</td>\n",
        "      <td> False</td>\n",
        "      <td> False</td>\n",
        "      <td> False</td>\n",
        "      <td> False</td>\n",
        "      <td> False</td>\n",
        "      <td> False</td>\n",
        "      <td> False</td>\n",
        "      <td> False</td>\n",
        "      <td> False</td>\n",
        "      <td> False</td>\n",
        "      <td> False</td>\n",
        "      <td> False</td>\n",
        "      <td> False</td>\n",
        "      <td> False</td>\n",
        "      <td> False</td>\n",
        "      <td> False</td>\n",
        "      <td> False</td>\n",
        "      <td> False</td>\n",
        "      <td> False</td>\n",
        "      <td> False</td>\n",
        "      <td> False</td>\n",
        "      <td> False</td>\n",
        "    </tr>\n",
        "    <tr>\n",
        "      <th>865 </th>\n",
        "      <td> 3.79</td>\n",
        "      <td>  3364</td>\n",
        "      <td> 0553813951</td>\n",
        "      <td> book</td>\n",
        "      <td> https://www.goodreads.com/author/show/2345.Nic...</td>\n",
        "      <td> 2002</td>\n",
        "      <td> /genres/romance|/genres/fiction|/genres/womens...</td>\n",
        "      <td>               dir09/15926.Nights_in_Rodanthe.html</td>\n",
        "      <td> 104111</td>\n",
        "      <td>                                Nights in Rodanthe</td>\n",
        "      <td>     Nicholas_Sparks</td>\n",
        "      <td> romance|fiction|womens-fiction|chick-lit|conte...</td>\n",
        "      <td> False</td>\n",
        "      <td> False</td>\n",
        "      <td> False</td>\n",
        "      <td> False</td>\n",
        "      <td> False</td>\n",
        "      <td> False</td>\n",
        "      <td> False</td>\n",
        "      <td> False</td>\n",
        "      <td> False</td>\n",
        "      <td> False</td>\n",
        "      <td> False</td>\n",
        "      <td> False</td>\n",
        "      <td> False</td>\n",
        "      <td> False</td>\n",
        "      <td> False</td>\n",
        "      <td>  True</td>\n",
        "      <td>  True</td>\n",
        "      <td> False</td>\n",
        "      <td> False</td>\n",
        "      <td> False</td>\n",
        "      <td> False</td>\n",
        "      <td> False</td>\n",
        "      <td> False</td>\n",
        "      <td> False</td>\n",
        "      <td> False</td>\n",
        "      <td> False</td>\n",
        "      <td> False</td>\n",
        "      <td> False</td>\n",
        "      <td> False</td>\n",
        "      <td> False</td>\n",
        "      <td> False</td>\n",
        "      <td> False</td>\n",
        "      <td> False</td>\n",
        "      <td> False</td>\n",
        "      <td> False</td>\n",
        "      <td> False</td>\n",
        "      <td> False</td>\n",
        "      <td> False</td>\n",
        "      <td>...</td>\n",
        "      <td> False</td>\n",
        "      <td> False</td>\n",
        "      <td> False</td>\n",
        "      <td> False</td>\n",
        "      <td> False</td>\n",
        "      <td> False</td>\n",
        "      <td> False</td>\n",
        "      <td> False</td>\n",
        "      <td> False</td>\n",
        "      <td> False</td>\n",
        "      <td> False</td>\n",
        "      <td> False</td>\n",
        "      <td> False</td>\n",
        "      <td> False</td>\n",
        "      <td> False</td>\n",
        "      <td> False</td>\n",
        "      <td> False</td>\n",
        "      <td> False</td>\n",
        "      <td> False</td>\n",
        "      <td> False</td>\n",
        "      <td> False</td>\n",
        "      <td> False</td>\n",
        "      <td> False</td>\n",
        "      <td> False</td>\n",
        "      <td> False</td>\n",
        "      <td> False</td>\n",
        "      <td> False</td>\n",
        "      <td> False</td>\n",
        "      <td> False</td>\n",
        "      <td> False</td>\n",
        "      <td> False</td>\n",
        "      <td> False</td>\n",
        "      <td> False</td>\n",
        "      <td> False</td>\n",
        "      <td>  True</td>\n",
        "      <td> False</td>\n",
        "      <td> False</td>\n",
        "      <td> False</td>\n",
        "      <td> False</td>\n",
        "      <td> False</td>\n",
        "      <td> False</td>\n",
        "      <td> False</td>\n",
        "      <td> False</td>\n",
        "      <td> False</td>\n",
        "      <td> False</td>\n",
        "      <td> False</td>\n",
        "      <td> False</td>\n",
        "      <td> False</td>\n",
        "      <td> False</td>\n",
        "      <td> False</td>\n",
        "    </tr>\n",
        "    <tr>\n",
        "      <th>1035</th>\n",
        "      <td> 3.79</td>\n",
        "      <td> 10360</td>\n",
        "      <td> 031232118X</td>\n",
        "      <td> book</td>\n",
        "      <td> https://www.goodreads.com/author/show/13370.Em...</td>\n",
        "      <td> 2004</td>\n",
        "      <td> /genres/womens-fiction|/genres/chick-lit|/genr...</td>\n",
        "      <td>               dir11/42156.Something_Borrowed.html</td>\n",
        "      <td> 326109</td>\n",
        "      <td>                                Something Borrowed</td>\n",
        "      <td>        Emily_Giffin</td>\n",
        "      <td> womens-fiction|chick-lit|romance|contemporary|...</td>\n",
        "      <td> False</td>\n",
        "      <td> False</td>\n",
        "      <td> False</td>\n",
        "      <td> False</td>\n",
        "      <td> False</td>\n",
        "      <td> False</td>\n",
        "      <td> False</td>\n",
        "      <td> False</td>\n",
        "      <td> False</td>\n",
        "      <td> False</td>\n",
        "      <td> False</td>\n",
        "      <td> False</td>\n",
        "      <td> False</td>\n",
        "      <td> False</td>\n",
        "      <td> False</td>\n",
        "      <td>  True</td>\n",
        "      <td>  True</td>\n",
        "      <td> False</td>\n",
        "      <td> False</td>\n",
        "      <td> False</td>\n",
        "      <td> False</td>\n",
        "      <td> False</td>\n",
        "      <td> False</td>\n",
        "      <td> False</td>\n",
        "      <td> False</td>\n",
        "      <td> False</td>\n",
        "      <td> False</td>\n",
        "      <td> False</td>\n",
        "      <td> False</td>\n",
        "      <td> False</td>\n",
        "      <td> False</td>\n",
        "      <td> False</td>\n",
        "      <td> False</td>\n",
        "      <td> False</td>\n",
        "      <td> False</td>\n",
        "      <td> False</td>\n",
        "      <td> False</td>\n",
        "      <td> False</td>\n",
        "      <td>...</td>\n",
        "      <td> False</td>\n",
        "      <td> False</td>\n",
        "      <td> False</td>\n",
        "      <td> False</td>\n",
        "      <td> False</td>\n",
        "      <td> False</td>\n",
        "      <td> False</td>\n",
        "      <td> False</td>\n",
        "      <td> False</td>\n",
        "      <td> False</td>\n",
        "      <td> False</td>\n",
        "      <td> False</td>\n",
        "      <td> False</td>\n",
        "      <td> False</td>\n",
        "      <td> False</td>\n",
        "      <td> False</td>\n",
        "      <td> False</td>\n",
        "      <td> False</td>\n",
        "      <td> False</td>\n",
        "      <td> False</td>\n",
        "      <td> False</td>\n",
        "      <td> False</td>\n",
        "      <td> False</td>\n",
        "      <td> False</td>\n",
        "      <td> False</td>\n",
        "      <td> False</td>\n",
        "      <td> False</td>\n",
        "      <td> False</td>\n",
        "      <td> False</td>\n",
        "      <td> False</td>\n",
        "      <td> False</td>\n",
        "      <td> False</td>\n",
        "      <td> False</td>\n",
        "      <td> False</td>\n",
        "      <td>  True</td>\n",
        "      <td> False</td>\n",
        "      <td> False</td>\n",
        "      <td> False</td>\n",
        "      <td> False</td>\n",
        "      <td> False</td>\n",
        "      <td> False</td>\n",
        "      <td> False</td>\n",
        "      <td> False</td>\n",
        "      <td> False</td>\n",
        "      <td> False</td>\n",
        "      <td> False</td>\n",
        "      <td> False</td>\n",
        "      <td> False</td>\n",
        "      <td> False</td>\n",
        "      <td> False</td>\n",
        "    </tr>\n",
        "    <tr>\n",
        "      <th>1071</th>\n",
        "      <td> 3.89</td>\n",
        "      <td>  1475</td>\n",
        "      <td> 0385339704</td>\n",
        "      <td> book</td>\n",
        "      <td> https://www.goodreads.com/author/show/721.John...</td>\n",
        "      <td> 1992</td>\n",
        "      <td> /genres/fiction|/genres/novels|/genres/mystery...</td>\n",
        "      <td>                dir11/32499.The_Pelican_Brief.html</td>\n",
        "      <td> 221753</td>\n",
        "      <td>                                 The Pelican Brief</td>\n",
        "      <td>        John_Grisham</td>\n",
        "      <td> fiction|novels|mystery|contemporary|thriller|m...</td>\n",
        "      <td> False</td>\n",
        "      <td> False</td>\n",
        "      <td> False</td>\n",
        "      <td> False</td>\n",
        "      <td> False</td>\n",
        "      <td> False</td>\n",
        "      <td> False</td>\n",
        "      <td> False</td>\n",
        "      <td> False</td>\n",
        "      <td> False</td>\n",
        "      <td> False</td>\n",
        "      <td> False</td>\n",
        "      <td> False</td>\n",
        "      <td> False</td>\n",
        "      <td> False</td>\n",
        "      <td> False</td>\n",
        "      <td> False</td>\n",
        "      <td> False</td>\n",
        "      <td> False</td>\n",
        "      <td> False</td>\n",
        "      <td> False</td>\n",
        "      <td> False</td>\n",
        "      <td> False</td>\n",
        "      <td> False</td>\n",
        "      <td> False</td>\n",
        "      <td> False</td>\n",
        "      <td> False</td>\n",
        "      <td> False</td>\n",
        "      <td> False</td>\n",
        "      <td> False</td>\n",
        "      <td> False</td>\n",
        "      <td> False</td>\n",
        "      <td> False</td>\n",
        "      <td> False</td>\n",
        "      <td> False</td>\n",
        "      <td> False</td>\n",
        "      <td> False</td>\n",
        "      <td> False</td>\n",
        "      <td>...</td>\n",
        "      <td> False</td>\n",
        "      <td> False</td>\n",
        "      <td> False</td>\n",
        "      <td> False</td>\n",
        "      <td> False</td>\n",
        "      <td> False</td>\n",
        "      <td> False</td>\n",
        "      <td> False</td>\n",
        "      <td> False</td>\n",
        "      <td> False</td>\n",
        "      <td> False</td>\n",
        "      <td> False</td>\n",
        "      <td> False</td>\n",
        "      <td> False</td>\n",
        "      <td> False</td>\n",
        "      <td> False</td>\n",
        "      <td> False</td>\n",
        "      <td> False</td>\n",
        "      <td> False</td>\n",
        "      <td> False</td>\n",
        "      <td> False</td>\n",
        "      <td> False</td>\n",
        "      <td> False</td>\n",
        "      <td> False</td>\n",
        "      <td> False</td>\n",
        "      <td> False</td>\n",
        "      <td> False</td>\n",
        "      <td> False</td>\n",
        "      <td> False</td>\n",
        "      <td> False</td>\n",
        "      <td> False</td>\n",
        "      <td> False</td>\n",
        "      <td> False</td>\n",
        "      <td> False</td>\n",
        "      <td> False</td>\n",
        "      <td> False</td>\n",
        "      <td> False</td>\n",
        "      <td> False</td>\n",
        "      <td> False</td>\n",
        "      <td> False</td>\n",
        "      <td> False</td>\n",
        "      <td> False</td>\n",
        "      <td> False</td>\n",
        "      <td> False</td>\n",
        "      <td> False</td>\n",
        "      <td> False</td>\n",
        "      <td> False</td>\n",
        "      <td> False</td>\n",
        "      <td> False</td>\n",
        "      <td> False</td>\n",
        "    </tr>\n",
        "    <tr>\n",
        "      <th>1113</th>\n",
        "      <td> 3.93</td>\n",
        "      <td>  1332</td>\n",
        "      <td> 1400064562</td>\n",
        "      <td> book</td>\n",
        "      <td> https://www.goodreads.com/author/show/59542.Pe...</td>\n",
        "      <td> 1973</td>\n",
        "      <td> /genres/horror|/genres/fiction|/genres/thrille...</td>\n",
        "      <td>                            dir12/126232.Jaws.html</td>\n",
        "      <td>  73605</td>\n",
        "      <td>                                              Jaws</td>\n",
        "      <td>      Peter_Benchley</td>\n",
        "      <td> horror|fiction|thriller|adventure|classics|sus...</td>\n",
        "      <td> False</td>\n",
        "      <td> False</td>\n",
        "      <td> False</td>\n",
        "      <td> False</td>\n",
        "      <td> False</td>\n",
        "      <td> False</td>\n",
        "      <td> False</td>\n",
        "      <td> False</td>\n",
        "      <td> False</td>\n",
        "      <td> False</td>\n",
        "      <td> False</td>\n",
        "      <td> False</td>\n",
        "      <td> False</td>\n",
        "      <td> False</td>\n",
        "      <td> False</td>\n",
        "      <td>  True</td>\n",
        "      <td> False</td>\n",
        "      <td>  True</td>\n",
        "      <td> False</td>\n",
        "      <td> False</td>\n",
        "      <td> False</td>\n",
        "      <td> False</td>\n",
        "      <td> False</td>\n",
        "      <td> False</td>\n",
        "      <td> False</td>\n",
        "      <td> False</td>\n",
        "      <td> False</td>\n",
        "      <td> False</td>\n",
        "      <td> False</td>\n",
        "      <td> False</td>\n",
        "      <td> False</td>\n",
        "      <td> False</td>\n",
        "      <td> False</td>\n",
        "      <td> False</td>\n",
        "      <td>  True</td>\n",
        "      <td> False</td>\n",
        "      <td> False</td>\n",
        "      <td> False</td>\n",
        "      <td>...</td>\n",
        "      <td> False</td>\n",
        "      <td> False</td>\n",
        "      <td> False</td>\n",
        "      <td> False</td>\n",
        "      <td> False</td>\n",
        "      <td> False</td>\n",
        "      <td> False</td>\n",
        "      <td> False</td>\n",
        "      <td> False</td>\n",
        "      <td> False</td>\n",
        "      <td> False</td>\n",
        "      <td> False</td>\n",
        "      <td> False</td>\n",
        "      <td> False</td>\n",
        "      <td> False</td>\n",
        "      <td> False</td>\n",
        "      <td> False</td>\n",
        "      <td> False</td>\n",
        "      <td> False</td>\n",
        "      <td> False</td>\n",
        "      <td> False</td>\n",
        "      <td> False</td>\n",
        "      <td> False</td>\n",
        "      <td> False</td>\n",
        "      <td> False</td>\n",
        "      <td> False</td>\n",
        "      <td> False</td>\n",
        "      <td> False</td>\n",
        "      <td> False</td>\n",
        "      <td> False</td>\n",
        "      <td> False</td>\n",
        "      <td> False</td>\n",
        "      <td> False</td>\n",
        "      <td> False</td>\n",
        "      <td> False</td>\n",
        "      <td> False</td>\n",
        "      <td> False</td>\n",
        "      <td> False</td>\n",
        "      <td> False</td>\n",
        "      <td> False</td>\n",
        "      <td> False</td>\n",
        "      <td> False</td>\n",
        "      <td> False</td>\n",
        "      <td> False</td>\n",
        "      <td> False</td>\n",
        "      <td> False</td>\n",
        "      <td> False</td>\n",
        "      <td> False</td>\n",
        "      <td> False</td>\n",
        "      <td> False</td>\n",
        "    </tr>\n",
        "    <tr>\n",
        "      <th>1136</th>\n",
        "      <td> 3.73</td>\n",
        "      <td>  1004</td>\n",
        "      <td> 2266047426</td>\n",
        "      <td> book</td>\n",
        "      <td> https://www.goodreads.com/author/show/3389.Ste...</td>\n",
        "      <td> 1992</td>\n",
        "      <td> /genres/horror|/genres/fiction|/genres/thrille...</td>\n",
        "      <td>                dir12/10625.Dolores_Claiborne.html</td>\n",
        "      <td>  70797</td>\n",
        "      <td>                                 Dolores Claiborne</td>\n",
        "      <td>        Stephen_King</td>\n",
        "      <td> horror|fiction|thriller|mystery|suspense|myste...</td>\n",
        "      <td> False</td>\n",
        "      <td> False</td>\n",
        "      <td> False</td>\n",
        "      <td> False</td>\n",
        "      <td> False</td>\n",
        "      <td> False</td>\n",
        "      <td> False</td>\n",
        "      <td> False</td>\n",
        "      <td> False</td>\n",
        "      <td> False</td>\n",
        "      <td> False</td>\n",
        "      <td> False</td>\n",
        "      <td> False</td>\n",
        "      <td> False</td>\n",
        "      <td> False</td>\n",
        "      <td> False</td>\n",
        "      <td> False</td>\n",
        "      <td> False</td>\n",
        "      <td> False</td>\n",
        "      <td> False</td>\n",
        "      <td> False</td>\n",
        "      <td> False</td>\n",
        "      <td> False</td>\n",
        "      <td> False</td>\n",
        "      <td> False</td>\n",
        "      <td> False</td>\n",
        "      <td> False</td>\n",
        "      <td> False</td>\n",
        "      <td> False</td>\n",
        "      <td> False</td>\n",
        "      <td> False</td>\n",
        "      <td> False</td>\n",
        "      <td> False</td>\n",
        "      <td> False</td>\n",
        "      <td> False</td>\n",
        "      <td> False</td>\n",
        "      <td> False</td>\n",
        "      <td> False</td>\n",
        "      <td>...</td>\n",
        "      <td> False</td>\n",
        "      <td> False</td>\n",
        "      <td> False</td>\n",
        "      <td> False</td>\n",
        "      <td> False</td>\n",
        "      <td> False</td>\n",
        "      <td> False</td>\n",
        "      <td> False</td>\n",
        "      <td> False</td>\n",
        "      <td> False</td>\n",
        "      <td> False</td>\n",
        "      <td> False</td>\n",
        "      <td> False</td>\n",
        "      <td> False</td>\n",
        "      <td> False</td>\n",
        "      <td> False</td>\n",
        "      <td> False</td>\n",
        "      <td> False</td>\n",
        "      <td> False</td>\n",
        "      <td> False</td>\n",
        "      <td> False</td>\n",
        "      <td> False</td>\n",
        "      <td> False</td>\n",
        "      <td> False</td>\n",
        "      <td> False</td>\n",
        "      <td> False</td>\n",
        "      <td> False</td>\n",
        "      <td> False</td>\n",
        "      <td> False</td>\n",
        "      <td> False</td>\n",
        "      <td> False</td>\n",
        "      <td> False</td>\n",
        "      <td> False</td>\n",
        "      <td>  True</td>\n",
        "      <td> False</td>\n",
        "      <td> False</td>\n",
        "      <td> False</td>\n",
        "      <td> False</td>\n",
        "      <td> False</td>\n",
        "      <td> False</td>\n",
        "      <td> False</td>\n",
        "      <td> False</td>\n",
        "      <td> False</td>\n",
        "      <td> False</td>\n",
        "      <td> False</td>\n",
        "      <td> False</td>\n",
        "      <td> False</td>\n",
        "      <td> False</td>\n",
        "      <td> False</td>\n",
        "      <td> False</td>\n",
        "    </tr>\n",
        "    <tr>\n",
        "      <th>2102</th>\n",
        "      <td> 3.74</td>\n",
        "      <td>  2203</td>\n",
        "      <td> 0743495667</td>\n",
        "      <td> book</td>\n",
        "      <td> https://www.goodreads.com/author/show/9212.Jen...</td>\n",
        "      <td> 2002</td>\n",
        "      <td> /genres/womens-fiction|/genres/chick-lit|/genr...</td>\n",
        "      <td>                     dir22/14758.In_Her_Shoes.html</td>\n",
        "      <td> 130414</td>\n",
        "      <td>                                      In Her Shoes</td>\n",
        "      <td>     Jennifer_Weiner</td>\n",
        "      <td> womens-fiction|chick-lit|fiction|romance|adult...</td>\n",
        "      <td> False</td>\n",
        "      <td> False</td>\n",
        "      <td> False</td>\n",
        "      <td> False</td>\n",
        "      <td> False</td>\n",
        "      <td> False</td>\n",
        "      <td> False</td>\n",
        "      <td> False</td>\n",
        "      <td> False</td>\n",
        "      <td> False</td>\n",
        "      <td> False</td>\n",
        "      <td> False</td>\n",
        "      <td> False</td>\n",
        "      <td> False</td>\n",
        "      <td> False</td>\n",
        "      <td>  True</td>\n",
        "      <td>  True</td>\n",
        "      <td> False</td>\n",
        "      <td> False</td>\n",
        "      <td> False</td>\n",
        "      <td> False</td>\n",
        "      <td> False</td>\n",
        "      <td> False</td>\n",
        "      <td> False</td>\n",
        "      <td> False</td>\n",
        "      <td> False</td>\n",
        "      <td> False</td>\n",
        "      <td> False</td>\n",
        "      <td> False</td>\n",
        "      <td> False</td>\n",
        "      <td> False</td>\n",
        "      <td> False</td>\n",
        "      <td> False</td>\n",
        "      <td> False</td>\n",
        "      <td> False</td>\n",
        "      <td> False</td>\n",
        "      <td> False</td>\n",
        "      <td> False</td>\n",
        "      <td>...</td>\n",
        "      <td> False</td>\n",
        "      <td> False</td>\n",
        "      <td> False</td>\n",
        "      <td> False</td>\n",
        "      <td> False</td>\n",
        "      <td> False</td>\n",
        "      <td> False</td>\n",
        "      <td> False</td>\n",
        "      <td> False</td>\n",
        "      <td> False</td>\n",
        "      <td> False</td>\n",
        "      <td> False</td>\n",
        "      <td> False</td>\n",
        "      <td> False</td>\n",
        "      <td> False</td>\n",
        "      <td> False</td>\n",
        "      <td> False</td>\n",
        "      <td> False</td>\n",
        "      <td> False</td>\n",
        "      <td> False</td>\n",
        "      <td> False</td>\n",
        "      <td> False</td>\n",
        "      <td> False</td>\n",
        "      <td> False</td>\n",
        "      <td> False</td>\n",
        "      <td> False</td>\n",
        "      <td> False</td>\n",
        "      <td> False</td>\n",
        "      <td> False</td>\n",
        "      <td> False</td>\n",
        "      <td> False</td>\n",
        "      <td> False</td>\n",
        "      <td> False</td>\n",
        "      <td> False</td>\n",
        "      <td>  True</td>\n",
        "      <td> False</td>\n",
        "      <td> False</td>\n",
        "      <td> False</td>\n",
        "      <td> False</td>\n",
        "      <td> False</td>\n",
        "      <td> False</td>\n",
        "      <td> False</td>\n",
        "      <td> False</td>\n",
        "      <td> False</td>\n",
        "      <td> False</td>\n",
        "      <td> False</td>\n",
        "      <td> False</td>\n",
        "      <td> False</td>\n",
        "      <td> False</td>\n",
        "      <td> False</td>\n",
        "    </tr>\n",
        "    <tr>\n",
        "      <th>2571</th>\n",
        "      <td> 3.69</td>\n",
        "      <td>   870</td>\n",
        "      <td> 045052468X</td>\n",
        "      <td> book</td>\n",
        "      <td> https://www.goodreads.com/author/show/3389.Ste...</td>\n",
        "      <td> 1989</td>\n",
        "      <td> /genres/horror|/genres/fiction|/genres/thrille...</td>\n",
        "      <td>                    dir26/11597.The_Dark_Half.html</td>\n",
        "      <td>  74017</td>\n",
        "      <td>                                     The Dark Half</td>\n",
        "      <td>        Stephen_King</td>\n",
        "      <td> horror|fiction|thriller|fantasy|fantasy|supern...</td>\n",
        "      <td> False</td>\n",
        "      <td> False</td>\n",
        "      <td> False</td>\n",
        "      <td> False</td>\n",
        "      <td> False</td>\n",
        "      <td> False</td>\n",
        "      <td> False</td>\n",
        "      <td> False</td>\n",
        "      <td> False</td>\n",
        "      <td> False</td>\n",
        "      <td> False</td>\n",
        "      <td> False</td>\n",
        "      <td> False</td>\n",
        "      <td> False</td>\n",
        "      <td> False</td>\n",
        "      <td> False</td>\n",
        "      <td> False</td>\n",
        "      <td> False</td>\n",
        "      <td> False</td>\n",
        "      <td> False</td>\n",
        "      <td> False</td>\n",
        "      <td> False</td>\n",
        "      <td> False</td>\n",
        "      <td> False</td>\n",
        "      <td>  True</td>\n",
        "      <td> False</td>\n",
        "      <td> False</td>\n",
        "      <td> False</td>\n",
        "      <td> False</td>\n",
        "      <td> False</td>\n",
        "      <td> False</td>\n",
        "      <td> False</td>\n",
        "      <td> False</td>\n",
        "      <td> False</td>\n",
        "      <td> False</td>\n",
        "      <td> False</td>\n",
        "      <td> False</td>\n",
        "      <td> False</td>\n",
        "      <td>...</td>\n",
        "      <td> False</td>\n",
        "      <td> False</td>\n",
        "      <td> False</td>\n",
        "      <td> False</td>\n",
        "      <td> False</td>\n",
        "      <td> False</td>\n",
        "      <td> False</td>\n",
        "      <td> False</td>\n",
        "      <td> False</td>\n",
        "      <td> False</td>\n",
        "      <td> False</td>\n",
        "      <td> False</td>\n",
        "      <td> False</td>\n",
        "      <td> False</td>\n",
        "      <td> False</td>\n",
        "      <td> False</td>\n",
        "      <td> False</td>\n",
        "      <td> False</td>\n",
        "      <td> False</td>\n",
        "      <td> False</td>\n",
        "      <td> False</td>\n",
        "      <td> False</td>\n",
        "      <td> False</td>\n",
        "      <td> False</td>\n",
        "      <td> False</td>\n",
        "      <td> False</td>\n",
        "      <td> False</td>\n",
        "      <td> False</td>\n",
        "      <td> False</td>\n",
        "      <td> False</td>\n",
        "      <td> False</td>\n",
        "      <td> False</td>\n",
        "      <td> False</td>\n",
        "      <td> False</td>\n",
        "      <td> False</td>\n",
        "      <td> False</td>\n",
        "      <td> False</td>\n",
        "      <td> False</td>\n",
        "      <td> False</td>\n",
        "      <td> False</td>\n",
        "      <td> False</td>\n",
        "      <td> False</td>\n",
        "      <td> False</td>\n",
        "      <td> False</td>\n",
        "      <td> False</td>\n",
        "      <td> False</td>\n",
        "      <td> False</td>\n",
        "      <td> False</td>\n",
        "      <td> False</td>\n",
        "      <td> False</td>\n",
        "    </tr>\n",
        "    <tr>\n",
        "      <th>3157</th>\n",
        "      <td> 4.25</td>\n",
        "      <td>   922</td>\n",
        "      <td> 0871137380</td>\n",
        "      <td> book</td>\n",
        "      <td> https://www.goodreads.com/author/show/3098.Mar...</td>\n",
        "      <td> 1999</td>\n",
        "      <td> /genres/history|/genres/non-fiction|/genres/wa...</td>\n",
        "      <td>                  dir32/55403.Black_Hawk_Down.html</td>\n",
        "      <td>  30692</td>\n",
        "      <td>                                   Black Hawk Down</td>\n",
        "      <td>         Mark_Bowden</td>\n",
        "      <td> history|non-fiction|war|military|war|military|...</td>\n",
        "      <td> False</td>\n",
        "      <td> False</td>\n",
        "      <td> False</td>\n",
        "      <td> False</td>\n",
        "      <td> False</td>\n",
        "      <td> False</td>\n",
        "      <td> False</td>\n",
        "      <td> False</td>\n",
        "      <td> False</td>\n",
        "      <td> False</td>\n",
        "      <td> False</td>\n",
        "      <td> False</td>\n",
        "      <td> False</td>\n",
        "      <td> False</td>\n",
        "      <td> False</td>\n",
        "      <td> False</td>\n",
        "      <td> False</td>\n",
        "      <td> False</td>\n",
        "      <td>  True</td>\n",
        "      <td> False</td>\n",
        "      <td> False</td>\n",
        "      <td> False</td>\n",
        "      <td> False</td>\n",
        "      <td> False</td>\n",
        "      <td> False</td>\n",
        "      <td> False</td>\n",
        "      <td> False</td>\n",
        "      <td>  True</td>\n",
        "      <td> False</td>\n",
        "      <td> False</td>\n",
        "      <td> False</td>\n",
        "      <td> False</td>\n",
        "      <td> False</td>\n",
        "      <td> False</td>\n",
        "      <td> False</td>\n",
        "      <td> False</td>\n",
        "      <td> False</td>\n",
        "      <td> False</td>\n",
        "      <td>...</td>\n",
        "      <td> False</td>\n",
        "      <td> False</td>\n",
        "      <td> False</td>\n",
        "      <td> False</td>\n",
        "      <td> False</td>\n",
        "      <td> False</td>\n",
        "      <td> False</td>\n",
        "      <td> False</td>\n",
        "      <td> False</td>\n",
        "      <td> False</td>\n",
        "      <td> False</td>\n",
        "      <td> False</td>\n",
        "      <td> False</td>\n",
        "      <td> False</td>\n",
        "      <td> False</td>\n",
        "      <td> False</td>\n",
        "      <td> False</td>\n",
        "      <td> False</td>\n",
        "      <td> False</td>\n",
        "      <td> False</td>\n",
        "      <td> False</td>\n",
        "      <td> False</td>\n",
        "      <td>  True</td>\n",
        "      <td> False</td>\n",
        "      <td> False</td>\n",
        "      <td> False</td>\n",
        "      <td> False</td>\n",
        "      <td> False</td>\n",
        "      <td> False</td>\n",
        "      <td> False</td>\n",
        "      <td> False</td>\n",
        "      <td> False</td>\n",
        "      <td> False</td>\n",
        "      <td> False</td>\n",
        "      <td> False</td>\n",
        "      <td> False</td>\n",
        "      <td> False</td>\n",
        "      <td> False</td>\n",
        "      <td>  True</td>\n",
        "      <td> False</td>\n",
        "      <td> False</td>\n",
        "      <td> False</td>\n",
        "      <td> False</td>\n",
        "      <td> False</td>\n",
        "      <td> False</td>\n",
        "      <td> False</td>\n",
        "      <td> False</td>\n",
        "      <td> False</td>\n",
        "      <td> False</td>\n",
        "      <td> False</td>\n",
        "    </tr>\n",
        "    <tr>\n",
        "      <th>3178</th>\n",
        "      <td> 3.86</td>\n",
        "      <td>    47</td>\n",
        "      <td> 0345345134</td>\n",
        "      <td> book</td>\n",
        "      <td> https://www.goodreads.com/author/show/90476.Ch...</td>\n",
        "      <td> 1980</td>\n",
        "      <td> /genres/biography|/genres/non-fiction|/genres/...</td>\n",
        "      <td>                    dir32/156378.Elephant_Man.html</td>\n",
        "      <td>    917</td>\n",
        "      <td>                                      Elephant Man</td>\n",
        "      <td>    Christine_Sparks</td>\n",
        "      <td> biography|non-fiction|classics|history|drama|h...</td>\n",
        "      <td> False</td>\n",
        "      <td> False</td>\n",
        "      <td> False</td>\n",
        "      <td> False</td>\n",
        "      <td> False</td>\n",
        "      <td> False</td>\n",
        "      <td> False</td>\n",
        "      <td> False</td>\n",
        "      <td> False</td>\n",
        "      <td> False</td>\n",
        "      <td>  True</td>\n",
        "      <td> False</td>\n",
        "      <td> False</td>\n",
        "      <td> False</td>\n",
        "      <td> False</td>\n",
        "      <td> False</td>\n",
        "      <td> False</td>\n",
        "      <td> False</td>\n",
        "      <td> False</td>\n",
        "      <td> False</td>\n",
        "      <td> False</td>\n",
        "      <td> False</td>\n",
        "      <td> False</td>\n",
        "      <td> False</td>\n",
        "      <td> False</td>\n",
        "      <td> False</td>\n",
        "      <td> False</td>\n",
        "      <td> False</td>\n",
        "      <td> False</td>\n",
        "      <td> False</td>\n",
        "      <td> False</td>\n",
        "      <td> False</td>\n",
        "      <td> False</td>\n",
        "      <td> False</td>\n",
        "      <td> False</td>\n",
        "      <td> False</td>\n",
        "      <td> False</td>\n",
        "      <td> False</td>\n",
        "      <td>...</td>\n",
        "      <td> False</td>\n",
        "      <td> False</td>\n",
        "      <td> False</td>\n",
        "      <td> False</td>\n",
        "      <td> False</td>\n",
        "      <td> False</td>\n",
        "      <td> False</td>\n",
        "      <td> False</td>\n",
        "      <td> False</td>\n",
        "      <td> False</td>\n",
        "      <td> False</td>\n",
        "      <td> False</td>\n",
        "      <td> False</td>\n",
        "      <td> False</td>\n",
        "      <td> False</td>\n",
        "      <td> False</td>\n",
        "      <td> False</td>\n",
        "      <td> False</td>\n",
        "      <td> False</td>\n",
        "      <td> False</td>\n",
        "      <td> False</td>\n",
        "      <td> False</td>\n",
        "      <td> False</td>\n",
        "      <td> False</td>\n",
        "      <td> False</td>\n",
        "      <td> False</td>\n",
        "      <td> False</td>\n",
        "      <td> False</td>\n",
        "      <td> False</td>\n",
        "      <td> False</td>\n",
        "      <td> False</td>\n",
        "      <td> False</td>\n",
        "      <td> False</td>\n",
        "      <td> False</td>\n",
        "      <td> False</td>\n",
        "      <td> False</td>\n",
        "      <td> False</td>\n",
        "      <td> False</td>\n",
        "      <td> False</td>\n",
        "      <td> False</td>\n",
        "      <td> False</td>\n",
        "      <td> False</td>\n",
        "      <td> False</td>\n",
        "      <td> False</td>\n",
        "      <td> False</td>\n",
        "      <td> False</td>\n",
        "      <td> False</td>\n",
        "      <td> False</td>\n",
        "      <td> False</td>\n",
        "      <td> False</td>\n",
        "    </tr>\n",
        "    <tr>\n",
        "      <th>3197</th>\n",
        "      <td> 3.97</td>\n",
        "      <td>  2018</td>\n",
        "      <td> 0739467042</td>\n",
        "      <td> book</td>\n",
        "      <td> https://www.goodreads.com/author/show/36667.Vi...</td>\n",
        "      <td> 2000</td>\n",
        "      <td> /genres/cultural|/genres/india|/genres/fiction...</td>\n",
        "      <td>                             dir32/288644.Q_A.html</td>\n",
        "      <td>  18218</td>\n",
        "      <td>                                             Q &amp; A</td>\n",
        "      <td>        Vikas_Swarup</td>\n",
        "      <td> cultural|india|fiction|contemporary|book-club|...</td>\n",
        "      <td> False</td>\n",
        "      <td> False</td>\n",
        "      <td> False</td>\n",
        "      <td> False</td>\n",
        "      <td> False</td>\n",
        "      <td> False</td>\n",
        "      <td> False</td>\n",
        "      <td> False</td>\n",
        "      <td> False</td>\n",
        "      <td> False</td>\n",
        "      <td> False</td>\n",
        "      <td> False</td>\n",
        "      <td> False</td>\n",
        "      <td> False</td>\n",
        "      <td> False</td>\n",
        "      <td> False</td>\n",
        "      <td>  True</td>\n",
        "      <td> False</td>\n",
        "      <td> False</td>\n",
        "      <td> False</td>\n",
        "      <td> False</td>\n",
        "      <td> False</td>\n",
        "      <td> False</td>\n",
        "      <td> False</td>\n",
        "      <td> False</td>\n",
        "      <td> False</td>\n",
        "      <td> False</td>\n",
        "      <td> False</td>\n",
        "      <td> False</td>\n",
        "      <td> False</td>\n",
        "      <td> False</td>\n",
        "      <td> False</td>\n",
        "      <td> False</td>\n",
        "      <td> False</td>\n",
        "      <td> False</td>\n",
        "      <td> False</td>\n",
        "      <td> False</td>\n",
        "      <td> False</td>\n",
        "      <td>...</td>\n",
        "      <td> False</td>\n",
        "      <td> False</td>\n",
        "      <td> False</td>\n",
        "      <td> False</td>\n",
        "      <td> False</td>\n",
        "      <td> False</td>\n",
        "      <td> False</td>\n",
        "      <td> False</td>\n",
        "      <td> False</td>\n",
        "      <td> False</td>\n",
        "      <td> False</td>\n",
        "      <td> False</td>\n",
        "      <td> False</td>\n",
        "      <td> False</td>\n",
        "      <td> False</td>\n",
        "      <td> False</td>\n",
        "      <td> False</td>\n",
        "      <td> False</td>\n",
        "      <td> False</td>\n",
        "      <td> False</td>\n",
        "      <td> False</td>\n",
        "      <td> False</td>\n",
        "      <td> False</td>\n",
        "      <td> False</td>\n",
        "      <td> False</td>\n",
        "      <td> False</td>\n",
        "      <td> False</td>\n",
        "      <td> False</td>\n",
        "      <td> False</td>\n",
        "      <td> False</td>\n",
        "      <td> False</td>\n",
        "      <td> False</td>\n",
        "      <td> False</td>\n",
        "      <td> False</td>\n",
        "      <td> False</td>\n",
        "      <td> False</td>\n",
        "      <td> False</td>\n",
        "      <td> False</td>\n",
        "      <td> False</td>\n",
        "      <td> False</td>\n",
        "      <td> False</td>\n",
        "      <td> False</td>\n",
        "      <td> False</td>\n",
        "      <td> False</td>\n",
        "      <td> False</td>\n",
        "      <td> False</td>\n",
        "      <td> False</td>\n",
        "      <td> False</td>\n",
        "      <td> False</td>\n",
        "      <td> False</td>\n",
        "    </tr>\n",
        "    <tr>\n",
        "      <th>3449</th>\n",
        "      <td> 4.30</td>\n",
        "      <td>   156</td>\n",
        "      <td> 0316075809</td>\n",
        "      <td> book</td>\n",
        "      <td> https://www.goodreads.com/author/show/61939.Ma...</td>\n",
        "      <td> 2009</td>\n",
        "      <td> /genres/paranormal|/genres/vampires|/genres/yo...</td>\n",
        "      <td>                       dir35/6466909-new-moon.html</td>\n",
        "      <td>  41758</td>\n",
        "      <td> New Moon (The Twilight Saga: The Official Illu...</td>\n",
        "      <td>      Mark_Cotta_Vaz</td>\n",
        "      <td> paranormal|vampires|young-adult|fantasy|romanc...</td>\n",
        "      <td> False</td>\n",
        "      <td> False</td>\n",
        "      <td> False</td>\n",
        "      <td> False</td>\n",
        "      <td> False</td>\n",
        "      <td> False</td>\n",
        "      <td> False</td>\n",
        "      <td> False</td>\n",
        "      <td> False</td>\n",
        "      <td> False</td>\n",
        "      <td> False</td>\n",
        "      <td> False</td>\n",
        "      <td> False</td>\n",
        "      <td> False</td>\n",
        "      <td> False</td>\n",
        "      <td> False</td>\n",
        "      <td> False</td>\n",
        "      <td> False</td>\n",
        "      <td> False</td>\n",
        "      <td> False</td>\n",
        "      <td> False</td>\n",
        "      <td> False</td>\n",
        "      <td> False</td>\n",
        "      <td> False</td>\n",
        "      <td> False</td>\n",
        "      <td> False</td>\n",
        "      <td> False</td>\n",
        "      <td> False</td>\n",
        "      <td> False</td>\n",
        "      <td> False</td>\n",
        "      <td> False</td>\n",
        "      <td> False</td>\n",
        "      <td> False</td>\n",
        "      <td> False</td>\n",
        "      <td> False</td>\n",
        "      <td> False</td>\n",
        "      <td> False</td>\n",
        "      <td> False</td>\n",
        "      <td>...</td>\n",
        "      <td> False</td>\n",
        "      <td> False</td>\n",
        "      <td> False</td>\n",
        "      <td> False</td>\n",
        "      <td> False</td>\n",
        "      <td> False</td>\n",
        "      <td> False</td>\n",
        "      <td> False</td>\n",
        "      <td> False</td>\n",
        "      <td> False</td>\n",
        "      <td> False</td>\n",
        "      <td> False</td>\n",
        "      <td> False</td>\n",
        "      <td> False</td>\n",
        "      <td> False</td>\n",
        "      <td> False</td>\n",
        "      <td> False</td>\n",
        "      <td> False</td>\n",
        "      <td>  True</td>\n",
        "      <td> False</td>\n",
        "      <td> False</td>\n",
        "      <td> False</td>\n",
        "      <td> False</td>\n",
        "      <td> False</td>\n",
        "      <td>  True</td>\n",
        "      <td> False</td>\n",
        "      <td> False</td>\n",
        "      <td> False</td>\n",
        "      <td> False</td>\n",
        "      <td> False</td>\n",
        "      <td> False</td>\n",
        "      <td> False</td>\n",
        "      <td> False</td>\n",
        "      <td> False</td>\n",
        "      <td> False</td>\n",
        "      <td> False</td>\n",
        "      <td> False</td>\n",
        "      <td> False</td>\n",
        "      <td> False</td>\n",
        "      <td> False</td>\n",
        "      <td>  True</td>\n",
        "      <td> False</td>\n",
        "      <td> False</td>\n",
        "      <td> False</td>\n",
        "      <td> False</td>\n",
        "      <td> False</td>\n",
        "      <td> False</td>\n",
        "      <td> False</td>\n",
        "      <td> False</td>\n",
        "      <td> False</td>\n",
        "    </tr>\n",
        "    <tr>\n",
        "      <th>3452</th>\n",
        "      <td> 4.52</td>\n",
        "      <td>   339</td>\n",
        "      <td> 0545422906</td>\n",
        "      <td> book</td>\n",
        "      <td> https://www.goodreads.com/author/show/13599.Ka...</td>\n",
        "      <td> 2012</td>\n",
        "      <td> /genres/non-fiction|/genres/science-fiction|/g...</td>\n",
        "      <td>              dir35/11742691-the-hunger-games.html</td>\n",
        "      <td>  73993</td>\n",
        "      <td>                                  The Hunger Games</td>\n",
        "      <td>           Kate_Egan</td>\n",
        "      <td> non-fiction|science-fiction|dystopia|media-tie...</td>\n",
        "      <td> False</td>\n",
        "      <td> False</td>\n",
        "      <td> False</td>\n",
        "      <td> False</td>\n",
        "      <td> False</td>\n",
        "      <td> False</td>\n",
        "      <td> False</td>\n",
        "      <td> False</td>\n",
        "      <td> False</td>\n",
        "      <td> False</td>\n",
        "      <td> False</td>\n",
        "      <td> False</td>\n",
        "      <td> False</td>\n",
        "      <td> False</td>\n",
        "      <td> False</td>\n",
        "      <td> False</td>\n",
        "      <td> False</td>\n",
        "      <td>  True</td>\n",
        "      <td> False</td>\n",
        "      <td> False</td>\n",
        "      <td> False</td>\n",
        "      <td> False</td>\n",
        "      <td> False</td>\n",
        "      <td> False</td>\n",
        "      <td> False</td>\n",
        "      <td> False</td>\n",
        "      <td> False</td>\n",
        "      <td> False</td>\n",
        "      <td> False</td>\n",
        "      <td> False</td>\n",
        "      <td> False</td>\n",
        "      <td> False</td>\n",
        "      <td> False</td>\n",
        "      <td> False</td>\n",
        "      <td> False</td>\n",
        "      <td> False</td>\n",
        "      <td> False</td>\n",
        "      <td> False</td>\n",
        "      <td>...</td>\n",
        "      <td> False</td>\n",
        "      <td> False</td>\n",
        "      <td> False</td>\n",
        "      <td> False</td>\n",
        "      <td> False</td>\n",
        "      <td> False</td>\n",
        "      <td> False</td>\n",
        "      <td> False</td>\n",
        "      <td> False</td>\n",
        "      <td> False</td>\n",
        "      <td> False</td>\n",
        "      <td> False</td>\n",
        "      <td> False</td>\n",
        "      <td> False</td>\n",
        "      <td> False</td>\n",
        "      <td> False</td>\n",
        "      <td> False</td>\n",
        "      <td> False</td>\n",
        "      <td> False</td>\n",
        "      <td> False</td>\n",
        "      <td> False</td>\n",
        "      <td> False</td>\n",
        "      <td> False</td>\n",
        "      <td> False</td>\n",
        "      <td> False</td>\n",
        "      <td> False</td>\n",
        "      <td> False</td>\n",
        "      <td> False</td>\n",
        "      <td> False</td>\n",
        "      <td> False</td>\n",
        "      <td> False</td>\n",
        "      <td> False</td>\n",
        "      <td> False</td>\n",
        "      <td> False</td>\n",
        "      <td> False</td>\n",
        "      <td> False</td>\n",
        "      <td> False</td>\n",
        "      <td> False</td>\n",
        "      <td> False</td>\n",
        "      <td> False</td>\n",
        "      <td>  True</td>\n",
        "      <td> False</td>\n",
        "      <td> False</td>\n",
        "      <td> False</td>\n",
        "      <td> False</td>\n",
        "      <td> False</td>\n",
        "      <td> False</td>\n",
        "      <td> False</td>\n",
        "      <td> False</td>\n",
        "      <td> False</td>\n",
        "    </tr>\n",
        "    <tr>\n",
        "      <th>3814</th>\n",
        "      <td> 3.90</td>\n",
        "      <td>   392</td>\n",
        "      <td> 9770909998</td>\n",
        "      <td> book</td>\n",
        "      <td> https://www.goodreads.com/author/show/353145.T...</td>\n",
        "      <td> 1937</td>\n",
        "      <td> /genres/novels|/genres/literature|/genres/cult...</td>\n",
        "      <td>                                dir39/3482579.html</td>\n",
        "      <td>   4409</td>\n",
        "      <td>         \u00d9\u008a\u00d9\u0088\u00d9\u0085",
        "\u00d9\u008a\u00d8\u00a7\u00d8\u00aa \u00d9\u0086\u00d8\u00a7\u00d8\u00a6\u00d8\u00a8 \u00d9\u0081\u00d9\u0089 \u00d8\u00a7\u00d9\u0084\u00d8\u00a3\u00d8\u00b1\u00d9\u008a\u00d8\u00a7\u00d9\u0081</td>\n",
        "      <td>     Tawfiq_Al_Hakim</td>\n",
        "      <td> novels|literature|cultural|egypt|fiction|polit...</td>\n",
        "      <td> False</td>\n",
        "      <td> False</td>\n",
        "      <td> False</td>\n",
        "      <td> False</td>\n",
        "      <td> False</td>\n",
        "      <td> False</td>\n",
        "      <td> False</td>\n",
        "      <td> False</td>\n",
        "      <td> False</td>\n",
        "      <td> False</td>\n",
        "      <td> False</td>\n",
        "      <td> False</td>\n",
        "      <td> False</td>\n",
        "      <td> False</td>\n",
        "      <td> False</td>\n",
        "      <td> False</td>\n",
        "      <td> False</td>\n",
        "      <td> False</td>\n",
        "      <td> False</td>\n",
        "      <td> False</td>\n",
        "      <td> False</td>\n",
        "      <td>  True</td>\n",
        "      <td> False</td>\n",
        "      <td> False</td>\n",
        "      <td> False</td>\n",
        "      <td> False</td>\n",
        "      <td> False</td>\n",
        "      <td> False</td>\n",
        "      <td> False</td>\n",
        "      <td> False</td>\n",
        "      <td> False</td>\n",
        "      <td> False</td>\n",
        "      <td> False</td>\n",
        "      <td> False</td>\n",
        "      <td> False</td>\n",
        "      <td> False</td>\n",
        "      <td> False</td>\n",
        "      <td> False</td>\n",
        "      <td>...</td>\n",
        "      <td> False</td>\n",
        "      <td> False</td>\n",
        "      <td> False</td>\n",
        "      <td> False</td>\n",
        "      <td> False</td>\n",
        "      <td> False</td>\n",
        "      <td> False</td>\n",
        "      <td> False</td>\n",
        "      <td> False</td>\n",
        "      <td> False</td>\n",
        "      <td> False</td>\n",
        "      <td> False</td>\n",
        "      <td> False</td>\n",
        "      <td> False</td>\n",
        "      <td> False</td>\n",
        "      <td> False</td>\n",
        "      <td> False</td>\n",
        "      <td> False</td>\n",
        "      <td> False</td>\n",
        "      <td> False</td>\n",
        "      <td> False</td>\n",
        "      <td> False</td>\n",
        "      <td> False</td>\n",
        "      <td> False</td>\n",
        "      <td> False</td>\n",
        "      <td> False</td>\n",
        "      <td> False</td>\n",
        "      <td> False</td>\n",
        "      <td> False</td>\n",
        "      <td> False</td>\n",
        "      <td> False</td>\n",
        "      <td> False</td>\n",
        "      <td> False</td>\n",
        "      <td> False</td>\n",
        "      <td> False</td>\n",
        "      <td> False</td>\n",
        "      <td> False</td>\n",
        "      <td> False</td>\n",
        "      <td> False</td>\n",
        "      <td> False</td>\n",
        "      <td> False</td>\n",
        "      <td> False</td>\n",
        "      <td> False</td>\n",
        "      <td> False</td>\n",
        "      <td> False</td>\n",
        "      <td> False</td>\n",
        "      <td> False</td>\n",
        "      <td> False</td>\n",
        "      <td> False</td>\n",
        "      <td> False</td>\n",
        "    </tr>\n",
        "    <tr>\n",
        "      <th>3929</th>\n",
        "      <td> 3.55</td>\n",
        "      <td>  2838</td>\n",
        "      <td> 0375851798</td>\n",
        "      <td> book</td>\n",
        "      <td> https://www.goodreads.com/author/show/321382.T...</td>\n",
        "      <td> 2008</td>\n",
        "      <td> /genres/young-adult|/genres/contemporary|/genr...</td>\n",
        "      <td>            dir40/3798703-the-spectacular-now.html</td>\n",
        "      <td>  22680</td>\n",
        "      <td>                               The Spectacular Now</td>\n",
        "      <td>           Tim_Tharp</td>\n",
        "      <td> young-adult|contemporary|fiction|romance|reali...</td>\n",
        "      <td> False</td>\n",
        "      <td> False</td>\n",
        "      <td> False</td>\n",
        "      <td> False</td>\n",
        "      <td> False</td>\n",
        "      <td> False</td>\n",
        "      <td> False</td>\n",
        "      <td> False</td>\n",
        "      <td> False</td>\n",
        "      <td> False</td>\n",
        "      <td> False</td>\n",
        "      <td> False</td>\n",
        "      <td> False</td>\n",
        "      <td> False</td>\n",
        "      <td> False</td>\n",
        "      <td> False</td>\n",
        "      <td> False</td>\n",
        "      <td> False</td>\n",
        "      <td> False</td>\n",
        "      <td> False</td>\n",
        "      <td> False</td>\n",
        "      <td> False</td>\n",
        "      <td> False</td>\n",
        "      <td> False</td>\n",
        "      <td> False</td>\n",
        "      <td> False</td>\n",
        "      <td> False</td>\n",
        "      <td> False</td>\n",
        "      <td> False</td>\n",
        "      <td> False</td>\n",
        "      <td> False</td>\n",
        "      <td> False</td>\n",
        "      <td> False</td>\n",
        "      <td> False</td>\n",
        "      <td> False</td>\n",
        "      <td> False</td>\n",
        "      <td> False</td>\n",
        "      <td> False</td>\n",
        "      <td>...</td>\n",
        "      <td> False</td>\n",
        "      <td> False</td>\n",
        "      <td> False</td>\n",
        "      <td> False</td>\n",
        "      <td> False</td>\n",
        "      <td> False</td>\n",
        "      <td> False</td>\n",
        "      <td> False</td>\n",
        "      <td> False</td>\n",
        "      <td> False</td>\n",
        "      <td> False</td>\n",
        "      <td> False</td>\n",
        "      <td> False</td>\n",
        "      <td> False</td>\n",
        "      <td> False</td>\n",
        "      <td> False</td>\n",
        "      <td> False</td>\n",
        "      <td> False</td>\n",
        "      <td> False</td>\n",
        "      <td> False</td>\n",
        "      <td> False</td>\n",
        "      <td> False</td>\n",
        "      <td> False</td>\n",
        "      <td> False</td>\n",
        "      <td> False</td>\n",
        "      <td> False</td>\n",
        "      <td> False</td>\n",
        "      <td> False</td>\n",
        "      <td> False</td>\n",
        "      <td> False</td>\n",
        "      <td> False</td>\n",
        "      <td> False</td>\n",
        "      <td> False</td>\n",
        "      <td> False</td>\n",
        "      <td> False</td>\n",
        "      <td> False</td>\n",
        "      <td> False</td>\n",
        "      <td> False</td>\n",
        "      <td> False</td>\n",
        "      <td> False</td>\n",
        "      <td>  True</td>\n",
        "      <td> False</td>\n",
        "      <td> False</td>\n",
        "      <td> False</td>\n",
        "      <td> False</td>\n",
        "      <td> False</td>\n",
        "      <td> False</td>\n",
        "      <td> False</td>\n",
        "      <td> False</td>\n",
        "      <td> False</td>\n",
        "    </tr>\n",
        "    <tr>\n",
        "      <th>3971</th>\n",
        "      <td> 3.91</td>\n",
        "      <td>   531</td>\n",
        "      <td> 1569714029</td>\n",
        "      <td> book</td>\n",
        "      <td> https://www.goodreads.com/author/show/15085.Fr...</td>\n",
        "      <td> 1998</td>\n",
        "      <td> /genres/sequential-art|/genres/graphic-novels|...</td>\n",
        "      <td>                              dir40/59952.300.html</td>\n",
        "      <td>  31910</td>\n",
        "      <td>                                               300</td>\n",
        "      <td>        Frank_Miller</td>\n",
        "      <td> sequential-art|graphic-novels|sequential-art|c...</td>\n",
        "      <td> False</td>\n",
        "      <td> False</td>\n",
        "      <td> False</td>\n",
        "      <td> False</td>\n",
        "      <td> False</td>\n",
        "      <td> False</td>\n",
        "      <td> False</td>\n",
        "      <td> False</td>\n",
        "      <td> False</td>\n",
        "      <td> False</td>\n",
        "      <td> False</td>\n",
        "      <td> False</td>\n",
        "      <td> False</td>\n",
        "      <td> False</td>\n",
        "      <td> False</td>\n",
        "      <td> False</td>\n",
        "      <td> False</td>\n",
        "      <td> False</td>\n",
        "      <td> False</td>\n",
        "      <td> False</td>\n",
        "      <td> False</td>\n",
        "      <td> False</td>\n",
        "      <td> False</td>\n",
        "      <td> False</td>\n",
        "      <td> False</td>\n",
        "      <td> False</td>\n",
        "      <td> False</td>\n",
        "      <td> False</td>\n",
        "      <td> False</td>\n",
        "      <td> False</td>\n",
        "      <td> False</td>\n",
        "      <td> False</td>\n",
        "      <td> False</td>\n",
        "      <td> False</td>\n",
        "      <td> False</td>\n",
        "      <td> False</td>\n",
        "      <td> False</td>\n",
        "      <td> False</td>\n",
        "      <td>...</td>\n",
        "      <td> False</td>\n",
        "      <td> False</td>\n",
        "      <td> False</td>\n",
        "      <td> False</td>\n",
        "      <td> False</td>\n",
        "      <td> False</td>\n",
        "      <td> False</td>\n",
        "      <td> False</td>\n",
        "      <td> False</td>\n",
        "      <td> False</td>\n",
        "      <td> False</td>\n",
        "      <td> False</td>\n",
        "      <td> False</td>\n",
        "      <td> False</td>\n",
        "      <td> False</td>\n",
        "      <td> False</td>\n",
        "      <td> False</td>\n",
        "      <td> False</td>\n",
        "      <td> False</td>\n",
        "      <td> False</td>\n",
        "      <td> False</td>\n",
        "      <td> False</td>\n",
        "      <td>  True</td>\n",
        "      <td> False</td>\n",
        "      <td> False</td>\n",
        "      <td> False</td>\n",
        "      <td> False</td>\n",
        "      <td> False</td>\n",
        "      <td> False</td>\n",
        "      <td> False</td>\n",
        "      <td> False</td>\n",
        "      <td> False</td>\n",
        "      <td> False</td>\n",
        "      <td> False</td>\n",
        "      <td> False</td>\n",
        "      <td> False</td>\n",
        "      <td> False</td>\n",
        "      <td> False</td>\n",
        "      <td> False</td>\n",
        "      <td> False</td>\n",
        "      <td> False</td>\n",
        "      <td> False</td>\n",
        "      <td> False</td>\n",
        "      <td> False</td>\n",
        "      <td> False</td>\n",
        "      <td> False</td>\n",
        "      <td> False</td>\n",
        "      <td> False</td>\n",
        "      <td> False</td>\n",
        "      <td> False</td>\n",
        "    </tr>\n",
        "    <tr>\n",
        "      <th>4031</th>\n",
        "      <td> 4.63</td>\n",
        "      <td>   227</td>\n",
        "      <td> 0062240080</td>\n",
        "      <td> book</td>\n",
        "      <td> https://www.goodreads.com/author/show/4039811....</td>\n",
        "      <td> 2012</td>\n",
        "      <td> /genres/young-adult|/genres/science-fiction|/g...</td>\n",
        "      <td> dir41/15743078-the-divergent-series-2-book-col...</td>\n",
        "      <td>   9388</td>\n",
        "      <td> The Divergent Series 2-Book Collection (Diverg...</td>\n",
        "      <td>       Veronica_Roth</td>\n",
        "      <td> young-adult|science-fiction|dystopia|science-f...</td>\n",
        "      <td> False</td>\n",
        "      <td> False</td>\n",
        "      <td> False</td>\n",
        "      <td> False</td>\n",
        "      <td> False</td>\n",
        "      <td> False</td>\n",
        "      <td> False</td>\n",
        "      <td> False</td>\n",
        "      <td> False</td>\n",
        "      <td> False</td>\n",
        "      <td> False</td>\n",
        "      <td>  True</td>\n",
        "      <td> False</td>\n",
        "      <td> False</td>\n",
        "      <td> False</td>\n",
        "      <td> False</td>\n",
        "      <td> False</td>\n",
        "      <td>  True</td>\n",
        "      <td> False</td>\n",
        "      <td> False</td>\n",
        "      <td> False</td>\n",
        "      <td> False</td>\n",
        "      <td> False</td>\n",
        "      <td> False</td>\n",
        "      <td> False</td>\n",
        "      <td> False</td>\n",
        "      <td> False</td>\n",
        "      <td> False</td>\n",
        "      <td> False</td>\n",
        "      <td> False</td>\n",
        "      <td> False</td>\n",
        "      <td> False</td>\n",
        "      <td> False</td>\n",
        "      <td> False</td>\n",
        "      <td> False</td>\n",
        "      <td> False</td>\n",
        "      <td> False</td>\n",
        "      <td> False</td>\n",
        "      <td>...</td>\n",
        "      <td> False</td>\n",
        "      <td> False</td>\n",
        "      <td> False</td>\n",
        "      <td> False</td>\n",
        "      <td> False</td>\n",
        "      <td> False</td>\n",
        "      <td> False</td>\n",
        "      <td> False</td>\n",
        "      <td> False</td>\n",
        "      <td> False</td>\n",
        "      <td> False</td>\n",
        "      <td> False</td>\n",
        "      <td> False</td>\n",
        "      <td> False</td>\n",
        "      <td> False</td>\n",
        "      <td> False</td>\n",
        "      <td> False</td>\n",
        "      <td> False</td>\n",
        "      <td> False</td>\n",
        "      <td> False</td>\n",
        "      <td> False</td>\n",
        "      <td> False</td>\n",
        "      <td> False</td>\n",
        "      <td> False</td>\n",
        "      <td> False</td>\n",
        "      <td> False</td>\n",
        "      <td> False</td>\n",
        "      <td> False</td>\n",
        "      <td> False</td>\n",
        "      <td> False</td>\n",
        "      <td> False</td>\n",
        "      <td> False</td>\n",
        "      <td> False</td>\n",
        "      <td> False</td>\n",
        "      <td> False</td>\n",
        "      <td> False</td>\n",
        "      <td> False</td>\n",
        "      <td> False</td>\n",
        "      <td> False</td>\n",
        "      <td> False</td>\n",
        "      <td>  True</td>\n",
        "      <td> False</td>\n",
        "      <td> False</td>\n",
        "      <td> False</td>\n",
        "      <td> False</td>\n",
        "      <td> False</td>\n",
        "      <td> False</td>\n",
        "      <td> False</td>\n",
        "      <td> False</td>\n",
        "      <td> False</td>\n",
        "    </tr>\n",
        "    <tr>\n",
        "      <th>4071</th>\n",
        "      <td> 4.03</td>\n",
        "      <td>   606</td>\n",
        "      <td> 0747545251</td>\n",
        "      <td> book</td>\n",
        "      <td> https://www.goodreads.com/author/show/12540.Ro...</td>\n",
        "      <td> 1959</td>\n",
        "      <td> /genres/horror|/genres/fiction|/genres/thrille...</td>\n",
        "      <td>                          dir41/156427.Psycho.html</td>\n",
        "      <td>  23572</td>\n",
        "      <td>                                            Psycho</td>\n",
        "      <td>        Robert_Bloch</td>\n",
        "      <td> horror|fiction|thriller|classics|mystery|myste...</td>\n",
        "      <td> False</td>\n",
        "      <td> False</td>\n",
        "      <td> False</td>\n",
        "      <td> False</td>\n",
        "      <td> False</td>\n",
        "      <td> False</td>\n",
        "      <td> False</td>\n",
        "      <td> False</td>\n",
        "      <td> False</td>\n",
        "      <td> False</td>\n",
        "      <td> False</td>\n",
        "      <td> False</td>\n",
        "      <td> False</td>\n",
        "      <td> False</td>\n",
        "      <td> False</td>\n",
        "      <td> False</td>\n",
        "      <td> False</td>\n",
        "      <td> False</td>\n",
        "      <td> False</td>\n",
        "      <td> False</td>\n",
        "      <td> False</td>\n",
        "      <td> False</td>\n",
        "      <td> False</td>\n",
        "      <td> False</td>\n",
        "      <td> False</td>\n",
        "      <td> False</td>\n",
        "      <td> False</td>\n",
        "      <td> False</td>\n",
        "      <td> False</td>\n",
        "      <td> False</td>\n",
        "      <td> False</td>\n",
        "      <td> False</td>\n",
        "      <td> False</td>\n",
        "      <td> False</td>\n",
        "      <td> False</td>\n",
        "      <td> False</td>\n",
        "      <td> False</td>\n",
        "      <td> False</td>\n",
        "      <td>...</td>\n",
        "      <td> False</td>\n",
        "      <td> False</td>\n",
        "      <td> False</td>\n",
        "      <td> False</td>\n",
        "      <td> False</td>\n",
        "      <td> False</td>\n",
        "      <td> False</td>\n",
        "      <td> False</td>\n",
        "      <td> False</td>\n",
        "      <td> False</td>\n",
        "      <td> False</td>\n",
        "      <td> False</td>\n",
        "      <td> False</td>\n",
        "      <td> False</td>\n",
        "      <td> False</td>\n",
        "      <td> False</td>\n",
        "      <td> False</td>\n",
        "      <td> False</td>\n",
        "      <td> False</td>\n",
        "      <td> False</td>\n",
        "      <td> False</td>\n",
        "      <td> False</td>\n",
        "      <td> False</td>\n",
        "      <td> False</td>\n",
        "      <td> False</td>\n",
        "      <td> False</td>\n",
        "      <td> False</td>\n",
        "      <td> False</td>\n",
        "      <td> False</td>\n",
        "      <td> False</td>\n",
        "      <td> False</td>\n",
        "      <td> False</td>\n",
        "      <td> False</td>\n",
        "      <td> False</td>\n",
        "      <td> False</td>\n",
        "      <td> False</td>\n",
        "      <td> False</td>\n",
        "      <td> False</td>\n",
        "      <td> False</td>\n",
        "      <td> False</td>\n",
        "      <td> False</td>\n",
        "      <td> False</td>\n",
        "      <td> False</td>\n",
        "      <td> False</td>\n",
        "      <td> False</td>\n",
        "      <td> False</td>\n",
        "      <td> False</td>\n",
        "      <td> False</td>\n",
        "      <td> False</td>\n",
        "      <td> False</td>\n",
        "    </tr>\n",
        "    <tr>\n",
        "      <th>4088</th>\n",
        "      <td> 4.13</td>\n",
        "      <td>   364</td>\n",
        "      <td> 0316070521</td>\n",
        "      <td> book</td>\n",
        "      <td> https://www.goodreads.com/author/show/32168.Ca...</td>\n",
        "      <td> 2009</td>\n",
        "      <td> /genres/paranormal|/genres/vampires|/genres/no...</td>\n",
        "      <td>   dir41/6202690-twilight-director-s-notebook.html</td>\n",
        "      <td>  57034</td>\n",
        "      <td>                     Twilight Director's Notebook </td>\n",
        "      <td> Catherine_Hardwicke</td>\n",
        "      <td> paranormal|vampires|non-fiction|fantasy|parano...</td>\n",
        "      <td> False</td>\n",
        "      <td> False</td>\n",
        "      <td> False</td>\n",
        "      <td> False</td>\n",
        "      <td> False</td>\n",
        "      <td> False</td>\n",
        "      <td> False</td>\n",
        "      <td> False</td>\n",
        "      <td> False</td>\n",
        "      <td> False</td>\n",
        "      <td> False</td>\n",
        "      <td> False</td>\n",
        "      <td> False</td>\n",
        "      <td> False</td>\n",
        "      <td> False</td>\n",
        "      <td> False</td>\n",
        "      <td> False</td>\n",
        "      <td> False</td>\n",
        "      <td> False</td>\n",
        "      <td> False</td>\n",
        "      <td> False</td>\n",
        "      <td> False</td>\n",
        "      <td> False</td>\n",
        "      <td> False</td>\n",
        "      <td> False</td>\n",
        "      <td> False</td>\n",
        "      <td> False</td>\n",
        "      <td> False</td>\n",
        "      <td> False</td>\n",
        "      <td> False</td>\n",
        "      <td> False</td>\n",
        "      <td> False</td>\n",
        "      <td> False</td>\n",
        "      <td> False</td>\n",
        "      <td> False</td>\n",
        "      <td> False</td>\n",
        "      <td> False</td>\n",
        "      <td> False</td>\n",
        "      <td>...</td>\n",
        "      <td> False</td>\n",
        "      <td> False</td>\n",
        "      <td> False</td>\n",
        "      <td> False</td>\n",
        "      <td> False</td>\n",
        "      <td> False</td>\n",
        "      <td> False</td>\n",
        "      <td> False</td>\n",
        "      <td> False</td>\n",
        "      <td> False</td>\n",
        "      <td> False</td>\n",
        "      <td> False</td>\n",
        "      <td> False</td>\n",
        "      <td> False</td>\n",
        "      <td> False</td>\n",
        "      <td> False</td>\n",
        "      <td> False</td>\n",
        "      <td> False</td>\n",
        "      <td>  True</td>\n",
        "      <td> False</td>\n",
        "      <td> False</td>\n",
        "      <td> False</td>\n",
        "      <td> False</td>\n",
        "      <td> False</td>\n",
        "      <td>  True</td>\n",
        "      <td> False</td>\n",
        "      <td> False</td>\n",
        "      <td> False</td>\n",
        "      <td> False</td>\n",
        "      <td> False</td>\n",
        "      <td> False</td>\n",
        "      <td> False</td>\n",
        "      <td> False</td>\n",
        "      <td> False</td>\n",
        "      <td> False</td>\n",
        "      <td> False</td>\n",
        "      <td> False</td>\n",
        "      <td> False</td>\n",
        "      <td> False</td>\n",
        "      <td> False</td>\n",
        "      <td>  True</td>\n",
        "      <td> False</td>\n",
        "      <td> False</td>\n",
        "      <td> False</td>\n",
        "      <td> False</td>\n",
        "      <td> False</td>\n",
        "      <td> False</td>\n",
        "      <td> False</td>\n",
        "      <td> False</td>\n",
        "      <td> False</td>\n",
        "    </tr>\n",
        "    <tr>\n",
        "      <th>4201</th>\n",
        "      <td> 4.08</td>\n",
        "      <td>   254</td>\n",
        "      <td> 0671038540</td>\n",
        "      <td> book</td>\n",
        "      <td> https://www.goodreads.com/author/show/18719.Pe...</td>\n",
        "      <td> 1991</td>\n",
        "      <td> /genres/fiction|/genres/classics|/genres/media...</td>\n",
        "      <td>     dir43/152662.What_s_Eating_Gilbert_Grape.html</td>\n",
        "      <td>   7753</td>\n",
        "      <td>                       What's Eating Gilbert Grape</td>\n",
        "      <td>        Peter_Hedges</td>\n",
        "      <td> fiction|classics|media-tie-in|movies|adult|con...</td>\n",
        "      <td> False</td>\n",
        "      <td> False</td>\n",
        "      <td> False</td>\n",
        "      <td> False</td>\n",
        "      <td> False</td>\n",
        "      <td> False</td>\n",
        "      <td> False</td>\n",
        "      <td> False</td>\n",
        "      <td> False</td>\n",
        "      <td> False</td>\n",
        "      <td> False</td>\n",
        "      <td> False</td>\n",
        "      <td> False</td>\n",
        "      <td> False</td>\n",
        "      <td> False</td>\n",
        "      <td>  True</td>\n",
        "      <td> False</td>\n",
        "      <td> False</td>\n",
        "      <td> False</td>\n",
        "      <td> False</td>\n",
        "      <td> False</td>\n",
        "      <td> False</td>\n",
        "      <td> False</td>\n",
        "      <td> False</td>\n",
        "      <td> False</td>\n",
        "      <td> False</td>\n",
        "      <td> False</td>\n",
        "      <td> False</td>\n",
        "      <td> False</td>\n",
        "      <td> False</td>\n",
        "      <td> False</td>\n",
        "      <td> False</td>\n",
        "      <td> False</td>\n",
        "      <td> False</td>\n",
        "      <td> False</td>\n",
        "      <td> False</td>\n",
        "      <td> False</td>\n",
        "      <td> False</td>\n",
        "      <td>...</td>\n",
        "      <td> False</td>\n",
        "      <td> False</td>\n",
        "      <td> False</td>\n",
        "      <td> False</td>\n",
        "      <td> False</td>\n",
        "      <td> False</td>\n",
        "      <td> False</td>\n",
        "      <td> False</td>\n",
        "      <td> False</td>\n",
        "      <td> False</td>\n",
        "      <td> False</td>\n",
        "      <td> False</td>\n",
        "      <td> False</td>\n",
        "      <td> False</td>\n",
        "      <td> False</td>\n",
        "      <td> False</td>\n",
        "      <td> False</td>\n",
        "      <td> False</td>\n",
        "      <td> False</td>\n",
        "      <td> False</td>\n",
        "      <td> False</td>\n",
        "      <td> False</td>\n",
        "      <td> False</td>\n",
        "      <td> False</td>\n",
        "      <td> False</td>\n",
        "      <td> False</td>\n",
        "      <td> False</td>\n",
        "      <td> False</td>\n",
        "      <td> False</td>\n",
        "      <td> False</td>\n",
        "      <td> False</td>\n",
        "      <td> False</td>\n",
        "      <td> False</td>\n",
        "      <td> False</td>\n",
        "      <td> False</td>\n",
        "      <td> False</td>\n",
        "      <td> False</td>\n",
        "      <td> False</td>\n",
        "      <td> False</td>\n",
        "      <td> False</td>\n",
        "      <td>  True</td>\n",
        "      <td> False</td>\n",
        "      <td> False</td>\n",
        "      <td> False</td>\n",
        "      <td> False</td>\n",
        "      <td> False</td>\n",
        "      <td> False</td>\n",
        "      <td> False</td>\n",
        "      <td> False</td>\n",
        "      <td> False</td>\n",
        "    </tr>\n",
        "    <tr>\n",
        "      <th>4293</th>\n",
        "      <td> 4.06</td>\n",
        "      <td>   787</td>\n",
        "      <td> 0446350982</td>\n",
        "      <td> book</td>\n",
        "      <td> https://www.goodreads.com/author/show/2749.Sco...</td>\n",
        "      <td> 1986</td>\n",
        "      <td> /genres/mystery|/genres/thriller|/genres/law|/...</td>\n",
        "      <td>               dir43/425029.Presumed_Innocent.html</td>\n",
        "      <td>  69505</td>\n",
        "      <td> Presumed Innocent (Kindle County Legal Thrille...</td>\n",
        "      <td>         Scott_Turow</td>\n",
        "      <td> mystery|thriller|law|novels|fiction|contempora...</td>\n",
        "      <td> False</td>\n",
        "      <td> False</td>\n",
        "      <td> False</td>\n",
        "      <td> False</td>\n",
        "      <td> False</td>\n",
        "      <td> False</td>\n",
        "      <td> False</td>\n",
        "      <td> False</td>\n",
        "      <td> False</td>\n",
        "      <td> False</td>\n",
        "      <td> False</td>\n",
        "      <td> False</td>\n",
        "      <td> False</td>\n",
        "      <td> False</td>\n",
        "      <td> False</td>\n",
        "      <td>  True</td>\n",
        "      <td>  True</td>\n",
        "      <td> False</td>\n",
        "      <td> False</td>\n",
        "      <td> False</td>\n",
        "      <td> False</td>\n",
        "      <td> False</td>\n",
        "      <td> False</td>\n",
        "      <td> False</td>\n",
        "      <td>  True</td>\n",
        "      <td> False</td>\n",
        "      <td> False</td>\n",
        "      <td> False</td>\n",
        "      <td> False</td>\n",
        "      <td> False</td>\n",
        "      <td> False</td>\n",
        "      <td> False</td>\n",
        "      <td> False</td>\n",
        "      <td> False</td>\n",
        "      <td> False</td>\n",
        "      <td> False</td>\n",
        "      <td> False</td>\n",
        "      <td> False</td>\n",
        "      <td>...</td>\n",
        "      <td> False</td>\n",
        "      <td> False</td>\n",
        "      <td> False</td>\n",
        "      <td> False</td>\n",
        "      <td> False</td>\n",
        "      <td> False</td>\n",
        "      <td> False</td>\n",
        "      <td> False</td>\n",
        "      <td> False</td>\n",
        "      <td> False</td>\n",
        "      <td> False</td>\n",
        "      <td> False</td>\n",
        "      <td> False</td>\n",
        "      <td> False</td>\n",
        "      <td> False</td>\n",
        "      <td> False</td>\n",
        "      <td> False</td>\n",
        "      <td> False</td>\n",
        "      <td> False</td>\n",
        "      <td> False</td>\n",
        "      <td> False</td>\n",
        "      <td> False</td>\n",
        "      <td> False</td>\n",
        "      <td> False</td>\n",
        "      <td> False</td>\n",
        "      <td> False</td>\n",
        "      <td> False</td>\n",
        "      <td> False</td>\n",
        "      <td> False</td>\n",
        "      <td> False</td>\n",
        "      <td> False</td>\n",
        "      <td> False</td>\n",
        "      <td> False</td>\n",
        "      <td> False</td>\n",
        "      <td> False</td>\n",
        "      <td> False</td>\n",
        "      <td> False</td>\n",
        "      <td> False</td>\n",
        "      <td> False</td>\n",
        "      <td> False</td>\n",
        "      <td> False</td>\n",
        "      <td> False</td>\n",
        "      <td> False</td>\n",
        "      <td> False</td>\n",
        "      <td> False</td>\n",
        "      <td> False</td>\n",
        "      <td> False</td>\n",
        "      <td> False</td>\n",
        "      <td> False</td>\n",
        "      <td> False</td>\n",
        "    </tr>\n",
        "    <tr>\n",
        "      <th>4547</th>\n",
        "      <td> 3.91</td>\n",
        "      <td>   965</td>\n",
        "      <td> 1619698366</td>\n",
        "      <td> book</td>\n",
        "      <td> https://www.goodreads.com/author/show/4919495....</td>\n",
        "      <td> 2012</td>\n",
        "      <td> /genres/young-adult|/genres/contemporary|/genr...</td>\n",
        "      <td>           dir46/15789823-struck-by-lightning.html</td>\n",
        "      <td>   6487</td>\n",
        "      <td>                               Struck By Lightning</td>\n",
        "      <td>        Chris_Colfer</td>\n",
        "      <td> young-adult|contemporary|fiction|realistic-fic...</td>\n",
        "      <td> False</td>\n",
        "      <td> False</td>\n",
        "      <td> False</td>\n",
        "      <td> False</td>\n",
        "      <td> False</td>\n",
        "      <td> False</td>\n",
        "      <td> False</td>\n",
        "      <td> False</td>\n",
        "      <td> False</td>\n",
        "      <td> False</td>\n",
        "      <td> False</td>\n",
        "      <td> False</td>\n",
        "      <td> False</td>\n",
        "      <td> False</td>\n",
        "      <td> False</td>\n",
        "      <td> False</td>\n",
        "      <td> False</td>\n",
        "      <td> False</td>\n",
        "      <td> False</td>\n",
        "      <td> False</td>\n",
        "      <td> False</td>\n",
        "      <td> False</td>\n",
        "      <td> False</td>\n",
        "      <td> False</td>\n",
        "      <td> False</td>\n",
        "      <td> False</td>\n",
        "      <td> False</td>\n",
        "      <td> False</td>\n",
        "      <td> False</td>\n",
        "      <td> False</td>\n",
        "      <td> False</td>\n",
        "      <td> False</td>\n",
        "      <td> False</td>\n",
        "      <td> False</td>\n",
        "      <td> False</td>\n",
        "      <td> False</td>\n",
        "      <td> False</td>\n",
        "      <td> False</td>\n",
        "      <td>...</td>\n",
        "      <td> False</td>\n",
        "      <td> False</td>\n",
        "      <td> False</td>\n",
        "      <td> False</td>\n",
        "      <td> False</td>\n",
        "      <td> False</td>\n",
        "      <td> False</td>\n",
        "      <td> False</td>\n",
        "      <td> False</td>\n",
        "      <td> False</td>\n",
        "      <td> False</td>\n",
        "      <td> False</td>\n",
        "      <td> False</td>\n",
        "      <td> False</td>\n",
        "      <td> False</td>\n",
        "      <td> False</td>\n",
        "      <td> False</td>\n",
        "      <td> False</td>\n",
        "      <td> False</td>\n",
        "      <td> False</td>\n",
        "      <td> False</td>\n",
        "      <td> False</td>\n",
        "      <td> False</td>\n",
        "      <td> False</td>\n",
        "      <td> False</td>\n",
        "      <td> False</td>\n",
        "      <td> False</td>\n",
        "      <td> False</td>\n",
        "      <td> False</td>\n",
        "      <td> False</td>\n",
        "      <td> False</td>\n",
        "      <td> False</td>\n",
        "      <td> False</td>\n",
        "      <td> False</td>\n",
        "      <td> False</td>\n",
        "      <td> False</td>\n",
        "      <td> False</td>\n",
        "      <td> False</td>\n",
        "      <td> False</td>\n",
        "      <td> False</td>\n",
        "      <td>  True</td>\n",
        "      <td> False</td>\n",
        "      <td> False</td>\n",
        "      <td> False</td>\n",
        "      <td> False</td>\n",
        "      <td> False</td>\n",
        "      <td> False</td>\n",
        "      <td> False</td>\n",
        "      <td> False</td>\n",
        "      <td> False</td>\n",
        "    </tr>\n",
        "    <tr>\n",
        "      <th>4668</th>\n",
        "      <td> 4.01</td>\n",
        "      <td>   532</td>\n",
        "      <td> 0312291450</td>\n",
        "      <td> book</td>\n",
        "      <td> https://www.goodreads.com/author/show/1362939....</td>\n",
        "      <td> 2001</td>\n",
        "      <td> /genres/non-fiction|/genres/biography|/genres/...</td>\n",
        "      <td>              dir47/34548.If_Chins_Could_Kill.html</td>\n",
        "      <td>   9004</td>\n",
        "      <td>                               If Chins Could Kill</td>\n",
        "      <td>      Bruce_Campbell</td>\n",
        "      <td> non-fiction|biography|humor|biography|autobiog...</td>\n",
        "      <td> False</td>\n",
        "      <td> False</td>\n",
        "      <td> False</td>\n",
        "      <td> False</td>\n",
        "      <td> False</td>\n",
        "      <td> False</td>\n",
        "      <td> False</td>\n",
        "      <td> False</td>\n",
        "      <td> False</td>\n",
        "      <td> False</td>\n",
        "      <td> False</td>\n",
        "      <td> False</td>\n",
        "      <td> False</td>\n",
        "      <td> False</td>\n",
        "      <td> False</td>\n",
        "      <td> False</td>\n",
        "      <td> False</td>\n",
        "      <td> False</td>\n",
        "      <td> False</td>\n",
        "      <td> False</td>\n",
        "      <td> False</td>\n",
        "      <td> False</td>\n",
        "      <td> False</td>\n",
        "      <td> False</td>\n",
        "      <td> False</td>\n",
        "      <td> False</td>\n",
        "      <td> False</td>\n",
        "      <td> False</td>\n",
        "      <td> False</td>\n",
        "      <td> False</td>\n",
        "      <td> False</td>\n",
        "      <td> False</td>\n",
        "      <td> False</td>\n",
        "      <td> False</td>\n",
        "      <td> False</td>\n",
        "      <td> False</td>\n",
        "      <td> False</td>\n",
        "      <td> False</td>\n",
        "      <td>...</td>\n",
        "      <td> False</td>\n",
        "      <td> False</td>\n",
        "      <td> False</td>\n",
        "      <td> False</td>\n",
        "      <td> False</td>\n",
        "      <td> False</td>\n",
        "      <td> False</td>\n",
        "      <td> False</td>\n",
        "      <td> False</td>\n",
        "      <td> False</td>\n",
        "      <td> False</td>\n",
        "      <td> False</td>\n",
        "      <td> False</td>\n",
        "      <td> False</td>\n",
        "      <td> False</td>\n",
        "      <td> False</td>\n",
        "      <td> False</td>\n",
        "      <td> False</td>\n",
        "      <td> False</td>\n",
        "      <td> False</td>\n",
        "      <td> False</td>\n",
        "      <td> False</td>\n",
        "      <td> False</td>\n",
        "      <td> False</td>\n",
        "      <td> False</td>\n",
        "      <td> False</td>\n",
        "      <td> False</td>\n",
        "      <td> False</td>\n",
        "      <td> False</td>\n",
        "      <td> False</td>\n",
        "      <td> False</td>\n",
        "      <td> False</td>\n",
        "      <td> False</td>\n",
        "      <td> False</td>\n",
        "      <td> False</td>\n",
        "      <td> False</td>\n",
        "      <td> False</td>\n",
        "      <td> False</td>\n",
        "      <td> False</td>\n",
        "      <td> False</td>\n",
        "      <td> False</td>\n",
        "      <td> False</td>\n",
        "      <td> False</td>\n",
        "      <td> False</td>\n",
        "      <td> False</td>\n",
        "      <td> False</td>\n",
        "      <td> False</td>\n",
        "      <td> False</td>\n",
        "      <td> False</td>\n",
        "      <td> False</td>\n",
        "    </tr>\n",
        "    <tr>\n",
        "      <th>4671</th>\n",
        "      <td> 4.15</td>\n",
        "      <td>   364</td>\n",
        "      <td> 0553282980</td>\n",
        "      <td> book</td>\n",
        "      <td> https://www.goodreads.com/author/show/52601.N_...</td>\n",
        "      <td> 1989</td>\n",
        "      <td> /genres/fiction|/genres/classics|/genres/novel...</td>\n",
        "      <td>               dir47/67238.Dead_Poets_Society.html</td>\n",
        "      <td>  22485</td>\n",
        "      <td>                                Dead Poets Society</td>\n",
        "      <td>       N_H_Kleinbaum</td>\n",
        "      <td> fiction|classics|novels|young-adult|drama|medi...</td>\n",
        "      <td> False</td>\n",
        "      <td> False</td>\n",
        "      <td> False</td>\n",
        "      <td> False</td>\n",
        "      <td> False</td>\n",
        "      <td> False</td>\n",
        "      <td> False</td>\n",
        "      <td> False</td>\n",
        "      <td> False</td>\n",
        "      <td> False</td>\n",
        "      <td>  True</td>\n",
        "      <td> False</td>\n",
        "      <td> False</td>\n",
        "      <td> False</td>\n",
        "      <td> False</td>\n",
        "      <td> False</td>\n",
        "      <td> False</td>\n",
        "      <td> False</td>\n",
        "      <td> False</td>\n",
        "      <td> False</td>\n",
        "      <td> False</td>\n",
        "      <td> False</td>\n",
        "      <td> False</td>\n",
        "      <td> False</td>\n",
        "      <td> False</td>\n",
        "      <td> False</td>\n",
        "      <td> False</td>\n",
        "      <td> False</td>\n",
        "      <td> False</td>\n",
        "      <td> False</td>\n",
        "      <td> False</td>\n",
        "      <td> False</td>\n",
        "      <td> False</td>\n",
        "      <td> False</td>\n",
        "      <td> False</td>\n",
        "      <td> False</td>\n",
        "      <td> False</td>\n",
        "      <td> False</td>\n",
        "      <td>...</td>\n",
        "      <td> False</td>\n",
        "      <td> False</td>\n",
        "      <td> False</td>\n",
        "      <td> False</td>\n",
        "      <td> False</td>\n",
        "      <td> False</td>\n",
        "      <td> False</td>\n",
        "      <td> False</td>\n",
        "      <td> False</td>\n",
        "      <td> False</td>\n",
        "      <td> False</td>\n",
        "      <td> False</td>\n",
        "      <td> False</td>\n",
        "      <td> False</td>\n",
        "      <td> False</td>\n",
        "      <td> False</td>\n",
        "      <td> False</td>\n",
        "      <td> False</td>\n",
        "      <td> False</td>\n",
        "      <td> False</td>\n",
        "      <td> False</td>\n",
        "      <td> False</td>\n",
        "      <td> False</td>\n",
        "      <td> False</td>\n",
        "      <td> False</td>\n",
        "      <td> False</td>\n",
        "      <td> False</td>\n",
        "      <td> False</td>\n",
        "      <td> False</td>\n",
        "      <td> False</td>\n",
        "      <td> False</td>\n",
        "      <td> False</td>\n",
        "      <td> False</td>\n",
        "      <td> False</td>\n",
        "      <td> False</td>\n",
        "      <td> False</td>\n",
        "      <td> False</td>\n",
        "      <td> False</td>\n",
        "      <td> False</td>\n",
        "      <td> False</td>\n",
        "      <td>  True</td>\n",
        "      <td> False</td>\n",
        "      <td> False</td>\n",
        "      <td> False</td>\n",
        "      <td> False</td>\n",
        "      <td> False</td>\n",
        "      <td> False</td>\n",
        "      <td> False</td>\n",
        "      <td> False</td>\n",
        "      <td> False</td>\n",
        "    </tr>\n",
        "    <tr>\n",
        "      <th>4780</th>\n",
        "      <td> 3.59</td>\n",
        "      <td>   437</td>\n",
        "      <td> 0743287215</td>\n",
        "      <td> book</td>\n",
        "      <td> https://www.goodreads.com/author/show/33034.An...</td>\n",
        "      <td> 2003</td>\n",
        "      <td> /genres/non-fiction|/genres/war|/genres/war|/g...</td>\n",
        "      <td>                          dir48/75060.Jarhead.html</td>\n",
        "      <td>   5932</td>\n",
        "      <td>                                           Jarhead</td>\n",
        "      <td>    Anthony_Swofford</td>\n",
        "      <td> non-fiction|war|war|military|autobiography|mem...</td>\n",
        "      <td> False</td>\n",
        "      <td> False</td>\n",
        "      <td> False</td>\n",
        "      <td> False</td>\n",
        "      <td> False</td>\n",
        "      <td> False</td>\n",
        "      <td> False</td>\n",
        "      <td> False</td>\n",
        "      <td> False</td>\n",
        "      <td> False</td>\n",
        "      <td> False</td>\n",
        "      <td> False</td>\n",
        "      <td> False</td>\n",
        "      <td> False</td>\n",
        "      <td> False</td>\n",
        "      <td> False</td>\n",
        "      <td> False</td>\n",
        "      <td> False</td>\n",
        "      <td> False</td>\n",
        "      <td> False</td>\n",
        "      <td> False</td>\n",
        "      <td> False</td>\n",
        "      <td> False</td>\n",
        "      <td> False</td>\n",
        "      <td> False</td>\n",
        "      <td> False</td>\n",
        "      <td> False</td>\n",
        "      <td> False</td>\n",
        "      <td> False</td>\n",
        "      <td> False</td>\n",
        "      <td> False</td>\n",
        "      <td> False</td>\n",
        "      <td> False</td>\n",
        "      <td> False</td>\n",
        "      <td> False</td>\n",
        "      <td> False</td>\n",
        "      <td> False</td>\n",
        "      <td> False</td>\n",
        "      <td>...</td>\n",
        "      <td> False</td>\n",
        "      <td> False</td>\n",
        "      <td> False</td>\n",
        "      <td> False</td>\n",
        "      <td> False</td>\n",
        "      <td> False</td>\n",
        "      <td> False</td>\n",
        "      <td> False</td>\n",
        "      <td> False</td>\n",
        "      <td> False</td>\n",
        "      <td> False</td>\n",
        "      <td> False</td>\n",
        "      <td> False</td>\n",
        "      <td> False</td>\n",
        "      <td> False</td>\n",
        "      <td> False</td>\n",
        "      <td> False</td>\n",
        "      <td> False</td>\n",
        "      <td> False</td>\n",
        "      <td> False</td>\n",
        "      <td> False</td>\n",
        "      <td> False</td>\n",
        "      <td>  True</td>\n",
        "      <td> False</td>\n",
        "      <td> False</td>\n",
        "      <td> False</td>\n",
        "      <td> False</td>\n",
        "      <td> False</td>\n",
        "      <td> False</td>\n",
        "      <td> False</td>\n",
        "      <td> False</td>\n",
        "      <td> False</td>\n",
        "      <td> False</td>\n",
        "      <td> False</td>\n",
        "      <td> False</td>\n",
        "      <td> False</td>\n",
        "      <td> False</td>\n",
        "      <td> False</td>\n",
        "      <td> False</td>\n",
        "      <td> False</td>\n",
        "      <td> False</td>\n",
        "      <td> False</td>\n",
        "      <td> False</td>\n",
        "      <td> False</td>\n",
        "      <td> False</td>\n",
        "      <td> False</td>\n",
        "      <td> False</td>\n",
        "      <td> False</td>\n",
        "      <td> False</td>\n",
        "      <td> False</td>\n",
        "    </tr>\n",
        "    <tr>\n",
        "      <th>5031</th>\n",
        "      <td> 3.73</td>\n",
        "      <td>  1120</td>\n",
        "      <td> 006078721X</td>\n",
        "      <td> book</td>\n",
        "      <td> https://www.goodreads.com/author/show/2238.Isa...</td>\n",
        "      <td> 2005</td>\n",
        "      <td> /genres/fiction|/genres/historical-fiction|/ge...</td>\n",
        "      <td>                            dir51/24796.Zorro.html</td>\n",
        "      <td>  12915</td>\n",
        "      <td>                                             Zorro</td>\n",
        "      <td>      Isabel_Allende</td>\n",
        "      <td> fiction|historical-fiction|adventure|romance|e...</td>\n",
        "      <td> False</td>\n",
        "      <td> False</td>\n",
        "      <td> False</td>\n",
        "      <td> False</td>\n",
        "      <td> False</td>\n",
        "      <td> False</td>\n",
        "      <td> False</td>\n",
        "      <td> False</td>\n",
        "      <td> False</td>\n",
        "      <td> False</td>\n",
        "      <td> False</td>\n",
        "      <td> False</td>\n",
        "      <td> False</td>\n",
        "      <td> False</td>\n",
        "      <td> False</td>\n",
        "      <td> False</td>\n",
        "      <td> False</td>\n",
        "      <td>  True</td>\n",
        "      <td> False</td>\n",
        "      <td> False</td>\n",
        "      <td> False</td>\n",
        "      <td> False</td>\n",
        "      <td> False</td>\n",
        "      <td> False</td>\n",
        "      <td> False</td>\n",
        "      <td> False</td>\n",
        "      <td> False</td>\n",
        "      <td> False</td>\n",
        "      <td> False</td>\n",
        "      <td> False</td>\n",
        "      <td> False</td>\n",
        "      <td> False</td>\n",
        "      <td> False</td>\n",
        "      <td> False</td>\n",
        "      <td> False</td>\n",
        "      <td> False</td>\n",
        "      <td> False</td>\n",
        "      <td> False</td>\n",
        "      <td>...</td>\n",
        "      <td> False</td>\n",
        "      <td> False</td>\n",
        "      <td> False</td>\n",
        "      <td> False</td>\n",
        "      <td> False</td>\n",
        "      <td> False</td>\n",
        "      <td> False</td>\n",
        "      <td> False</td>\n",
        "      <td> False</td>\n",
        "      <td> False</td>\n",
        "      <td> False</td>\n",
        "      <td> False</td>\n",
        "      <td> False</td>\n",
        "      <td> False</td>\n",
        "      <td> False</td>\n",
        "      <td> False</td>\n",
        "      <td> False</td>\n",
        "      <td> False</td>\n",
        "      <td> False</td>\n",
        "      <td> False</td>\n",
        "      <td> False</td>\n",
        "      <td> False</td>\n",
        "      <td> False</td>\n",
        "      <td> False</td>\n",
        "      <td> False</td>\n",
        "      <td> False</td>\n",
        "      <td> False</td>\n",
        "      <td> False</td>\n",
        "      <td> False</td>\n",
        "      <td> False</td>\n",
        "      <td> False</td>\n",
        "      <td> False</td>\n",
        "      <td> False</td>\n",
        "      <td> False</td>\n",
        "      <td> False</td>\n",
        "      <td> False</td>\n",
        "      <td> False</td>\n",
        "      <td> False</td>\n",
        "      <td> False</td>\n",
        "      <td> False</td>\n",
        "      <td> False</td>\n",
        "      <td> False</td>\n",
        "      <td> False</td>\n",
        "      <td> False</td>\n",
        "      <td> False</td>\n",
        "      <td> False</td>\n",
        "      <td> False</td>\n",
        "      <td> False</td>\n",
        "      <td> False</td>\n",
        "      <td> False</td>\n",
        "    </tr>\n",
        "    <tr>\n",
        "      <th>5184</th>\n",
        "      <td> 4.59</td>\n",
        "      <td>   124</td>\n",
        "      <td> 1856136639</td>\n",
        "      <td> book</td>\n",
        "      <td> https://www.goodreads.com/author/show/1077326....</td>\n",
        "      <td> 1999</td>\n",
        "      <td> /genres/fantasy|/genres/fiction|/genres/young-...</td>\n",
        "      <td>       dir52/2337379.The_Harry_Potter_trilogy.html</td>\n",
        "      <td>   3177</td>\n",
        "      <td>     The Harry Potter trilogy (Harry Potter, #1-3)</td>\n",
        "      <td>         J_K_Rowling</td>\n",
        "      <td> fantasy|fiction|young-adult|childrens|cultural...</td>\n",
        "      <td> False</td>\n",
        "      <td> False</td>\n",
        "      <td> False</td>\n",
        "      <td> False</td>\n",
        "      <td> False</td>\n",
        "      <td> False</td>\n",
        "      <td> False</td>\n",
        "      <td> False</td>\n",
        "      <td> False</td>\n",
        "      <td> False</td>\n",
        "      <td> False</td>\n",
        "      <td> False</td>\n",
        "      <td> False</td>\n",
        "      <td> False</td>\n",
        "      <td> False</td>\n",
        "      <td> False</td>\n",
        "      <td> False</td>\n",
        "      <td> False</td>\n",
        "      <td> False</td>\n",
        "      <td> False</td>\n",
        "      <td> False</td>\n",
        "      <td> False</td>\n",
        "      <td> False</td>\n",
        "      <td> False</td>\n",
        "      <td> False</td>\n",
        "      <td> False</td>\n",
        "      <td> False</td>\n",
        "      <td> False</td>\n",
        "      <td> False</td>\n",
        "      <td> False</td>\n",
        "      <td> False</td>\n",
        "      <td> False</td>\n",
        "      <td> False</td>\n",
        "      <td> False</td>\n",
        "      <td> False</td>\n",
        "      <td> False</td>\n",
        "      <td> False</td>\n",
        "      <td> False</td>\n",
        "      <td>...</td>\n",
        "      <td> False</td>\n",
        "      <td> False</td>\n",
        "      <td> False</td>\n",
        "      <td> False</td>\n",
        "      <td> False</td>\n",
        "      <td> False</td>\n",
        "      <td> False</td>\n",
        "      <td> False</td>\n",
        "      <td> False</td>\n",
        "      <td> False</td>\n",
        "      <td> False</td>\n",
        "      <td> False</td>\n",
        "      <td> False</td>\n",
        "      <td> False</td>\n",
        "      <td> False</td>\n",
        "      <td> False</td>\n",
        "      <td> False</td>\n",
        "      <td> False</td>\n",
        "      <td> False</td>\n",
        "      <td> False</td>\n",
        "      <td> False</td>\n",
        "      <td> False</td>\n",
        "      <td> False</td>\n",
        "      <td> False</td>\n",
        "      <td> False</td>\n",
        "      <td> False</td>\n",
        "      <td> False</td>\n",
        "      <td> False</td>\n",
        "      <td> False</td>\n",
        "      <td> False</td>\n",
        "      <td> False</td>\n",
        "      <td> False</td>\n",
        "      <td> False</td>\n",
        "      <td> False</td>\n",
        "      <td> False</td>\n",
        "      <td> False</td>\n",
        "      <td> False</td>\n",
        "      <td> False</td>\n",
        "      <td> False</td>\n",
        "      <td> False</td>\n",
        "      <td>  True</td>\n",
        "      <td> False</td>\n",
        "      <td> False</td>\n",
        "      <td> False</td>\n",
        "      <td> False</td>\n",
        "      <td> False</td>\n",
        "      <td> False</td>\n",
        "      <td> False</td>\n",
        "      <td> False</td>\n",
        "      <td> False</td>\n",
        "    </tr>\n",
        "    <tr>\n",
        "      <th>5240</th>\n",
        "      <td> 3.80</td>\n",
        "      <td>    50</td>\n",
        "      <td> 0140439161</td>\n",
        "      <td> book</td>\n",
        "      <td> https://www.goodreads.com/author/show/34937.Wi...</td>\n",
        "      <td> 1790</td>\n",
        "      <td> /genres/classics|/genres/biography|/genres/adv...</td>\n",
        "      <td>               dir53/254191.The_Bounty_Mutiny.html</td>\n",
        "      <td>   1189</td>\n",
        "      <td>                                 The Bounty Mutiny</td>\n",
        "      <td>       William_Bligh</td>\n",
        "      <td> classics|biography|adventure|non-fiction|adven...</td>\n",
        "      <td> False</td>\n",
        "      <td> False</td>\n",
        "      <td> False</td>\n",
        "      <td> False</td>\n",
        "      <td> False</td>\n",
        "      <td>  True</td>\n",
        "      <td> False</td>\n",
        "      <td> False</td>\n",
        "      <td> False</td>\n",
        "      <td> False</td>\n",
        "      <td> False</td>\n",
        "      <td> False</td>\n",
        "      <td> False</td>\n",
        "      <td> False</td>\n",
        "      <td> False</td>\n",
        "      <td> False</td>\n",
        "      <td> False</td>\n",
        "      <td>  True</td>\n",
        "      <td> False</td>\n",
        "      <td> False</td>\n",
        "      <td> False</td>\n",
        "      <td> False</td>\n",
        "      <td> False</td>\n",
        "      <td> False</td>\n",
        "      <td> False</td>\n",
        "      <td> False</td>\n",
        "      <td> False</td>\n",
        "      <td> False</td>\n",
        "      <td> False</td>\n",
        "      <td> False</td>\n",
        "      <td> False</td>\n",
        "      <td> False</td>\n",
        "      <td> False</td>\n",
        "      <td> False</td>\n",
        "      <td> False</td>\n",
        "      <td> False</td>\n",
        "      <td> False</td>\n",
        "      <td> False</td>\n",
        "      <td>...</td>\n",
        "      <td> False</td>\n",
        "      <td> False</td>\n",
        "      <td> False</td>\n",
        "      <td> False</td>\n",
        "      <td>  True</td>\n",
        "      <td> False</td>\n",
        "      <td> False</td>\n",
        "      <td> False</td>\n",
        "      <td> False</td>\n",
        "      <td> False</td>\n",
        "      <td> False</td>\n",
        "      <td> False</td>\n",
        "      <td> False</td>\n",
        "      <td> False</td>\n",
        "      <td> False</td>\n",
        "      <td> False</td>\n",
        "      <td> False</td>\n",
        "      <td> False</td>\n",
        "      <td> False</td>\n",
        "      <td> False</td>\n",
        "      <td> False</td>\n",
        "      <td> False</td>\n",
        "      <td> False</td>\n",
        "      <td> False</td>\n",
        "      <td> False</td>\n",
        "      <td> False</td>\n",
        "      <td> False</td>\n",
        "      <td> False</td>\n",
        "      <td> False</td>\n",
        "      <td> False</td>\n",
        "      <td> False</td>\n",
        "      <td> False</td>\n",
        "      <td> False</td>\n",
        "      <td> False</td>\n",
        "      <td> False</td>\n",
        "      <td> False</td>\n",
        "      <td> False</td>\n",
        "      <td> False</td>\n",
        "      <td> False</td>\n",
        "      <td> False</td>\n",
        "      <td> False</td>\n",
        "      <td> False</td>\n",
        "      <td> False</td>\n",
        "      <td> False</td>\n",
        "      <td> False</td>\n",
        "      <td> False</td>\n",
        "      <td> False</td>\n",
        "      <td> False</td>\n",
        "      <td> False</td>\n",
        "      <td> False</td>\n",
        "    </tr>\n",
        "    <tr>\n",
        "      <th>5284</th>\n",
        "      <td> 4.23</td>\n",
        "      <td>   143</td>\n",
        "      <td> 0304356875</td>\n",
        "      <td> book</td>\n",
        "      <td> https://www.goodreads.com/author/show/62110.Pa...</td>\n",
        "      <td> 1950</td>\n",
        "      <td> /genres/history|/genres/non-fiction|/genres/wa...</td>\n",
        "      <td>                dir53/107406.The_Great_Escape.html</td>\n",
        "      <td>   3774</td>\n",
        "      <td>                                  The Great Escape</td>\n",
        "      <td>      Paul_Brickhill</td>\n",
        "      <td> history|non-fiction|war|history|world-war-ii|w...</td>\n",
        "      <td> False</td>\n",
        "      <td> False</td>\n",
        "      <td> False</td>\n",
        "      <td> False</td>\n",
        "      <td> False</td>\n",
        "      <td> False</td>\n",
        "      <td> False</td>\n",
        "      <td> False</td>\n",
        "      <td> False</td>\n",
        "      <td> False</td>\n",
        "      <td> False</td>\n",
        "      <td> False</td>\n",
        "      <td> False</td>\n",
        "      <td> False</td>\n",
        "      <td> False</td>\n",
        "      <td> False</td>\n",
        "      <td> False</td>\n",
        "      <td>  True</td>\n",
        "      <td> False</td>\n",
        "      <td> False</td>\n",
        "      <td> False</td>\n",
        "      <td> False</td>\n",
        "      <td> False</td>\n",
        "      <td> False</td>\n",
        "      <td> False</td>\n",
        "      <td> False</td>\n",
        "      <td> False</td>\n",
        "      <td> False</td>\n",
        "      <td> False</td>\n",
        "      <td> False</td>\n",
        "      <td> False</td>\n",
        "      <td> False</td>\n",
        "      <td> False</td>\n",
        "      <td> False</td>\n",
        "      <td> False</td>\n",
        "      <td> False</td>\n",
        "      <td> False</td>\n",
        "      <td> False</td>\n",
        "      <td>...</td>\n",
        "      <td> False</td>\n",
        "      <td> False</td>\n",
        "      <td> False</td>\n",
        "      <td> False</td>\n",
        "      <td> False</td>\n",
        "      <td> False</td>\n",
        "      <td> False</td>\n",
        "      <td> False</td>\n",
        "      <td> False</td>\n",
        "      <td> False</td>\n",
        "      <td> False</td>\n",
        "      <td> False</td>\n",
        "      <td> False</td>\n",
        "      <td> False</td>\n",
        "      <td> False</td>\n",
        "      <td> False</td>\n",
        "      <td> False</td>\n",
        "      <td> False</td>\n",
        "      <td> False</td>\n",
        "      <td> False</td>\n",
        "      <td> False</td>\n",
        "      <td> False</td>\n",
        "      <td>  True</td>\n",
        "      <td> False</td>\n",
        "      <td> False</td>\n",
        "      <td> False</td>\n",
        "      <td> False</td>\n",
        "      <td> False</td>\n",
        "      <td> False</td>\n",
        "      <td> False</td>\n",
        "      <td> False</td>\n",
        "      <td> False</td>\n",
        "      <td> False</td>\n",
        "      <td> False</td>\n",
        "      <td> False</td>\n",
        "      <td> False</td>\n",
        "      <td> False</td>\n",
        "      <td>  True</td>\n",
        "      <td> False</td>\n",
        "      <td> False</td>\n",
        "      <td> False</td>\n",
        "      <td> False</td>\n",
        "      <td> False</td>\n",
        "      <td> False</td>\n",
        "      <td> False</td>\n",
        "      <td> False</td>\n",
        "      <td> False</td>\n",
        "      <td> False</td>\n",
        "      <td> False</td>\n",
        "      <td> False</td>\n",
        "    </tr>\n",
        "    <tr>\n",
        "      <th>5732</th>\n",
        "      <td> 4.08</td>\n",
        "      <td>   305</td>\n",
        "      <td> 067166607X</td>\n",
        "      <td> book</td>\n",
        "      <td> https://www.goodreads.com/author/show/262262.F...</td>\n",
        "      <td> 1923</td>\n",
        "      <td> /genres/classics|/genres/fiction|/genres/child...</td>\n",
        "      <td>                           dir58/739840.Bambi.html</td>\n",
        "      <td>  22292</td>\n",
        "      <td>                                             Bambi</td>\n",
        "      <td>        Felix_Salten</td>\n",
        "      <td> classics|fiction|childrens|animals|fantasy|you...</td>\n",
        "      <td> False</td>\n",
        "      <td> False</td>\n",
        "      <td> False</td>\n",
        "      <td> False</td>\n",
        "      <td> False</td>\n",
        "      <td> False</td>\n",
        "      <td> False</td>\n",
        "      <td> False</td>\n",
        "      <td> False</td>\n",
        "      <td> False</td>\n",
        "      <td> False</td>\n",
        "      <td> False</td>\n",
        "      <td> False</td>\n",
        "      <td> False</td>\n",
        "      <td> False</td>\n",
        "      <td> False</td>\n",
        "      <td> False</td>\n",
        "      <td> False</td>\n",
        "      <td> False</td>\n",
        "      <td> False</td>\n",
        "      <td> False</td>\n",
        "      <td> False</td>\n",
        "      <td> False</td>\n",
        "      <td> False</td>\n",
        "      <td> False</td>\n",
        "      <td> False</td>\n",
        "      <td> False</td>\n",
        "      <td> False</td>\n",
        "      <td> False</td>\n",
        "      <td> False</td>\n",
        "      <td> False</td>\n",
        "      <td> False</td>\n",
        "      <td> False</td>\n",
        "      <td> False</td>\n",
        "      <td>  True</td>\n",
        "      <td> False</td>\n",
        "      <td> False</td>\n",
        "      <td> False</td>\n",
        "      <td>...</td>\n",
        "      <td> False</td>\n",
        "      <td> False</td>\n",
        "      <td> False</td>\n",
        "      <td> False</td>\n",
        "      <td> False</td>\n",
        "      <td> False</td>\n",
        "      <td> False</td>\n",
        "      <td> False</td>\n",
        "      <td> False</td>\n",
        "      <td> False</td>\n",
        "      <td> False</td>\n",
        "      <td> False</td>\n",
        "      <td> False</td>\n",
        "      <td> False</td>\n",
        "      <td> False</td>\n",
        "      <td> False</td>\n",
        "      <td> False</td>\n",
        "      <td> False</td>\n",
        "      <td> False</td>\n",
        "      <td> False</td>\n",
        "      <td> False</td>\n",
        "      <td> False</td>\n",
        "      <td> False</td>\n",
        "      <td> False</td>\n",
        "      <td> False</td>\n",
        "      <td> False</td>\n",
        "      <td> False</td>\n",
        "      <td> False</td>\n",
        "      <td> False</td>\n",
        "      <td> False</td>\n",
        "      <td> False</td>\n",
        "      <td> False</td>\n",
        "      <td> False</td>\n",
        "      <td> False</td>\n",
        "      <td> False</td>\n",
        "      <td> False</td>\n",
        "      <td> False</td>\n",
        "      <td> False</td>\n",
        "      <td> False</td>\n",
        "      <td> False</td>\n",
        "      <td>  True</td>\n",
        "      <td> False</td>\n",
        "      <td> False</td>\n",
        "      <td> False</td>\n",
        "      <td> False</td>\n",
        "      <td> False</td>\n",
        "      <td> False</td>\n",
        "      <td> False</td>\n",
        "      <td> False</td>\n",
        "      <td> False</td>\n",
        "    </tr>\n",
        "    <tr>\n",
        "      <th>5798</th>\n",
        "      <td> 3.94</td>\n",
        "      <td>   357</td>\n",
        "      <td> 8493388335</td>\n",
        "      <td> book</td>\n",
        "      <td> https://www.goodreads.com/author/show/48143.An...</td>\n",
        "      <td> 1951</td>\n",
        "      <td> /genres/historical-fiction|/genres/fiction|/ge...</td>\n",
        "      <td>                          dir59/84049.D_sir_e.html</td>\n",
        "      <td>   4559</td>\n",
        "      <td>                                         D\u00c3\u00a9sir\u00c3\u00a9e</td>\n",
        "      <td>   Annemarie_Selinko</td>\n",
        "      <td> historical-fiction|fiction|novels|romance|cult...</td>\n",
        "      <td> False</td>\n",
        "      <td> False</td>\n",
        "      <td> False</td>\n",
        "      <td> False</td>\n",
        "      <td> False</td>\n",
        "      <td> False</td>\n",
        "      <td> False</td>\n",
        "      <td> False</td>\n",
        "      <td> False</td>\n",
        "      <td> False</td>\n",
        "      <td> False</td>\n",
        "      <td> False</td>\n",
        "      <td> False</td>\n",
        "      <td> False</td>\n",
        "      <td> False</td>\n",
        "      <td> False</td>\n",
        "      <td> False</td>\n",
        "      <td> False</td>\n",
        "      <td> False</td>\n",
        "      <td> False</td>\n",
        "      <td> False</td>\n",
        "      <td> False</td>\n",
        "      <td> False</td>\n",
        "      <td> False</td>\n",
        "      <td> False</td>\n",
        "      <td> False</td>\n",
        "      <td> False</td>\n",
        "      <td> False</td>\n",
        "      <td> False</td>\n",
        "      <td> False</td>\n",
        "      <td> False</td>\n",
        "      <td> False</td>\n",
        "      <td> False</td>\n",
        "      <td> False</td>\n",
        "      <td> False</td>\n",
        "      <td> False</td>\n",
        "      <td> False</td>\n",
        "      <td> False</td>\n",
        "      <td>...</td>\n",
        "      <td> False</td>\n",
        "      <td> False</td>\n",
        "      <td> False</td>\n",
        "      <td> False</td>\n",
        "      <td> False</td>\n",
        "      <td> False</td>\n",
        "      <td> False</td>\n",
        "      <td> False</td>\n",
        "      <td> False</td>\n",
        "      <td> False</td>\n",
        "      <td> False</td>\n",
        "      <td> False</td>\n",
        "      <td> False</td>\n",
        "      <td> False</td>\n",
        "      <td> False</td>\n",
        "      <td> False</td>\n",
        "      <td> False</td>\n",
        "      <td> False</td>\n",
        "      <td> False</td>\n",
        "      <td> False</td>\n",
        "      <td> False</td>\n",
        "      <td> False</td>\n",
        "      <td> False</td>\n",
        "      <td> False</td>\n",
        "      <td> False</td>\n",
        "      <td> False</td>\n",
        "      <td> False</td>\n",
        "      <td> False</td>\n",
        "      <td> False</td>\n",
        "      <td> False</td>\n",
        "      <td> False</td>\n",
        "      <td> False</td>\n",
        "      <td> False</td>\n",
        "      <td> False</td>\n",
        "      <td> False</td>\n",
        "      <td> False</td>\n",
        "      <td> False</td>\n",
        "      <td> False</td>\n",
        "      <td> False</td>\n",
        "      <td> False</td>\n",
        "      <td> False</td>\n",
        "      <td> False</td>\n",
        "      <td> False</td>\n",
        "      <td> False</td>\n",
        "      <td> False</td>\n",
        "      <td> False</td>\n",
        "      <td> False</td>\n",
        "      <td> False</td>\n",
        "      <td> False</td>\n",
        "      <td> False</td>\n",
        "    </tr>\n",
        "    <tr>\n",
        "      <th>5857</th>\n",
        "      <td> 3.50</td>\n",
        "      <td>   516</td>\n",
        "      <td> 0440228441</td>\n",
        "      <td> book</td>\n",
        "      <td> https://www.goodreads.com/author/show/26819.Lo...</td>\n",
        "      <td> 1973</td>\n",
        "      <td> /genres/young-adult|/genres/horror|/genres/mys...</td>\n",
        "      <td>  dir59/47763.I_Know_What_You_Did_Last_Summer.html</td>\n",
        "      <td>   6649</td>\n",
        "      <td>                   I Know What You Did Last Summer</td>\n",
        "      <td>         Lois_Duncan</td>\n",
        "      <td> young-adult|horror|mystery|fiction|thriller|su...</td>\n",
        "      <td> False</td>\n",
        "      <td> False</td>\n",
        "      <td> False</td>\n",
        "      <td> False</td>\n",
        "      <td> False</td>\n",
        "      <td> False</td>\n",
        "      <td> False</td>\n",
        "      <td> False</td>\n",
        "      <td> False</td>\n",
        "      <td> False</td>\n",
        "      <td> False</td>\n",
        "      <td> False</td>\n",
        "      <td> False</td>\n",
        "      <td> False</td>\n",
        "      <td> False</td>\n",
        "      <td> False</td>\n",
        "      <td> False</td>\n",
        "      <td> False</td>\n",
        "      <td> False</td>\n",
        "      <td> False</td>\n",
        "      <td> False</td>\n",
        "      <td> False</td>\n",
        "      <td> False</td>\n",
        "      <td> False</td>\n",
        "      <td> False</td>\n",
        "      <td> False</td>\n",
        "      <td> False</td>\n",
        "      <td> False</td>\n",
        "      <td> False</td>\n",
        "      <td> False</td>\n",
        "      <td> False</td>\n",
        "      <td> False</td>\n",
        "      <td> False</td>\n",
        "      <td> False</td>\n",
        "      <td> False</td>\n",
        "      <td> False</td>\n",
        "      <td> False</td>\n",
        "      <td> False</td>\n",
        "      <td>...</td>\n",
        "      <td> False</td>\n",
        "      <td> False</td>\n",
        "      <td> False</td>\n",
        "      <td> False</td>\n",
        "      <td> False</td>\n",
        "      <td> False</td>\n",
        "      <td> False</td>\n",
        "      <td> False</td>\n",
        "      <td> False</td>\n",
        "      <td> False</td>\n",
        "      <td> False</td>\n",
        "      <td> False</td>\n",
        "      <td> False</td>\n",
        "      <td> False</td>\n",
        "      <td> False</td>\n",
        "      <td> False</td>\n",
        "      <td> False</td>\n",
        "      <td> False</td>\n",
        "      <td> False</td>\n",
        "      <td> False</td>\n",
        "      <td> False</td>\n",
        "      <td> False</td>\n",
        "      <td> False</td>\n",
        "      <td> False</td>\n",
        "      <td> False</td>\n",
        "      <td> False</td>\n",
        "      <td> False</td>\n",
        "      <td> False</td>\n",
        "      <td> False</td>\n",
        "      <td> False</td>\n",
        "      <td> False</td>\n",
        "      <td> False</td>\n",
        "      <td> False</td>\n",
        "      <td> False</td>\n",
        "      <td> False</td>\n",
        "      <td> False</td>\n",
        "      <td> False</td>\n",
        "      <td> False</td>\n",
        "      <td> False</td>\n",
        "      <td> False</td>\n",
        "      <td>  True</td>\n",
        "      <td> False</td>\n",
        "      <td> False</td>\n",
        "      <td> False</td>\n",
        "      <td> False</td>\n",
        "      <td> False</td>\n",
        "      <td> False</td>\n",
        "      <td> False</td>\n",
        "      <td> False</td>\n",
        "      <td> False</td>\n",
        "    </tr>\n",
        "  </tbody>\n",
        "</table>\n",
        "<p>37 rows \u00d7 550 columns</p>\n",
        "</div>"
       ],
       "metadata": {},
       "output_type": "pyout",
       "prompt_number": 94,
       "text": [
        "      rating  review_count        isbn booktype                                         author_url  year                                         genre_urls                                                dir  rating_count                                               name               author                                             genres genre: genre:14th-century genre:15th-century genre:16th-century genre:17th-century genre:18th-century genre:19th-century genre:20th-century genre:abuse  \\\n",
        "40      4.05         50663  1565125606     book  https://www.goodreads.com/author/show/24556.Sa...  2006  /genres/book-club|/genres/contemporary|/genres...               dir01/43641.Water_for_Elephants.html        885435                                Water for Elephants           Sara_Gruen  book-club|contemporary|fiction|literary-fictio...  False              False              False              False              False              False              False              False       False   \n",
        "97      3.96         22248  0142001740     book  https://www.goodreads.com/author/show/4711.Sue...  2001  /genres/american|/genres/southern|/genres/fict...           dir01/37435.The_Secret_Life_of_Bees.html        742872                            The Secret Life of Bees        Sue_Monk_Kidd  american|southern|fiction|book-club|novels|lit...  False              False              False              False              False              False              False              False       False   \n",
        "262     4.06          2429  0786226749     book  https://www.goodreads.com/author/show/3075.Joh...  1985  /genres/literary-fiction|/genres/romance|/genr...              dir03/4687.The_Cider_House_Rules.html        100816                              The Cider House Rules          John_Irving  literary-fiction|romance|literature|20th-centu...  False              False              False              False              False              False              False               True       False   \n",
        "306     4.38          3083  0451933028     book  https://www.goodreads.com/author/show/3389.Ste...  1996  /genres/novels|/genres/drama|/genres/fiction|/...                    dir04/11566.The_Green_Mile.html        130310                                     The Green Mile         Stephen_King  novels|drama|fiction|horror|science-fiction|me...  False              False              False              False              False              False              False              False       False   \n",
        "575     3.91          2980  0446676071     book  https://www.goodreads.com/author/show/2345.Nic...  1998  /genres/romance|/genres/womens-fiction|/genres...                dir06/3478.Message_in_a_Bottle.html        141661                                Message in a Bottle      Nicholas_Sparks  romance|womens-fiction|chick-lit|contemporary|...  False              False              False              False              False              False              False              False       False   \n",
        "697     3.97          1118  0743453255     book  https://www.goodreads.com/author/show/77004.Wi...  1986  /genres/fiction|/genres/historical-fiction|/ge...                     dir07/186190.Forrest_Gump.html         30604                    Forrest Gump (Forrest Gump, #1)        Winston_Groom  fiction|historical-fiction|media-tie-in|movies...  False              False              False              False              False              False              False              False       False   \n",
        "865     3.79          3364  0553813951     book  https://www.goodreads.com/author/show/2345.Nic...  2002  /genres/romance|/genres/fiction|/genres/womens...                dir09/15926.Nights_in_Rodanthe.html        104111                                 Nights in Rodanthe      Nicholas_Sparks  romance|fiction|womens-fiction|chick-lit|conte...  False              False              False              False              False              False              False              False       False   \n",
        "1035    3.79         10360  031232118X     book  https://www.goodreads.com/author/show/13370.Em...  2004  /genres/womens-fiction|/genres/chick-lit|/genr...                dir11/42156.Something_Borrowed.html        326109                                 Something Borrowed         Emily_Giffin  womens-fiction|chick-lit|romance|contemporary|...  False              False              False              False              False              False              False              False       False   \n",
        "1071    3.89          1475  0385339704     book  https://www.goodreads.com/author/show/721.John...  1992  /genres/fiction|/genres/novels|/genres/mystery...                 dir11/32499.The_Pelican_Brief.html        221753                                  The Pelican Brief         John_Grisham  fiction|novels|mystery|contemporary|thriller|m...  False              False              False              False              False              False              False              False       False   \n",
        "1113    3.93          1332  1400064562     book  https://www.goodreads.com/author/show/59542.Pe...  1973  /genres/horror|/genres/fiction|/genres/thrille...                             dir12/126232.Jaws.html         73605                                               Jaws       Peter_Benchley  horror|fiction|thriller|adventure|classics|sus...  False              False              False              False              False              False              False              False       False   \n",
        "1136    3.73          1004  2266047426     book  https://www.goodreads.com/author/show/3389.Ste...  1992  /genres/horror|/genres/fiction|/genres/thrille...                 dir12/10625.Dolores_Claiborne.html         70797                                  Dolores Claiborne         Stephen_King  horror|fiction|thriller|mystery|suspense|myste...  False              False              False              False              False              False              False              False       False   \n",
        "2102    3.74          2203  0743495667     book  https://www.goodreads.com/author/show/9212.Jen...  2002  /genres/womens-fiction|/genres/chick-lit|/genr...                      dir22/14758.In_Her_Shoes.html        130414                                       In Her Shoes      Jennifer_Weiner  womens-fiction|chick-lit|fiction|romance|adult...  False              False              False              False              False              False              False              False       False   \n",
        "2571    3.69           870  045052468X     book  https://www.goodreads.com/author/show/3389.Ste...  1989  /genres/horror|/genres/fiction|/genres/thrille...                     dir26/11597.The_Dark_Half.html         74017                                      The Dark Half         Stephen_King  horror|fiction|thriller|fantasy|fantasy|supern...  False              False              False              False              False              False              False              False       False   \n",
        "3157    4.25           922  0871137380     book  https://www.goodreads.com/author/show/3098.Mar...  1999  /genres/history|/genres/non-fiction|/genres/wa...                   dir32/55403.Black_Hawk_Down.html         30692                                    Black Hawk Down          Mark_Bowden  history|non-fiction|war|military|war|military|...  False              False              False              False              False              False              False              False       False   \n",
        "3178    3.86            47  0345345134     book  https://www.goodreads.com/author/show/90476.Ch...  1980  /genres/biography|/genres/non-fiction|/genres/...                     dir32/156378.Elephant_Man.html           917                                       Elephant Man     Christine_Sparks  biography|non-fiction|classics|history|drama|h...  False              False              False              False              False              False              False              False       False   \n",
        "3197    3.97          2018  0739467042     book  https://www.goodreads.com/author/show/36667.Vi...  2000  /genres/cultural|/genres/india|/genres/fiction...                              dir32/288644.Q_A.html         18218                                              Q & A         Vikas_Swarup  cultural|india|fiction|contemporary|book-club|...  False              False              False              False              False              False              False              False       False   \n",
        "3449    4.30           156  0316075809     book  https://www.goodreads.com/author/show/61939.Ma...  2009  /genres/paranormal|/genres/vampires|/genres/yo...                        dir35/6466909-new-moon.html         41758  New Moon (The Twilight Saga: The Official Illu...       Mark_Cotta_Vaz  paranormal|vampires|young-adult|fantasy|romanc...  False              False              False              False              False              False              False              False       False   \n",
        "3452    4.52           339  0545422906     book  https://www.goodreads.com/author/show/13599.Ka...  2012  /genres/non-fiction|/genres/science-fiction|/g...               dir35/11742691-the-hunger-games.html         73993                                   The Hunger Games            Kate_Egan  non-fiction|science-fiction|dystopia|media-tie...  False              False              False              False              False              False              False              False       False   \n",
        "3814    3.90           392  9770909998     book  https://www.goodreads.com/author/show/353145.T...  1937  /genres/novels|/genres/literature|/genres/cult...                                 dir39/3482579.html          4409          \u00d9\u008a\u00d9\u0088\u00d9\u0085",
        "\u00d9\u008a\u00d8\u00a7\u00d8\u00aa \u00d9\u0086\u00d8\u00a7\u00d8\u00a6\u00d8\u00a8 \u00d9\u0081\u00d9\u0089 \u00d8\u00a7\u00d9\u0084\u00d8\u00a3\u00d8\u00b1\u00d9\u008a\u00d8\u00a7\u00d9\u0081      Tawfiq_Al_Hakim  novels|literature|cultural|egypt|fiction|polit...  False              False              False              False              False              False              False              False       False   \n",
        "3929    3.55          2838  0375851798     book  https://www.goodreads.com/author/show/321382.T...  2008  /genres/young-adult|/genres/contemporary|/genr...             dir40/3798703-the-spectacular-now.html         22680                                The Spectacular Now            Tim_Tharp  young-adult|contemporary|fiction|romance|reali...  False              False              False              False              False              False              False              False       False   \n",
        "3971    3.91           531  1569714029     book  https://www.goodreads.com/author/show/15085.Fr...  1998  /genres/sequential-art|/genres/graphic-novels|...                               dir40/59952.300.html         31910                                                300         Frank_Miller  sequential-art|graphic-novels|sequential-art|c...  False              False              False              False              False              False              False              False       False   \n",
        "4031    4.63           227  0062240080     book  https://www.goodreads.com/author/show/4039811....  2012  /genres/young-adult|/genres/science-fiction|/g...  dir41/15743078-the-divergent-series-2-book-col...          9388  The Divergent Series 2-Book Collection (Diverg...        Veronica_Roth  young-adult|science-fiction|dystopia|science-f...  False              False              False              False              False              False              False              False       False   \n",
        "4071    4.03           606  0747545251     book  https://www.goodreads.com/author/show/12540.Ro...  1959  /genres/horror|/genres/fiction|/genres/thrille...                           dir41/156427.Psycho.html         23572                                             Psycho         Robert_Bloch  horror|fiction|thriller|classics|mystery|myste...  False              False              False              False              False              False              False              False       False   \n",
        "4088    4.13           364  0316070521     book  https://www.goodreads.com/author/show/32168.Ca...  2009  /genres/paranormal|/genres/vampires|/genres/no...    dir41/6202690-twilight-director-s-notebook.html         57034                      Twilight Director's Notebook   Catherine_Hardwicke  paranormal|vampires|non-fiction|fantasy|parano...  False              False              False              False              False              False              False              False       False   \n",
        "4201    4.08           254  0671038540     book  https://www.goodreads.com/author/show/18719.Pe...  1991  /genres/fiction|/genres/classics|/genres/media...      dir43/152662.What_s_Eating_Gilbert_Grape.html          7753                        What's Eating Gilbert Grape         Peter_Hedges  fiction|classics|media-tie-in|movies|adult|con...  False              False              False              False              False              False              False              False       False   \n",
        "4293    4.06           787  0446350982     book  https://www.goodreads.com/author/show/2749.Sco...  1986  /genres/mystery|/genres/thriller|/genres/law|/...                dir43/425029.Presumed_Innocent.html         69505  Presumed Innocent (Kindle County Legal Thrille...          Scott_Turow  mystery|thriller|law|novels|fiction|contempora...  False              False              False              False              False              False              False              False       False   \n",
        "4547    3.91           965  1619698366     book  https://www.goodreads.com/author/show/4919495....  2012  /genres/young-adult|/genres/contemporary|/genr...            dir46/15789823-struck-by-lightning.html          6487                                Struck By Lightning         Chris_Colfer  young-adult|contemporary|fiction|realistic-fic...  False              False              False              False              False              False              False              False       False   \n",
        "4668    4.01           532  0312291450     book  https://www.goodreads.com/author/show/1362939....  2001  /genres/non-fiction|/genres/biography|/genres/...               dir47/34548.If_Chins_Could_Kill.html          9004                                If Chins Could Kill       Bruce_Campbell  non-fiction|biography|humor|biography|autobiog...  False              False              False              False              False              False              False              False       False   \n",
        "4671    4.15           364  0553282980     book  https://www.goodreads.com/author/show/52601.N_...  1989  /genres/fiction|/genres/classics|/genres/novel...                dir47/67238.Dead_Poets_Society.html         22485                                 Dead Poets Society        N_H_Kleinbaum  fiction|classics|novels|young-adult|drama|medi...  False              False              False              False              False              False              False              False       False   \n",
        "4780    3.59           437  0743287215     book  https://www.goodreads.com/author/show/33034.An...  2003  /genres/non-fiction|/genres/war|/genres/war|/g...                           dir48/75060.Jarhead.html          5932                                            Jarhead     Anthony_Swofford  non-fiction|war|war|military|autobiography|mem...  False              False              False              False              False              False              False              False       False   \n",
        "5031    3.73          1120  006078721X     book  https://www.goodreads.com/author/show/2238.Isa...  2005  /genres/fiction|/genres/historical-fiction|/ge...                             dir51/24796.Zorro.html         12915                                              Zorro       Isabel_Allende  fiction|historical-fiction|adventure|romance|e...  False              False              False              False              False              False              False              False       False   \n",
        "5184    4.59           124  1856136639     book  https://www.goodreads.com/author/show/1077326....  1999  /genres/fantasy|/genres/fiction|/genres/young-...        dir52/2337379.The_Harry_Potter_trilogy.html          3177      The Harry Potter trilogy (Harry Potter, #1-3)          J_K_Rowling  fantasy|fiction|young-adult|childrens|cultural...  False              False              False              False              False              False              False              False       False   \n",
        "5240    3.80            50  0140439161     book  https://www.goodreads.com/author/show/34937.Wi...  1790  /genres/classics|/genres/biography|/genres/adv...                dir53/254191.The_Bounty_Mutiny.html          1189                                  The Bounty Mutiny        William_Bligh  classics|biography|adventure|non-fiction|adven...  False              False              False              False              False               True              False              False       False   \n",
        "5284    4.23           143  0304356875     book  https://www.goodreads.com/author/show/62110.Pa...  1950  /genres/history|/genres/non-fiction|/genres/wa...                 dir53/107406.The_Great_Escape.html          3774                                   The Great Escape       Paul_Brickhill  history|non-fiction|war|history|world-war-ii|w...  False              False              False              False              False              False              False              False       False   \n",
        "5732    4.08           305  067166607X     book  https://www.goodreads.com/author/show/262262.F...  1923  /genres/classics|/genres/fiction|/genres/child...                            dir58/739840.Bambi.html         22292                                              Bambi         Felix_Salten  classics|fiction|childrens|animals|fantasy|you...  False              False              False              False              False              False              False              False       False   \n",
        "5798    3.94           357  8493388335     book  https://www.goodreads.com/author/show/48143.An...  1951  /genres/historical-fiction|/genres/fiction|/ge...                           dir59/84049.D_sir_e.html          4559                                          D\u00c3\u00a9sir\u00c3\u00a9e    Annemarie_Selinko  historical-fiction|fiction|novels|romance|cult...  False              False              False              False              False              False              False              False       False   \n",
        "5857    3.50           516  0440228441     book  https://www.goodreads.com/author/show/26819.Lo...  1973  /genres/young-adult|/genres/horror|/genres/mys...   dir59/47763.I_Know_What_You_Did_Last_Summer.html          6649                    I Know What You Did Last Summer          Lois_Duncan  young-adult|horror|mystery|fiction|thriller|su...  False              False              False              False              False              False              False              False       False   \n",
        "\n",
        "     genre:academia genre:academic genre:action genre:activism genre:adolescence genre:adoption genre:adult genre:adult-fiction genre:adventure genre:africa genre:african-american genre:african-american-literature genre:african-literature genre:aliens genre:alternate-history genre:american genre:american-civil-war genre:american-fiction genre:american-history genre:american-novels genre:americana genre:anarchism genre:ancient genre:angels genre:animal-fiction genre:animals genre:anime  \\\n",
        "40            False          False        False          False             False          False       False               False           False        False                  False                             False                    False        False                   False          False                    False                  False                  False                 False           False           False         False        False                False         False       False   \n",
        "97            False           True        False          False             False          False       False               False           False        False                   True                             False                    False        False                   False           True                    False                  False                  False                 False           False           False         False        False                False         False       False   \n",
        "262           False          False        False          False             False          False       False               False           False        False                  False                             False                    False        False                   False          False                    False                  False                  False                 False           False           False         False        False                False         False       False   \n",
        "306           False          False        False          False             False          False       False               False           False        False                  False                             False                    False        False                   False          False                    False                  False                  False                 False           False           False         False        False                False         False       False   \n",
        "575           False          False        False          False             False          False        True                True           False        False                  False                             False                    False        False                   False          False                    False                  False                  False                 False           False           False         False        False                False         False       False   \n",
        "697           False          False        False          False             False          False        True               False            True        False                  False                             False                    False        False                   False          False                    False                  False                  False                 False           False           False         False        False                False         False       False   \n",
        "865           False          False        False          False             False          False        True                True           False        False                  False                             False                    False        False                   False          False                    False                  False                  False                 False           False           False         False        False                False         False       False   \n",
        "1035          False          False        False          False             False          False        True                True           False        False                  False                             False                    False        False                   False          False                    False                  False                  False                 False           False           False         False        False                False         False       False   \n",
        "1071          False          False        False          False             False          False       False               False           False        False                  False                             False                    False        False                   False          False                    False                  False                  False                 False           False           False         False        False                False         False       False   \n",
        "1113          False          False        False          False             False          False        True               False            True        False                  False                             False                    False        False                   False          False                    False                  False                  False                 False           False           False         False        False                False          True       False   \n",
        "1136          False          False        False          False             False          False       False               False           False        False                  False                             False                    False        False                   False          False                    False                  False                  False                 False           False           False         False        False                False         False       False   \n",
        "2102          False          False        False          False             False          False        True                True           False        False                  False                             False                    False        False                   False          False                    False                  False                  False                 False           False           False         False        False                False         False       False   \n",
        "2571          False          False        False          False             False          False       False               False           False        False                  False                             False                    False        False                   False           True                    False                  False                  False                 False           False           False         False        False                False         False       False   \n",
        "3157          False          False        False          False             False          False       False               False           False         True                  False                             False                    False        False                   False          False                    False                  False                   True                 False           False           False         False        False                False         False       False   \n",
        "3178          False           True        False          False             False          False       False               False           False        False                  False                             False                    False        False                   False          False                    False                  False                  False                 False           False           False         False        False                False         False       False   \n",
        "3197          False          False        False          False             False          False       False                True           False        False                  False                             False                    False        False                   False          False                    False                  False                  False                 False           False           False         False        False                False         False       False   \n",
        "3449          False          False        False          False             False          False       False               False           False        False                  False                             False                    False        False                   False          False                    False                  False                  False                 False           False           False         False        False                False         False       False   \n",
        "3452          False          False        False          False             False          False       False               False            True        False                  False                             False                    False        False                   False          False                    False                  False                  False                 False           False           False         False        False                False         False       False   \n",
        "3814          False          False        False          False             False          False       False               False           False        False                  False                             False                     True        False                   False          False                    False                  False                  False                 False           False           False         False        False                False         False       False   \n",
        "3929          False          False        False          False             False          False       False               False           False        False                  False                             False                    False        False                   False          False                    False                  False                  False                 False           False           False         False        False                False         False       False   \n",
        "3971          False          False        False          False             False          False       False               False           False        False                  False                             False                    False        False                   False          False                    False                  False                  False                 False           False           False         False        False                False         False       False   \n",
        "4031          False          False         True          False             False          False       False               False            True        False                  False                             False                    False        False                   False          False                    False                  False                  False                 False           False           False         False        False                False         False       False   \n",
        "4071          False          False        False          False             False          False       False               False           False        False                  False                             False                    False        False                   False          False                    False                  False                  False                 False           False           False         False        False                False         False       False   \n",
        "4088          False          False        False          False             False          False       False               False           False        False                  False                             False                    False        False                   False          False                    False                  False                  False                 False           False           False         False        False                False         False       False   \n",
        "4201          False          False        False          False             False          False        True               False           False        False                  False                             False                    False        False                   False          False                    False                  False                  False                 False           False           False         False        False                False         False       False   \n",
        "4293          False          False        False          False             False          False        True                True           False        False                  False                             False                    False        False                   False           True                    False                  False                  False                 False           False           False         False        False                False         False       False   \n",
        "4547          False          False        False          False             False          False       False               False           False        False                  False                             False                    False        False                   False          False                    False                  False                  False                 False           False           False         False        False                False         False       False   \n",
        "4668          False          False        False          False             False          False       False               False           False        False                  False                             False                    False        False                   False          False                    False                  False                  False                 False           False           False         False        False                False         False       False   \n",
        "4671          False           True        False          False             False          False       False               False           False        False                  False                             False                    False        False                   False          False                    False                  False                  False                 False           False           False         False        False                False         False       False   \n",
        "4780          False          False        False          False             False          False       False               False           False        False                  False                             False                    False        False                   False          False                    False                  False                  False                 False           False           False         False        False                False         False       False   \n",
        "5031          False          False        False          False             False          False       False               False            True        False                  False                             False                    False        False                   False          False                    False                  False                  False                 False           False           False         False        False                False         False       False   \n",
        "5184          False          False        False          False             False          False       False               False           False        False                  False                             False                    False        False                   False          False                    False                  False                  False                 False           False           False         False        False                False         False       False   \n",
        "5240          False          False        False          False             False          False       False               False            True        False                  False                             False                    False        False                   False          False                    False                  False                  False                 False           False           False         False        False                False         False       False   \n",
        "5284          False          False        False          False             False          False       False               False            True        False                  False                             False                    False        False                   False          False                    False                  False                  False                 False           False           False         False        False                False         False       False   \n",
        "5732          False          False        False          False             False          False       False               False           False        False                  False                             False                    False        False                   False          False                    False                  False                  False                 False           False           False         False        False                False          True       False   \n",
        "5798          False          False        False          False             False          False       False               False           False        False                  False                             False                    False        False                   False          False                    False                  False                  False                 False           False           False         False        False                False         False       False   \n",
        "5857          False          False        False          False             False          False       False               False           False        False                  False                             False                    False        False                   False          False                    False                  False                  False                 False           False           False         False        False                False         False       False   \n",
        "\n",
        "     genre:anthologies genre:anthropology        ...         genre:time-travel-romance genre:tragedy genre:trans genre:transgender genre:travel genre:travelogue genre:true-crime genre:true-story genre:turkish genre:turkish-literature genre:ukraine genre:unicorns genre:united-states genre:urban-fantasy genre:urban-planning genre:urbanism genre:us-presidents genre:utopia genre:vampires genre:vegan genre:video-games genre:walking genre:war genre:weird-fiction genre:werewolves genre:western  \\\n",
        "40               False              False        ...                             False         False       False             False        False            False            False            False         False                    False         False          False               False               False                False          False               False        False          False       False             False         False     False               False            False         False   \n",
        "97               False              False        ...                             False         False       False             False        False            False            False            False         False                    False         False          False               False               False                False          False               False        False          False       False             False         False     False               False            False         False   \n",
        "262              False              False        ...                             False         False       False             False        False            False            False            False         False                    False         False          False               False               False                False          False               False        False          False       False             False         False     False               False            False         False   \n",
        "306              False              False        ...                             False         False       False             False        False            False            False            False         False                    False         False          False               False               False                False          False               False        False          False       False             False         False     False               False            False         False   \n",
        "575              False              False        ...                             False         False       False             False        False            False            False            False         False                    False         False          False               False               False                False          False               False        False          False       False             False         False     False               False            False         False   \n",
        "697              False              False        ...                             False         False       False             False        False            False            False            False         False                    False         False          False               False               False                False          False               False        False          False       False             False         False     False               False            False         False   \n",
        "865              False              False        ...                             False         False       False             False        False            False            False            False         False                    False         False          False               False               False                False          False               False        False          False       False             False         False     False               False            False         False   \n",
        "1035             False              False        ...                             False         False       False             False        False            False            False            False         False                    False         False          False               False               False                False          False               False        False          False       False             False         False     False               False            False         False   \n",
        "1071             False              False        ...                             False         False       False             False        False            False            False            False         False                    False         False          False               False               False                False          False               False        False          False       False             False         False     False               False            False         False   \n",
        "1113             False              False        ...                             False         False       False             False        False            False            False            False         False                    False         False          False               False               False                False          False               False        False          False       False             False         False     False               False            False         False   \n",
        "1136             False              False        ...                             False         False       False             False        False            False            False            False         False                    False         False          False               False               False                False          False               False        False          False       False             False         False     False               False            False         False   \n",
        "2102             False              False        ...                             False         False       False             False        False            False            False            False         False                    False         False          False               False               False                False          False               False        False          False       False             False         False     False               False            False         False   \n",
        "2571             False              False        ...                             False         False       False             False        False            False            False            False         False                    False         False          False               False               False                False          False               False        False          False       False             False         False     False               False            False         False   \n",
        "3157             False              False        ...                             False         False       False             False        False            False            False            False         False                    False         False          False               False               False                False          False               False        False          False       False             False         False      True               False            False         False   \n",
        "3178             False              False        ...                             False         False       False             False        False            False            False            False         False                    False         False          False               False               False                False          False               False        False          False       False             False         False     False               False            False         False   \n",
        "3197             False              False        ...                             False         False       False             False        False            False            False            False         False                    False         False          False               False               False                False          False               False        False          False       False             False         False     False               False            False         False   \n",
        "3449             False              False        ...                             False         False       False             False        False            False            False            False         False                    False         False          False               False               False                False          False               False        False           True       False             False         False     False               False             True         False   \n",
        "3452             False              False        ...                             False         False       False             False        False            False            False            False         False                    False         False          False               False               False                False          False               False        False          False       False             False         False     False               False            False         False   \n",
        "3814             False              False        ...                             False         False       False             False        False            False            False            False         False                    False         False          False               False               False                False          False               False        False          False       False             False         False     False               False            False         False   \n",
        "3929             False              False        ...                             False         False       False             False        False            False            False            False         False                    False         False          False               False               False                False          False               False        False          False       False             False         False     False               False            False         False   \n",
        "3971             False              False        ...                             False         False       False             False        False            False            False            False         False                    False         False          False               False               False                False          False               False        False          False       False             False         False      True               False            False         False   \n",
        "4031             False              False        ...                             False         False       False             False        False            False            False            False         False                    False         False          False               False               False                False          False               False        False          False       False             False         False     False               False            False         False   \n",
        "4071             False              False        ...                             False         False       False             False        False            False            False            False         False                    False         False          False               False               False                False          False               False        False          False       False             False         False     False               False            False         False   \n",
        "4088             False              False        ...                             False         False       False             False        False            False            False            False         False                    False         False          False               False               False                False          False               False        False           True       False             False         False     False               False             True         False   \n",
        "4201             False              False        ...                             False         False       False             False        False            False            False            False         False                    False         False          False               False               False                False          False               False        False          False       False             False         False     False               False            False         False   \n",
        "4293             False              False        ...                             False         False       False             False        False            False            False            False         False                    False         False          False               False               False                False          False               False        False          False       False             False         False     False               False            False         False   \n",
        "4547             False              False        ...                             False         False       False             False        False            False            False            False         False                    False         False          False               False               False                False          False               False        False          False       False             False         False     False               False            False         False   \n",
        "4668             False              False        ...                             False         False       False             False        False            False            False            False         False                    False         False          False               False               False                False          False               False        False          False       False             False         False     False               False            False         False   \n",
        "4671             False              False        ...                             False         False       False             False        False            False            False            False         False                    False         False          False               False               False                False          False               False        False          False       False             False         False     False               False            False         False   \n",
        "4780             False              False        ...                             False         False       False             False        False            False            False            False         False                    False         False          False               False               False                False          False               False        False          False       False             False         False      True               False            False         False   \n",
        "5031             False              False        ...                             False         False       False             False        False            False            False            False         False                    False         False          False               False               False                False          False               False        False          False       False             False         False     False               False            False         False   \n",
        "5184             False              False        ...                             False         False       False             False        False            False            False            False         False                    False         False          False               False               False                False          False               False        False          False       False             False         False     False               False            False         False   \n",
        "5240             False              False        ...                             False         False       False             False         True            False            False            False         False                    False         False          False               False               False                False          False               False        False          False       False             False         False     False               False            False         False   \n",
        "5284             False              False        ...                             False         False       False             False        False            False            False            False         False                    False         False          False               False               False                False          False               False        False          False       False             False         False      True               False            False         False   \n",
        "5732             False              False        ...                             False         False       False             False        False            False            False            False         False                    False         False          False               False               False                False          False               False        False          False       False             False         False     False               False            False         False   \n",
        "5798             False              False        ...                             False         False       False             False        False            False            False            False         False                    False         False          False               False               False                False          False               False        False          False       False             False         False     False               False            False         False   \n",
        "5857             False              False        ...                             False         False       False             False        False            False            False            False         False                    False         False          False               False               False                False          False               False        False          False       False             False         False     False               False            False         False   \n",
        "\n",
        "     genre:western-romance genre:wicca genre:wilderness genre:wildlife genre:witches genre:wizards genre:wolves genre:womens genre:womens-fiction genre:womens-studies genre:world-history genre:world-war-ii genre:writing genre:x-men genre:young-adult genre:young-adult-contemporary genre:young-adult-fantasy genre:young-adult-historical-fiction genre:young-adult-paranormal genre:young-adult-romance genre:young-adult-science-fiction genre:young-readers genre:zen genre:zombies  \n",
        "40                   False       False            False          False         False         False        False        False                False                False               False              False         False       False             False                          False                     False                                False                        False                     False                             False               False     False         False  \n",
        "97                   False       False            False          False         False         False        False        False                False                False               False              False         False       False              True                          False                     False                                False                        False                     False                             False               False     False         False  \n",
        "262                  False       False            False          False         False         False        False        False                False                False               False              False         False       False             False                          False                     False                                False                        False                     False                             False               False     False         False  \n",
        "306                  False       False            False          False         False         False        False        False                False                False               False              False         False       False             False                          False                     False                                False                        False                     False                             False               False     False         False  \n",
        "575                  False       False            False          False         False         False        False        False                 True                False               False              False         False       False             False                          False                     False                                False                        False                     False                             False               False     False         False  \n",
        "697                  False       False            False          False         False         False        False        False                False                False               False              False         False       False             False                          False                     False                                False                        False                     False                             False               False     False         False  \n",
        "865                  False       False            False          False         False         False        False        False                 True                False               False              False         False       False             False                          False                     False                                False                        False                     False                             False               False     False         False  \n",
        "1035                 False       False            False          False         False         False        False        False                 True                False               False              False         False       False             False                          False                     False                                False                        False                     False                             False               False     False         False  \n",
        "1071                 False       False            False          False         False         False        False        False                False                False               False              False         False       False             False                          False                     False                                False                        False                     False                             False               False     False         False  \n",
        "1113                 False       False            False          False         False         False        False        False                False                False               False              False         False       False             False                          False                     False                                False                        False                     False                             False               False     False         False  \n",
        "1136                 False       False            False          False         False         False        False         True                False                False               False              False         False       False             False                          False                     False                                False                        False                     False                             False               False     False         False  \n",
        "2102                 False       False            False          False         False         False        False        False                 True                False               False              False         False       False             False                          False                     False                                False                        False                     False                             False               False     False         False  \n",
        "2571                 False       False            False          False         False         False        False        False                False                False               False              False         False       False             False                          False                     False                                False                        False                     False                             False               False     False         False  \n",
        "3157                 False       False            False          False         False         False        False        False                False                False               False              False          True       False             False                          False                     False                                False                        False                     False                             False               False     False         False  \n",
        "3178                 False       False            False          False         False         False        False        False                False                False               False              False         False       False             False                          False                     False                                False                        False                     False                             False               False     False         False  \n",
        "3197                 False       False            False          False         False         False        False        False                False                False               False              False         False       False             False                          False                     False                                False                        False                     False                             False               False     False         False  \n",
        "3449                 False       False            False          False         False         False        False        False                False                False               False              False         False       False              True                          False                     False                                False                        False                     False                             False               False     False         False  \n",
        "3452                 False       False            False          False         False         False        False        False                False                False               False              False         False       False              True                          False                     False                                False                        False                     False                             False               False     False         False  \n",
        "3814                 False       False            False          False         False         False        False        False                False                False               False              False         False       False             False                          False                     False                                False                        False                     False                             False               False     False         False  \n",
        "3929                 False       False            False          False         False         False        False        False                False                False               False              False         False       False              True                          False                     False                                False                        False                     False                             False               False     False         False  \n",
        "3971                 False       False            False          False         False         False        False        False                False                False               False              False         False       False             False                          False                     False                                False                        False                     False                             False               False     False         False  \n",
        "4031                 False       False            False          False         False         False        False        False                False                False               False              False         False       False              True                          False                     False                                False                        False                     False                             False               False     False         False  \n",
        "4071                 False       False            False          False         False         False        False        False                False                False               False              False         False       False             False                          False                     False                                False                        False                     False                             False               False     False         False  \n",
        "4088                 False       False            False          False         False         False        False        False                False                False               False              False         False       False              True                          False                     False                                False                        False                     False                             False               False     False         False  \n",
        "4201                 False       False            False          False         False         False        False        False                False                False               False              False         False       False              True                          False                     False                                False                        False                     False                             False               False     False         False  \n",
        "4293                 False       False            False          False         False         False        False        False                False                False               False              False         False       False             False                          False                     False                                False                        False                     False                             False               False     False         False  \n",
        "4547                 False       False            False          False         False         False        False        False                False                False               False              False         False       False              True                          False                     False                                False                        False                     False                             False               False     False         False  \n",
        "4668                 False       False            False          False         False         False        False        False                False                False               False              False         False       False             False                          False                     False                                False                        False                     False                             False               False     False         False  \n",
        "4671                 False       False            False          False         False         False        False        False                False                False               False              False         False       False              True                          False                     False                                False                        False                     False                             False               False     False         False  \n",
        "4780                 False       False            False          False         False         False        False        False                False                False               False              False         False       False             False                          False                     False                                False                        False                     False                             False               False     False         False  \n",
        "5031                 False       False            False          False         False         False        False        False                False                False               False              False         False       False             False                          False                     False                                False                        False                     False                             False               False     False         False  \n",
        "5184                 False       False            False          False         False         False        False        False                False                False               False              False         False       False              True                          False                     False                                False                        False                     False                             False               False     False         False  \n",
        "5240                 False       False            False          False         False         False        False        False                False                False               False              False         False       False             False                          False                     False                                False                        False                     False                             False               False     False         False  \n",
        "5284                 False       False            False          False         False         False        False        False                False                False               False               True         False       False             False                          False                     False                                False                        False                     False                             False               False     False         False  \n",
        "5732                 False       False            False          False         False         False        False        False                False                False               False              False         False       False              True                          False                     False                                False                        False                     False                             False               False     False         False  \n",
        "5798                 False       False            False          False         False         False        False        False                False                False               False              False         False       False             False                          False                     False                                False                        False                     False                             False               False     False         False  \n",
        "5857                 False       False            False          False         False         False        False        False                False                False               False              False         False       False              True                          False                     False                                False                        False                     False                             False               False     False         False  \n",
        "\n",
        "[37 rows x 550 columns]"
       ]
      }
     ],
     "prompt_number": 94
    },
    {
     "cell_type": "code",
     "collapsed": false,
     "input": [
      "dfmovies.name\n",
      "movienames = [g for g in dfmovies.name]\n",
      "movienames"
     ],
     "language": "python",
     "metadata": {},
     "outputs": [
      {
       "metadata": {},
       "output_type": "pyout",
       "prompt_number": 95,
       "text": [
        "['Water for Elephants',\n",
        " 'The Secret Life of Bees',\n",
        " 'The Cider House Rules',\n",
        " 'The Green Mile',\n",
        " 'Message in a Bottle',\n",
        " 'Forrest Gump (Forrest Gump, #1)',\n",
        " 'Nights in Rodanthe',\n",
        " 'Something Borrowed',\n",
        " 'The Pelican Brief',\n",
        " 'Jaws',\n",
        " 'Dolores Claiborne',\n",
        " 'In Her Shoes',\n",
        " 'The Dark Half',\n",
        " 'Black Hawk Down',\n",
        " 'Elephant Man',\n",
        " 'Q & A',\n",
        " 'New Moon (The Twilight Saga: The Official Illustrated Movie Companion, #2)',\n",
        " 'The Hunger Games',\n",
        " '\\xc3\\x99\\xc2\\x8a\\xc3\\x99\\xc2\\x88\\xc3\\x99\\xc2\\x85\\xc3\\x99\\xc2\\x8a\\xc3\\x98\\xc2\\xa7\\xc3\\x98\\xc2\\xaa \\xc3\\x99\\xc2\\x86\\xc3\\x98\\xc2\\xa7\\xc3\\x98\\xc2\\xa6\\xc3\\x98\\xc2\\xa8 \\xc3\\x99\\xc2\\x81\\xc3\\x99\\xc2\\x89 \\xc3\\x98\\xc2\\xa7\\xc3\\x99\\xc2\\x84\\xc3\\x98\\xc2\\xa3\\xc3\\x98\\xc2\\xb1\\xc3\\x99\\xc2\\x8a\\xc3\\x98\\xc2\\xa7\\xc3\\x99\\xc2\\x81',\n",
        " 'The Spectacular Now',\n",
        " '300',\n",
        " 'The Divergent Series 2-Book Collection (Divergent, #1-2)',\n",
        " 'Psycho',\n",
        " \"Twilight Director's Notebook \",\n",
        " \"What's Eating Gilbert Grape\",\n",
        " 'Presumed Innocent (Kindle County Legal Thriller, #1)',\n",
        " 'Struck By Lightning',\n",
        " 'If Chins Could Kill',\n",
        " 'Dead Poets Society',\n",
        " 'Jarhead',\n",
        " 'Zorro',\n",
        " 'The Harry Potter trilogy (Harry Potter, #1-3)',\n",
        " 'The Bounty Mutiny',\n",
        " 'The Great Escape',\n",
        " 'Bambi',\n",
        " 'D\\xc3\\x83\\xc2\\xa9sir\\xc3\\x83\\xc2\\xa9e',\n",
        " 'I Know What You Did Last Summer']"
       ]
      }
     ],
     "prompt_number": 95
    },
    {
     "cell_type": "code",
     "collapsed": false,
     "input": [
      "%matplotlib inline\n",
      "\n",
      "import json\n",
      "\n",
      "import requests\n",
      "import pandas as pd\n",
      "import numpy as np\n",
      "import matplotlib.pyplot as plt"
     ],
     "language": "python",
     "metadata": {},
     "outputs": [],
     "prompt_number": 96
    },
    {
     "cell_type": "code",
     "collapsed": false,
     "input": [
      "api_key = 'q8wbh5pe8kxvsdj3nspuh9nt'"
     ],
     "language": "python",
     "metadata": {},
     "outputs": [],
     "prompt_number": 97
    },
    {
     "cell_type": "code",
     "collapsed": false,
     "input": [
      "def getscores(movie_title):\n",
      "    #movie_id = '771204250'  # toy story 3\n",
      "    #movie_title= 'Water for help Elephants'\n",
      "    # 'http://api.rottentomatoes.com/api/public/v1.0/movies/%s/reviews.json' % movie_id\n",
      "\n",
      "    url = 'http://api.rottentomatoes.com/api/public/v1.0/movies.json?q=%s' % movie_title\n",
      "\n",
      "    #these are \"get parameters\"\n",
      "    options = { 'page_limit': 20, 'page': 1, 'apikey': api_key}\n",
      "    data = requests.get(url, params=options).text\n",
      "    data = json.loads(data)  # load a json string into a collection of lists and dicts\n",
      "\n",
      "    #print json.dumps(data['movies'][0]['ratings']['critics_score'] ,indent=2)\n",
      "    # dump an object into a json string\n",
      "    #print json.dumps(data ,indent=2)\n",
      "    istheremovies = data['total']\n",
      "    if istheremovies: \n",
      "        critics_score= data['movies'][0]['ratings']['critics_score'] \n",
      "       # print critics_score\n",
      "        audience_score= data['movies'][0]['ratings']['audience_score'] \n",
      "       # print audience_score\n",
      "        if  audience_score > -1:\n",
      "            arating = audience_score / 20.0\n",
      "        else:\n",
      "            arating = -1\n",
      "        #print arating\n",
      "        if critics_score > -1:\n",
      "            crating = critics_score / 20.0\n",
      "        else:\n",
      "            crating = -1\n",
      "            #print crating\n",
      "    else:\n",
      "        #print 'no match'\n",
      "        return(-1,-1)\n",
      "    return (arating, crating)"
     ],
     "language": "python",
     "metadata": {},
     "outputs": [],
     "prompt_number": 128
    },
    {
     "cell_type": "code",
     "collapsed": false,
     "input": [
      "dfmovieratings =dfmovies\n",
      "dfmovieratngs[critics_score]\n",
      "dfmovieratngs"
     ],
     "language": "python",
     "metadata": {},
     "outputs": [
      {
       "ename": "NameError",
       "evalue": "name 'dfmovieratngs' is not defined",
       "output_type": "pyerr",
       "traceback": [
        "\u001b[1;31m---------------------------------------------------------------------------\u001b[0m\n\u001b[1;31mNameError\u001b[0m                                 Traceback (most recent call last)",
        "\u001b[1;32m<ipython-input-129-30e5631e1dd1>\u001b[0m in \u001b[0;36m<module>\u001b[1;34m()\u001b[0m\n\u001b[0;32m      1\u001b[0m \u001b[0mdfmovieratings\u001b[0m \u001b[1;33m=\u001b[0m\u001b[0mdfmovies\u001b[0m\u001b[1;33m\u001b[0m\u001b[0m\n\u001b[1;32m----> 2\u001b[1;33m \u001b[0mdfmovieratngs\u001b[0m\u001b[1;33m[\u001b[0m\u001b[0mcritics_score\u001b[0m\u001b[1;33m]\u001b[0m\u001b[1;33m\u001b[0m\u001b[0m\n\u001b[0m\u001b[0;32m      3\u001b[0m \u001b[0mdfmovieratngs\u001b[0m\u001b[1;33m\u001b[0m\u001b[0m\n",
        "\u001b[1;31mNameError\u001b[0m: name 'dfmovieratngs' is not defined"
       ]
      }
     ],
     "prompt_number": 129
    },
    {
     "cell_type": "code",
     "collapsed": false,
     "input": [],
     "language": "python",
     "metadata": {},
     "outputs": [],
     "prompt_number": 129
    },
    {
     "cell_type": "code",
     "collapsed": false,
     "input": [
      "moviescore = getscores(\"elephant man\")\n",
      "moviescore"
     ],
     "language": "python",
     "metadata": {},
     "outputs": [
      {
       "metadata": {},
       "output_type": "pyout",
       "prompt_number": 130,
       "text": [
        "(5.0, -1)"
       ]
      }
     ],
     "prompt_number": 130
    },
    {
     "cell_type": "code",
     "collapsed": false,
     "input": [
      "import time"
     ],
     "language": "python",
     "metadata": {},
     "outputs": [],
     "prompt_number": 131
    },
    {
     "cell_type": "code",
     "collapsed": false,
     "input": [
      "ascorelist = []\n",
      "cscorelist = []\n",
      "movieindex = []\n",
      "for k,moviename in dfmovies.iterrows():\n",
      "    print moviename['name']\n",
      "    time.sleep(.5)\n",
      "    (ascore,cscore) =  getscores(moviename['name'])\n",
      "    ascorelist.append(ascore)\n",
      "    cscorelist.append(cscore)\n",
      "    movieindex.append(k)\n",
      "    #dfmovieratings.xs(k,'critic_score') = ascore\n",
      "    #dfmovieratings.xs(k,'audience_score') = cscore\n",
      "    print \"ascore= \" + str(ascore) + \" cscore= \" + str(cscore)"
     ],
     "language": "python",
     "metadata": {},
     "outputs": [
      {
       "output_type": "stream",
       "stream": "stdout",
       "text": [
        "Water for Elephants\n",
        "ascore= 3.5 cscore= 3.0"
       ]
      },
      {
       "output_type": "stream",
       "stream": "stdout",
       "text": [
        "\n",
        "The Secret Life of Bees\n",
        "ascore= 3.9 cscore= 2.9"
       ]
      },
      {
       "output_type": "stream",
       "stream": "stdout",
       "text": [
        "\n",
        "The Cider House Rules\n",
        "ascore= 3.9 cscore= 3.55"
       ]
      },
      {
       "output_type": "stream",
       "stream": "stdout",
       "text": [
        "\n",
        "The Green Mile\n",
        "ascore= 4.7 cscore= 4.0"
       ]
      },
      {
       "output_type": "stream",
       "stream": "stdout",
       "text": [
        "\n",
        "Message in a Bottle\n",
        "ascore= 3.35 cscore= 1.6"
       ]
      },
      {
       "output_type": "stream",
       "stream": "stdout",
       "text": [
        "\n",
        "Forrest Gump (Forrest Gump, #1)\n",
        "ascore= 4.75 cscore= 3.55"
       ]
      },
      {
       "output_type": "stream",
       "stream": "stdout",
       "text": [
        "\n",
        "Nights in Rodanthe\n",
        "ascore= 2.6 cscore= 1.5"
       ]
      },
      {
       "output_type": "stream",
       "stream": "stdout",
       "text": [
        "\n",
        "Something Borrowed\n",
        "ascore= 2.4 cscore= 0.75"
       ]
      },
      {
       "output_type": "stream",
       "stream": "stdout",
       "text": [
        "\n",
        "The Pelican Brief\n",
        "ascore= 3.05 cscore= 2.6"
       ]
      },
      {
       "output_type": "stream",
       "stream": "stdout",
       "text": [
        "\n",
        "Jaws\n",
        "ascore= 4.5 cscore= 4.9"
       ]
      },
      {
       "output_type": "stream",
       "stream": "stdout",
       "text": [
        "\n",
        "Dolores Claiborne\n",
        "ascore= 4.05 cscore= 4.1"
       ]
      },
      {
       "output_type": "stream",
       "stream": "stdout",
       "text": [
        "\n",
        "In Her Shoes\n",
        "ascore= 3.3 cscore= 3.75"
       ]
      },
      {
       "output_type": "stream",
       "stream": "stdout",
       "text": [
        "\n",
        "The Dark Half\n",
        "ascore= 1.85 cscore= 3.05"
       ]
      },
      {
       "output_type": "stream",
       "stream": "stdout",
       "text": [
        "\n",
        "Black Hawk Down\n",
        "ascore= 4.4 cscore= 3.8"
       ]
      },
      {
       "output_type": "stream",
       "stream": "stdout",
       "text": [
        "\n",
        "Elephant Man\n",
        "ascore= 5.0 cscore= -1"
       ]
      },
      {
       "output_type": "stream",
       "stream": "stdout",
       "text": [
        "\n",
        "Q & A\n",
        "ascore= 3.7 cscore= 4.4"
       ]
      },
      {
       "output_type": "stream",
       "stream": "stdout",
       "text": [
        "\n",
        "New Moon (The Twilight Saga: The Official Illustrated Movie Companion, #2)\n",
        "ascore= 3.05 cscore= 1.4"
       ]
      },
      {
       "output_type": "stream",
       "stream": "stdout",
       "text": [
        "\n",
        "The Hunger Games\n",
        "ascore= 4.05 cscore= 4.2"
       ]
      },
      {
       "output_type": "stream",
       "stream": "stdout",
       "text": [
        "\n",
        "\u00d9\u008a\u00d9\u0088\u00d9\u0085",
        "\u00d9\u008a\u00d8\u00a7\u00d8\u00aa \u00d9\u0086\u00d8\u00a7\u00d8\u00a6\u00d8\u00a8 \u00d9\u0081\u00d9\u0089 \u00d8\u00a7\u00d9\u0084\u00d8\u00a3\u00d8\u00b1\u00d9\u008a\u00d8\u00a7\u00d9\u0081\n",
        "ascore= -1 cscore= -1"
       ]
      },
      {
       "output_type": "stream",
       "stream": "stdout",
       "text": [
        "\n",
        "The Spectacular Now\n",
        "ascore= 3.85 cscore= 4.65"
       ]
      },
      {
       "output_type": "stream",
       "stream": "stdout",
       "text": [
        "\n",
        "300\n",
        "ascore= 4.45 cscore= 3.0"
       ]
      },
      {
       "output_type": "stream",
       "stream": "stdout",
       "text": [
        "\n",
        "The Divergent Series 2-Book Collection (Divergent, #1-2)\n",
        "ascore= -1 cscore= -1"
       ]
      },
      {
       "output_type": "stream",
       "stream": "stdout",
       "text": [
        "\n",
        "Psycho\n",
        "ascore= 4.7 cscore= 4.8"
       ]
      },
      {
       "output_type": "stream",
       "stream": "stdout",
       "text": [
        "\n",
        "Twilight Director's Notebook \n",
        "ascore= -1 cscore= -1"
       ]
      },
      {
       "output_type": "stream",
       "stream": "stdout",
       "text": [
        "\n",
        "What's Eating Gilbert Grape\n",
        "ascore= 4.45 cscore= 4.45"
       ]
      },
      {
       "output_type": "stream",
       "stream": "stdout",
       "text": [
        "\n",
        "Presumed Innocent (Kindle County Legal Thriller, #1)\n",
        "ascore= 3.3 cscore= 4.25"
       ]
      },
      {
       "output_type": "stream",
       "stream": "stdout",
       "text": [
        "\n",
        "Struck By Lightning\n",
        "ascore= 2.65 cscore= 1.4"
       ]
      },
      {
       "output_type": "stream",
       "stream": "stdout",
       "text": [
        "\n",
        "If Chins Could Kill\n",
        "ascore= -1 cscore= -1"
       ]
      },
      {
       "output_type": "stream",
       "stream": "stdout",
       "text": [
        "\n",
        "Dead Poets Society\n",
        "ascore= 4.6 cscore= 4.25"
       ]
      },
      {
       "output_type": "stream",
       "stream": "stdout",
       "text": [
        "\n",
        "Jarhead\n",
        "ascore= 3.4 cscore= 3.05"
       ]
      },
      {
       "output_type": "stream",
       "stream": "stdout",
       "text": [
        "\n",
        "Zorro\n",
        "ascore= 3.4 cscore= -1"
       ]
      },
      {
       "output_type": "stream",
       "stream": "stdout",
       "text": [
        "\n",
        "The Harry Potter trilogy (Harry Potter, #1-3)\n",
        "ascore= -1 cscore= -1"
       ]
      },
      {
       "output_type": "stream",
       "stream": "stdout",
       "text": [
        "\n",
        "The Bounty Mutiny\n",
        "ascore= 4.15 cscore= 4.7"
       ]
      },
      {
       "output_type": "stream",
       "stream": "stdout",
       "text": [
        "\n",
        "The Great Escape\n",
        "ascore= 4.75 cscore= 4.65"
       ]
      },
      {
       "output_type": "stream",
       "stream": "stdout",
       "text": [
        "\n",
        "Bambi\n",
        "ascore= 3.6 cscore= 4.55"
       ]
      },
      {
       "output_type": "stream",
       "stream": "stdout",
       "text": [
        "\n",
        "D\u00c3\u00a9sir\u00c3\u00a9e\n",
        "ascore= -1 cscore= -1"
       ]
      },
      {
       "output_type": "stream",
       "stream": "stdout",
       "text": [
        "\n",
        "I Know What You Did Last Summer\n",
        "ascore= 2.05 cscore= 1.8"
       ]
      },
      {
       "output_type": "stream",
       "stream": "stdout",
       "text": [
        "\n"
       ]
      }
     ],
     "prompt_number": 132
    },
    {
     "cell_type": "code",
     "collapsed": false,
     "input": [
      "ascorelistseries = pd.Series(ascorelist, index=movieindex)"
     ],
     "language": "python",
     "metadata": {},
     "outputs": [],
     "prompt_number": 133
    },
    {
     "cell_type": "code",
     "collapsed": false,
     "input": [
      "cscorelistseries = pd.Series(cscorelist, index=movieindex)"
     ],
     "language": "python",
     "metadata": {},
     "outputs": [],
     "prompt_number": 134
    },
    {
     "cell_type": "code",
     "collapsed": false,
     "input": [
      "dfmovieratings = dfmovies[['name', 'year', 'rating','review_count']]\n",
      "dfmovieratings['critic_score'] = cscorelistseries\n",
      "dfmovieratings['audience_score'] = ascorelistseries\n",
      "\n",
      "dfmovieratings"
     ],
     "language": "python",
     "metadata": {},
     "outputs": [
      {
       "html": [
        "<div style=\"max-height:1000px;max-width:1500px;overflow:auto;\">\n",
        "<table border=\"1\" class=\"dataframe\">\n",
        "  <thead>\n",
        "    <tr style=\"text-align: right;\">\n",
        "      <th></th>\n",
        "      <th>name</th>\n",
        "      <th>year</th>\n",
        "      <th>rating</th>\n",
        "      <th>review_count</th>\n",
        "      <th>critic_score</th>\n",
        "      <th>audience_score</th>\n",
        "    </tr>\n",
        "  </thead>\n",
        "  <tbody>\n",
        "    <tr>\n",
        "      <th>40  </th>\n",
        "      <td>                               Water for Elephants</td>\n",
        "      <td> 2006</td>\n",
        "      <td> 4.05</td>\n",
        "      <td> 50663</td>\n",
        "      <td> 3.00</td>\n",
        "      <td> 3.50</td>\n",
        "    </tr>\n",
        "    <tr>\n",
        "      <th>97  </th>\n",
        "      <td>                           The Secret Life of Bees</td>\n",
        "      <td> 2001</td>\n",
        "      <td> 3.96</td>\n",
        "      <td> 22248</td>\n",
        "      <td> 2.90</td>\n",
        "      <td> 3.90</td>\n",
        "    </tr>\n",
        "    <tr>\n",
        "      <th>262 </th>\n",
        "      <td>                             The Cider House Rules</td>\n",
        "      <td> 1985</td>\n",
        "      <td> 4.06</td>\n",
        "      <td>  2429</td>\n",
        "      <td> 3.55</td>\n",
        "      <td> 3.90</td>\n",
        "    </tr>\n",
        "    <tr>\n",
        "      <th>306 </th>\n",
        "      <td>                                    The Green Mile</td>\n",
        "      <td> 1996</td>\n",
        "      <td> 4.38</td>\n",
        "      <td>  3083</td>\n",
        "      <td> 4.00</td>\n",
        "      <td> 4.70</td>\n",
        "    </tr>\n",
        "    <tr>\n",
        "      <th>575 </th>\n",
        "      <td>                               Message in a Bottle</td>\n",
        "      <td> 1998</td>\n",
        "      <td> 3.91</td>\n",
        "      <td>  2980</td>\n",
        "      <td> 1.60</td>\n",
        "      <td> 3.35</td>\n",
        "    </tr>\n",
        "    <tr>\n",
        "      <th>697 </th>\n",
        "      <td>                   Forrest Gump (Forrest Gump, #1)</td>\n",
        "      <td> 1986</td>\n",
        "      <td> 3.97</td>\n",
        "      <td>  1118</td>\n",
        "      <td> 3.55</td>\n",
        "      <td> 4.75</td>\n",
        "    </tr>\n",
        "    <tr>\n",
        "      <th>865 </th>\n",
        "      <td>                                Nights in Rodanthe</td>\n",
        "      <td> 2002</td>\n",
        "      <td> 3.79</td>\n",
        "      <td>  3364</td>\n",
        "      <td> 1.50</td>\n",
        "      <td> 2.60</td>\n",
        "    </tr>\n",
        "    <tr>\n",
        "      <th>1035</th>\n",
        "      <td>                                Something Borrowed</td>\n",
        "      <td> 2004</td>\n",
        "      <td> 3.79</td>\n",
        "      <td> 10360</td>\n",
        "      <td> 0.75</td>\n",
        "      <td> 2.40</td>\n",
        "    </tr>\n",
        "    <tr>\n",
        "      <th>1071</th>\n",
        "      <td>                                 The Pelican Brief</td>\n",
        "      <td> 1992</td>\n",
        "      <td> 3.89</td>\n",
        "      <td>  1475</td>\n",
        "      <td> 2.60</td>\n",
        "      <td> 3.05</td>\n",
        "    </tr>\n",
        "    <tr>\n",
        "      <th>1113</th>\n",
        "      <td>                                              Jaws</td>\n",
        "      <td> 1973</td>\n",
        "      <td> 3.93</td>\n",
        "      <td>  1332</td>\n",
        "      <td> 4.90</td>\n",
        "      <td> 4.50</td>\n",
        "    </tr>\n",
        "    <tr>\n",
        "      <th>1136</th>\n",
        "      <td>                                 Dolores Claiborne</td>\n",
        "      <td> 1992</td>\n",
        "      <td> 3.73</td>\n",
        "      <td>  1004</td>\n",
        "      <td> 4.10</td>\n",
        "      <td> 4.05</td>\n",
        "    </tr>\n",
        "    <tr>\n",
        "      <th>2102</th>\n",
        "      <td>                                      In Her Shoes</td>\n",
        "      <td> 2002</td>\n",
        "      <td> 3.74</td>\n",
        "      <td>  2203</td>\n",
        "      <td> 3.75</td>\n",
        "      <td> 3.30</td>\n",
        "    </tr>\n",
        "    <tr>\n",
        "      <th>2571</th>\n",
        "      <td>                                     The Dark Half</td>\n",
        "      <td> 1989</td>\n",
        "      <td> 3.69</td>\n",
        "      <td>   870</td>\n",
        "      <td> 3.05</td>\n",
        "      <td> 1.85</td>\n",
        "    </tr>\n",
        "    <tr>\n",
        "      <th>3157</th>\n",
        "      <td>                                   Black Hawk Down</td>\n",
        "      <td> 1999</td>\n",
        "      <td> 4.25</td>\n",
        "      <td>   922</td>\n",
        "      <td> 3.80</td>\n",
        "      <td> 4.40</td>\n",
        "    </tr>\n",
        "    <tr>\n",
        "      <th>3178</th>\n",
        "      <td>                                      Elephant Man</td>\n",
        "      <td> 1980</td>\n",
        "      <td> 3.86</td>\n",
        "      <td>    47</td>\n",
        "      <td>-1.00</td>\n",
        "      <td> 5.00</td>\n",
        "    </tr>\n",
        "    <tr>\n",
        "      <th>3197</th>\n",
        "      <td>                                             Q &amp; A</td>\n",
        "      <td> 2000</td>\n",
        "      <td> 3.97</td>\n",
        "      <td>  2018</td>\n",
        "      <td> 4.40</td>\n",
        "      <td> 3.70</td>\n",
        "    </tr>\n",
        "    <tr>\n",
        "      <th>3449</th>\n",
        "      <td> New Moon (The Twilight Saga: The Official Illu...</td>\n",
        "      <td> 2009</td>\n",
        "      <td> 4.30</td>\n",
        "      <td>   156</td>\n",
        "      <td> 1.40</td>\n",
        "      <td> 3.05</td>\n",
        "    </tr>\n",
        "    <tr>\n",
        "      <th>3452</th>\n",
        "      <td>                                  The Hunger Games</td>\n",
        "      <td> 2012</td>\n",
        "      <td> 4.52</td>\n",
        "      <td>   339</td>\n",
        "      <td> 4.20</td>\n",
        "      <td> 4.05</td>\n",
        "    </tr>\n",
        "    <tr>\n",
        "      <th>3814</th>\n",
        "      <td>         \u00d9\u008a\u00d9\u0088\u00d9\u0085",
        "\u00d9\u008a\u00d8\u00a7\u00d8\u00aa \u00d9\u0086\u00d8\u00a7\u00d8\u00a6\u00d8\u00a8 \u00d9\u0081\u00d9\u0089 \u00d8\u00a7\u00d9\u0084\u00d8\u00a3\u00d8\u00b1\u00d9\u008a\u00d8\u00a7\u00d9\u0081</td>\n",
        "      <td> 1937</td>\n",
        "      <td> 3.90</td>\n",
        "      <td>   392</td>\n",
        "      <td>-1.00</td>\n",
        "      <td>-1.00</td>\n",
        "    </tr>\n",
        "    <tr>\n",
        "      <th>3929</th>\n",
        "      <td>                               The Spectacular Now</td>\n",
        "      <td> 2008</td>\n",
        "      <td> 3.55</td>\n",
        "      <td>  2838</td>\n",
        "      <td> 4.65</td>\n",
        "      <td> 3.85</td>\n",
        "    </tr>\n",
        "    <tr>\n",
        "      <th>3971</th>\n",
        "      <td>                                               300</td>\n",
        "      <td> 1998</td>\n",
        "      <td> 3.91</td>\n",
        "      <td>   531</td>\n",
        "      <td> 3.00</td>\n",
        "      <td> 4.45</td>\n",
        "    </tr>\n",
        "    <tr>\n",
        "      <th>4031</th>\n",
        "      <td> The Divergent Series 2-Book Collection (Diverg...</td>\n",
        "      <td> 2012</td>\n",
        "      <td> 4.63</td>\n",
        "      <td>   227</td>\n",
        "      <td>-1.00</td>\n",
        "      <td>-1.00</td>\n",
        "    </tr>\n",
        "    <tr>\n",
        "      <th>4071</th>\n",
        "      <td>                                            Psycho</td>\n",
        "      <td> 1959</td>\n",
        "      <td> 4.03</td>\n",
        "      <td>   606</td>\n",
        "      <td> 4.80</td>\n",
        "      <td> 4.70</td>\n",
        "    </tr>\n",
        "    <tr>\n",
        "      <th>4088</th>\n",
        "      <td>                     Twilight Director's Notebook </td>\n",
        "      <td> 2009</td>\n",
        "      <td> 4.13</td>\n",
        "      <td>   364</td>\n",
        "      <td>-1.00</td>\n",
        "      <td>-1.00</td>\n",
        "    </tr>\n",
        "    <tr>\n",
        "      <th>4201</th>\n",
        "      <td>                       What's Eating Gilbert Grape</td>\n",
        "      <td> 1991</td>\n",
        "      <td> 4.08</td>\n",
        "      <td>   254</td>\n",
        "      <td> 4.45</td>\n",
        "      <td> 4.45</td>\n",
        "    </tr>\n",
        "    <tr>\n",
        "      <th>4293</th>\n",
        "      <td> Presumed Innocent (Kindle County Legal Thrille...</td>\n",
        "      <td> 1986</td>\n",
        "      <td> 4.06</td>\n",
        "      <td>   787</td>\n",
        "      <td> 4.25</td>\n",
        "      <td> 3.30</td>\n",
        "    </tr>\n",
        "    <tr>\n",
        "      <th>4547</th>\n",
        "      <td>                               Struck By Lightning</td>\n",
        "      <td> 2012</td>\n",
        "      <td> 3.91</td>\n",
        "      <td>   965</td>\n",
        "      <td> 1.40</td>\n",
        "      <td> 2.65</td>\n",
        "    </tr>\n",
        "    <tr>\n",
        "      <th>4668</th>\n",
        "      <td>                               If Chins Could Kill</td>\n",
        "      <td> 2001</td>\n",
        "      <td> 4.01</td>\n",
        "      <td>   532</td>\n",
        "      <td>-1.00</td>\n",
        "      <td>-1.00</td>\n",
        "    </tr>\n",
        "    <tr>\n",
        "      <th>4671</th>\n",
        "      <td>                                Dead Poets Society</td>\n",
        "      <td> 1989</td>\n",
        "      <td> 4.15</td>\n",
        "      <td>   364</td>\n",
        "      <td> 4.25</td>\n",
        "      <td> 4.60</td>\n",
        "    </tr>\n",
        "    <tr>\n",
        "      <th>4780</th>\n",
        "      <td>                                           Jarhead</td>\n",
        "      <td> 2003</td>\n",
        "      <td> 3.59</td>\n",
        "      <td>   437</td>\n",
        "      <td> 3.05</td>\n",
        "      <td> 3.40</td>\n",
        "    </tr>\n",
        "    <tr>\n",
        "      <th>5031</th>\n",
        "      <td>                                             Zorro</td>\n",
        "      <td> 2005</td>\n",
        "      <td> 3.73</td>\n",
        "      <td>  1120</td>\n",
        "      <td>-1.00</td>\n",
        "      <td> 3.40</td>\n",
        "    </tr>\n",
        "    <tr>\n",
        "      <th>5184</th>\n",
        "      <td>     The Harry Potter trilogy (Harry Potter, #1-3)</td>\n",
        "      <td> 1999</td>\n",
        "      <td> 4.59</td>\n",
        "      <td>   124</td>\n",
        "      <td>-1.00</td>\n",
        "      <td>-1.00</td>\n",
        "    </tr>\n",
        "    <tr>\n",
        "      <th>5240</th>\n",
        "      <td>                                 The Bounty Mutiny</td>\n",
        "      <td> 1790</td>\n",
        "      <td> 3.80</td>\n",
        "      <td>    50</td>\n",
        "      <td> 4.70</td>\n",
        "      <td> 4.15</td>\n",
        "    </tr>\n",
        "    <tr>\n",
        "      <th>5284</th>\n",
        "      <td>                                  The Great Escape</td>\n",
        "      <td> 1950</td>\n",
        "      <td> 4.23</td>\n",
        "      <td>   143</td>\n",
        "      <td> 4.65</td>\n",
        "      <td> 4.75</td>\n",
        "    </tr>\n",
        "    <tr>\n",
        "      <th>5732</th>\n",
        "      <td>                                             Bambi</td>\n",
        "      <td> 1923</td>\n",
        "      <td> 4.08</td>\n",
        "      <td>   305</td>\n",
        "      <td> 4.55</td>\n",
        "      <td> 3.60</td>\n",
        "    </tr>\n",
        "    <tr>\n",
        "      <th>5798</th>\n",
        "      <td>                                         D\u00c3\u00a9sir\u00c3\u00a9e</td>\n",
        "      <td> 1951</td>\n",
        "      <td> 3.94</td>\n",
        "      <td>   357</td>\n",
        "      <td>-1.00</td>\n",
        "      <td>-1.00</td>\n",
        "    </tr>\n",
        "    <tr>\n",
        "      <th>5857</th>\n",
        "      <td>                   I Know What You Did Last Summer</td>\n",
        "      <td> 1973</td>\n",
        "      <td> 3.50</td>\n",
        "      <td>   516</td>\n",
        "      <td> 1.80</td>\n",
        "      <td> 2.05</td>\n",
        "    </tr>\n",
        "  </tbody>\n",
        "</table>\n",
        "</div>"
       ],
       "metadata": {},
       "output_type": "pyout",
       "prompt_number": 135,
       "text": [
        "                                                   name  year  rating  review_count  critic_score  audience_score\n",
        "40                                  Water for Elephants  2006    4.05         50663          3.00            3.50\n",
        "97                              The Secret Life of Bees  2001    3.96         22248          2.90            3.90\n",
        "262                               The Cider House Rules  1985    4.06          2429          3.55            3.90\n",
        "306                                      The Green Mile  1996    4.38          3083          4.00            4.70\n",
        "575                                 Message in a Bottle  1998    3.91          2980          1.60            3.35\n",
        "697                     Forrest Gump (Forrest Gump, #1)  1986    3.97          1118          3.55            4.75\n",
        "865                                  Nights in Rodanthe  2002    3.79          3364          1.50            2.60\n",
        "1035                                 Something Borrowed  2004    3.79         10360          0.75            2.40\n",
        "1071                                  The Pelican Brief  1992    3.89          1475          2.60            3.05\n",
        "1113                                               Jaws  1973    3.93          1332          4.90            4.50\n",
        "1136                                  Dolores Claiborne  1992    3.73          1004          4.10            4.05\n",
        "2102                                       In Her Shoes  2002    3.74          2203          3.75            3.30\n",
        "2571                                      The Dark Half  1989    3.69           870          3.05            1.85\n",
        "3157                                    Black Hawk Down  1999    4.25           922          3.80            4.40\n",
        "3178                                       Elephant Man  1980    3.86            47         -1.00            5.00\n",
        "3197                                              Q & A  2000    3.97          2018          4.40            3.70\n",
        "3449  New Moon (The Twilight Saga: The Official Illu...  2009    4.30           156          1.40            3.05\n",
        "3452                                   The Hunger Games  2012    4.52           339          4.20            4.05\n",
        "3814          \u00d9\u008a\u00d9\u0088\u00d9\u0085",
        "\u00d9\u008a\u00d8\u00a7\u00d8\u00aa \u00d9\u0086\u00d8\u00a7\u00d8\u00a6\u00d8\u00a8 \u00d9\u0081\u00d9\u0089 \u00d8\u00a7\u00d9\u0084\u00d8\u00a3\u00d8\u00b1\u00d9\u008a\u00d8\u00a7\u00d9\u0081  1937    3.90           392         -1.00           -1.00\n",
        "3929                                The Spectacular Now  2008    3.55          2838          4.65            3.85\n",
        "3971                                                300  1998    3.91           531          3.00            4.45\n",
        "4031  The Divergent Series 2-Book Collection (Diverg...  2012    4.63           227         -1.00           -1.00\n",
        "4071                                             Psycho  1959    4.03           606          4.80            4.70\n",
        "4088                      Twilight Director's Notebook   2009    4.13           364         -1.00           -1.00\n",
        "4201                        What's Eating Gilbert Grape  1991    4.08           254          4.45            4.45\n",
        "4293  Presumed Innocent (Kindle County Legal Thrille...  1986    4.06           787          4.25            3.30\n",
        "4547                                Struck By Lightning  2012    3.91           965          1.40            2.65\n",
        "4668                                If Chins Could Kill  2001    4.01           532         -1.00           -1.00\n",
        "4671                                 Dead Poets Society  1989    4.15           364          4.25            4.60\n",
        "4780                                            Jarhead  2003    3.59           437          3.05            3.40\n",
        "5031                                              Zorro  2005    3.73          1120         -1.00            3.40\n",
        "5184      The Harry Potter trilogy (Harry Potter, #1-3)  1999    4.59           124         -1.00           -1.00\n",
        "5240                                  The Bounty Mutiny  1790    3.80            50          4.70            4.15\n",
        "5284                                   The Great Escape  1950    4.23           143          4.65            4.75\n",
        "5732                                              Bambi  1923    4.08           305          4.55            3.60\n",
        "5798                                          D\u00c3\u00a9sir\u00c3\u00a9e  1951    3.94           357         -1.00           -1.00\n",
        "5857                    I Know What You Did Last Summer  1973    3.50           516          1.80            2.05"
       ]
      }
     ],
     "prompt_number": 135
    },
    {
     "cell_type": "code",
     "collapsed": false,
     "input": [
      "print dfmovieratings.shape\n",
      "dfnew=dfmovieratings[(dfmovieratings.audience_score != -1) & (dfmovieratings.critic_score != -1)]\n",
      "print dfnew.shape"
     ],
     "language": "python",
     "metadata": {},
     "outputs": [
      {
       "output_type": "stream",
       "stream": "stdout",
       "text": [
        "(37, 6)\n",
        "(29, 6)\n"
       ]
      }
     ],
     "prompt_number": 157
    },
    {
     "cell_type": "code",
     "collapsed": false,
     "input": [
      "#vals=df.rating[df.rating.notnull()].values\n",
      "ratingvals=dfnew.rating.values\n",
      "\n",
      "print type(vals)\n",
      "ratingvals"
     ],
     "language": "python",
     "metadata": {},
     "outputs": [
      {
       "output_type": "stream",
       "stream": "stdout",
       "text": [
        "<type 'numpy.ndarray'>\n"
       ]
      },
      {
       "metadata": {},
       "output_type": "pyout",
       "prompt_number": 158,
       "text": [
        "array([ 4.05,  3.96,  4.06,  4.38,  3.91,  3.97,  3.79,  3.79,  3.89,\n",
        "        3.93,  3.73,  3.74,  3.69,  4.25,  3.97,  4.3 ,  4.52,  3.55,\n",
        "        3.91,  4.03,  4.08,  4.06,  3.91,  4.15,  3.59,  3.8 ,  4.23,\n",
        "        4.08,  3.5 ])"
       ]
      }
     ],
     "prompt_number": 158
    },
    {
     "cell_type": "code",
     "collapsed": false,
     "input": [
      "#vals=df.rating[df.rating.notnull()].values\n",
      "ascorevals=dfnew.audience_score.values\n",
      "\n",
      "\n",
      "ascorevals"
     ],
     "language": "python",
     "metadata": {},
     "outputs": [
      {
       "metadata": {},
       "output_type": "pyout",
       "prompt_number": 160,
       "text": [
        "array([ 3.5 ,  3.9 ,  3.9 ,  4.7 ,  3.35,  4.75,  2.6 ,  2.4 ,  3.05,\n",
        "        4.5 ,  4.05,  3.3 ,  1.85,  4.4 ,  3.7 ,  3.05,  4.05,  3.85,\n",
        "        4.45,  4.7 ,  4.45,  3.3 ,  2.65,  4.6 ,  3.4 ,  4.15,  4.75,\n",
        "        3.6 ,  2.05])"
       ]
      }
     ],
     "prompt_number": 160
    },
    {
     "cell_type": "code",
     "collapsed": false,
     "input": [
      "cscorevals=dfnew.critic_score.values\n",
      "\n",
      "cscorevals"
     ],
     "language": "python",
     "metadata": {},
     "outputs": [
      {
       "metadata": {},
       "output_type": "pyout",
       "prompt_number": 161,
       "text": [
        "array([ 3.  ,  2.9 ,  3.55,  4.  ,  1.6 ,  3.55,  1.5 ,  0.75,  2.6 ,\n",
        "        4.9 ,  4.1 ,  3.75,  3.05,  3.8 ,  4.4 ,  1.4 ,  4.2 ,  4.65,\n",
        "        3.  ,  4.8 ,  4.45,  4.25,  1.4 ,  4.25,  3.05,  4.7 ,  4.65,\n",
        "        4.55,  1.8 ])"
       ]
      }
     ],
     "prompt_number": 161
    },
    {
     "cell_type": "code",
     "collapsed": false,
     "input": [
      "plt.hist(ascorevals, bins=15)"
     ],
     "language": "python",
     "metadata": {},
     "outputs": [
      {
       "metadata": {},
       "output_type": "pyout",
       "prompt_number": 162,
       "text": [
        "(array([ 1.,  1.,  1.,  1.,  1.,  0.,  2.,  3.,  2.,  2.,  3.,  3.,  0.,\n",
        "         4.,  5.]),\n",
        " array([ 1.85      ,  2.04333333,  2.23666667,  2.43      ,  2.62333333,\n",
        "         2.81666667,  3.01      ,  3.20333333,  3.39666667,  3.59      ,\n",
        "         3.78333333,  3.97666667,  4.17      ,  4.36333333,  4.55666667,\n",
        "         4.75      ]),\n",
        " <a list of 15 Patch objects>)"
       ]
      },
      {
       "metadata": {},
       "output_type": "display_data",
       "png": "[encoded data removed]",
       "text": [
        "<matplotlib.figure.Figure at 0x110c70f0>"
       ]
      }
     ],
     "prompt_number": 162
    },
    {
     "cell_type": "code",
     "collapsed": false,
     "input": [
      "plt.hist(cscorevals, bins=15)"
     ],
     "language": "python",
     "metadata": {},
     "outputs": [
      {
       "metadata": {},
       "output_type": "pyout",
       "prompt_number": 163,
       "text": [
        "(array([ 1.,  0.,  3.,  2.,  0.,  0.,  1.,  1.,  4.,  0.,  3.,  2.,  4.,\n",
        "         3.,  5.]),\n",
        " array([ 0.75      ,  1.02666667,  1.30333333,  1.58      ,  1.85666667,\n",
        "         2.13333333,  2.41      ,  2.68666667,  2.96333333,  3.24      ,\n",
        "         3.51666667,  3.79333333,  4.07      ,  4.34666667,  4.62333333,\n",
        "         4.9       ]),\n",
        " <a list of 15 Patch objects>)"
       ]
      },
      {
       "metadata": {},
       "output_type": "display_data",
       "png": "[encoded data removed]",
       "text": [
        "<matplotlib.figure.Figure at 0x12234d90>"
       ]
      }
     ],
     "prompt_number": 163
    },
    {
     "cell_type": "code",
     "collapsed": false,
     "input": [
      "plt.hist(ratingvals, bins=15)"
     ],
     "language": "python",
     "metadata": {},
     "outputs": [
      {
       "metadata": {},
       "output_type": "pyout",
       "prompt_number": 164,
       "text": [
        "(array([ 2.,  1.,  1.,  2.,  3.,  1.,  7.,  1.,  5.,  1.,  1.,  2.,  1.,\n",
        "         0.,  1.]),\n",
        " array([ 3.5  ,  3.568,  3.636,  3.704,  3.772,  3.84 ,  3.908,  3.976,\n",
        "         4.044,  4.112,  4.18 ,  4.248,  4.316,  4.384,  4.452,  4.52 ]),\n",
        " <a list of 15 Patch objects>)"
       ]
      },
      {
       "metadata": {},
       "output_type": "display_data",
       "png": "[encoded data removed]",
       "text": [
        "<matplotlib.figure.Figure at 0x12a2b810>"
       ]
      }
     ],
     "prompt_number": 164
    },
    {
     "cell_type": "code",
     "collapsed": false,
     "input": [
      "plt.scatter(ratingvals, cscorevals, lw=0, alpha=.5)\n",
      "\n",
      "plt.xlabel('book rating')\n",
      "plt.ylabel('audience rating')\n"
     ],
     "language": "python",
     "metadata": {},
     "outputs": [
      {
       "metadata": {},
       "output_type": "pyout",
       "prompt_number": 168,
       "text": [
        "<matplotlib.text.Text at 0x12d0de70>"
       ]
      },
      {
       "metadata": {},
       "output_type": "display_data",
       "png": "[encoded data removed]",
       "text": [
        "<matplotlib.figure.Figure at 0x1303e610>"
       ]
      }
     ],
     "prompt_number": 168
    },
    {
     "cell_type": "code",
     "collapsed": false,
     "input": [],
     "language": "python",
     "metadata": {},
     "outputs": []
    },
    {
     "cell_type": "code",
     "collapsed": false,
     "input": [
      "dfg=df[genres].sum()\n",
      "print type(dfg)\n",
      "dfg.sort(ascending=False)\n",
      "dfg"
     ],
     "language": "python",
     "metadata": {},
     "outputs": [
      {
       "output_type": "stream",
       "stream": "stdout",
       "text": [
        "<class 'pandas.core.series.Series'>\n"
       ]
      },
      {
       "metadata": {},
       "output_type": "pyout",
       "prompt_number": 20,
       "text": [
        "genre:fiction               4362\n",
        "genre:fantasy               2742\n",
        "genre:romance               2228\n",
        "genre:young-adult           2132\n",
        "genre:literature            1609\n",
        "genre:classics              1584\n",
        "genre:novels                1487\n",
        "genre:contemporary          1309\n",
        "genre:adult                 1211\n",
        "genre:paranormal            1201\n",
        "genre:adventure             1177\n",
        "genre:historical-fiction    1177\n",
        "genre:mystery               1031\n",
        "genre:science-fiction        981\n",
        "genre:book-club              919\n",
        "...\n",
        "genre:technical              1\n",
        "genre:food-writing           1\n",
        "genre:classical-studies      1\n",
        "genre:interracial-romance    1\n",
        "genre:satanism               1\n",
        "genre:crafts                 1\n",
        "genre:crafty                 1\n",
        "genre:horse-racing           1\n",
        "genre:culinary               1\n",
        "genre:cults                  1\n",
        "genre:holland                1\n",
        "genre:history-of-science     1\n",
        "genre:cycling                1\n",
        "genre:scripture              1\n",
        "genre:fat-studies            1\n",
        "Length: 538, dtype: int64"
       ]
      }
     ],
     "prompt_number": 20
    },
    {
     "cell_type": "code",
     "collapsed": false,
     "input": [
      "genre_count = df[genres].sum(axis=1) \n",
      "genre_count"
     ],
     "language": "python",
     "metadata": {},
     "outputs": [
      {
       "metadata": {},
       "output_type": "pyout",
       "prompt_number": 21,
       "text": [
        "0     11\n",
        "1      7\n",
        "2     10\n",
        "3     11\n",
        "4     12\n",
        "5      9\n",
        "6     10\n",
        "7     11\n",
        "8     11\n",
        "9      7\n",
        "10    11\n",
        "11    10\n",
        "12    11\n",
        "13    11\n",
        "14    11\n",
        "...\n",
        "5978     6\n",
        "5979    12\n",
        "5980    10\n",
        "5981     6\n",
        "5982     4\n",
        "5983    12\n",
        "5984     9\n",
        "5985    10\n",
        "5986     5\n",
        "5987     9\n",
        "5988    10\n",
        "5989    11\n",
        "5990     9\n",
        "5991     6\n",
        "5992    12\n",
        "Length: 5993, dtype: int64"
       ]
      }
     ],
     "prompt_number": 21
    },
    {
     "cell_type": "code",
     "collapsed": false,
     "input": [
      "df[['name']].join(pd.DataFrame(genre_count)).sort(columns=0, ascending=False)"
     ],
     "language": "python",
     "metadata": {},
     "outputs": [
      {
       "html": [
        "<div style=\"max-height:1000px;max-width:1500px;overflow:auto;\">\n",
        "<table border=\"1\" class=\"dataframe\">\n",
        "  <thead>\n",
        "    <tr style=\"text-align: right;\">\n",
        "      <th></th>\n",
        "      <th>name</th>\n",
        "      <th>0</th>\n",
        "    </tr>\n",
        "  </thead>\n",
        "  <tbody>\n",
        "    <tr>\n",
        "      <th>97  </th>\n",
        "      <td>                           The Secret Life of Bees</td>\n",
        "      <td> 15</td>\n",
        "    </tr>\n",
        "    <tr>\n",
        "      <th>4294</th>\n",
        "      <td>               Price of a Kiss (Forbidden Men, #1)</td>\n",
        "      <td> 15</td>\n",
        "    </tr>\n",
        "    <tr>\n",
        "      <th>4398</th>\n",
        "      <td>                                      Eating Smoke</td>\n",
        "      <td> 15</td>\n",
        "    </tr>\n",
        "    <tr>\n",
        "      <th>4088</th>\n",
        "      <td>                     Twilight Director's Notebook </td>\n",
        "      <td> 14</td>\n",
        "    </tr>\n",
        "    <tr>\n",
        "      <th>3764</th>\n",
        "      <td>                                       Underground</td>\n",
        "      <td> 14</td>\n",
        "    </tr>\n",
        "    <tr>\n",
        "      <th>3473</th>\n",
        "      <td>                                   The Anti-Christ</td>\n",
        "      <td> 14</td>\n",
        "    </tr>\n",
        "    <tr>\n",
        "      <th>239 </th>\n",
        "      <td> The Guernsey Literary and Potato Peel Pie Society</td>\n",
        "      <td> 14</td>\n",
        "    </tr>\n",
        "    <tr>\n",
        "      <th>1705</th>\n",
        "      <td>                           Lies My Teacher Told Me</td>\n",
        "      <td> 14</td>\n",
        "    </tr>\n",
        "    <tr>\n",
        "      <th>3051</th>\n",
        "      <td>                           The Coldest Winter Ever</td>\n",
        "      <td> 14</td>\n",
        "    </tr>\n",
        "    <tr>\n",
        "      <th>3550</th>\n",
        "      <td>                                 This Charming Man</td>\n",
        "      <td> 14</td>\n",
        "    </tr>\n",
        "    <tr>\n",
        "      <th>264 </th>\n",
        "      <td>                                            Walden</td>\n",
        "      <td> 14</td>\n",
        "    </tr>\n",
        "    <tr>\n",
        "      <th>2139</th>\n",
        "      <td>                              Under the Tuscan Sun</td>\n",
        "      <td> 14</td>\n",
        "    </tr>\n",
        "    <tr>\n",
        "      <th>4522</th>\n",
        "      <td>                               A Lover's Discourse</td>\n",
        "      <td> 14</td>\n",
        "    </tr>\n",
        "    <tr>\n",
        "      <th>3788</th>\n",
        "      <td>                      The Professor and the Madman</td>\n",
        "      <td> 14</td>\n",
        "    </tr>\n",
        "    <tr>\n",
        "      <th>5747</th>\n",
        "      <td>                                             Beast</td>\n",
        "      <td> 14</td>\n",
        "    </tr>\n",
        "    <tr>\n",
        "      <th>3452</th>\n",
        "      <td>                                  The Hunger Games</td>\n",
        "      <td> 14</td>\n",
        "    </tr>\n",
        "    <tr>\n",
        "      <th>3866</th>\n",
        "      <td>                                     Illuminations</td>\n",
        "      <td> 14</td>\n",
        "    </tr>\n",
        "    <tr>\n",
        "      <th>3878</th>\n",
        "      <td>                    Tractatus Logico-Philosophicus</td>\n",
        "      <td> 14</td>\n",
        "    </tr>\n",
        "    <tr>\n",
        "      <th>4055</th>\n",
        "      <td>                                            Sheila</td>\n",
        "      <td> 14</td>\n",
        "    </tr>\n",
        "    <tr>\n",
        "      <th>5644</th>\n",
        "      <td>                                      If I Grow Up</td>\n",
        "      <td> 14</td>\n",
        "    </tr>\n",
        "    <tr>\n",
        "      <th>5636</th>\n",
        "      <td>                      Staying Fat for Sarah Byrnes</td>\n",
        "      <td> 14</td>\n",
        "    </tr>\n",
        "    <tr>\n",
        "      <th>1398</th>\n",
        "      <td>                             The Epic of Gilgamesh</td>\n",
        "      <td> 14</td>\n",
        "    </tr>\n",
        "    <tr>\n",
        "      <th>4859</th>\n",
        "      <td>            Married By Morning (The Hathaways, #4)</td>\n",
        "      <td> 14</td>\n",
        "    </tr>\n",
        "    <tr>\n",
        "      <th>5558</th>\n",
        "      <td>                                 Ashes in the Wind</td>\n",
        "      <td> 14</td>\n",
        "    </tr>\n",
        "    <tr>\n",
        "      <th>4884</th>\n",
        "      <td>                                The Flanders Panel</td>\n",
        "      <td> 14</td>\n",
        "    </tr>\n",
        "    <tr>\n",
        "      <th>3348</th>\n",
        "      <td>                              The Paul Street Boys</td>\n",
        "      <td> 14</td>\n",
        "    </tr>\n",
        "    <tr>\n",
        "      <th>3326</th>\n",
        "      <td> We Wish to Inform You That Tomorrow We Will Be...</td>\n",
        "      <td> 14</td>\n",
        "    </tr>\n",
        "    <tr>\n",
        "      <th>5918</th>\n",
        "      <td>                                           Paroles</td>\n",
        "      <td> 14</td>\n",
        "    </tr>\n",
        "    <tr>\n",
        "      <th>2300</th>\n",
        "      <td>                              Memoirs of Cleopatra</td>\n",
        "      <td> 13</td>\n",
        "    </tr>\n",
        "    <tr>\n",
        "      <th>327 </th>\n",
        "      <td>                                           Beowulf</td>\n",
        "      <td> 13</td>\n",
        "    </tr>\n",
        "    <tr>\n",
        "      <th>...</th>\n",
        "      <td>...</td>\n",
        "      <td>...</td>\n",
        "    </tr>\n",
        "    <tr>\n",
        "      <th>5676</th>\n",
        "      <td>                          \u00d8\u00b9\u00d8\u00a7\u00d8\u00a6\u00d8\u00af \u00d8\u00a5\u00d9\u0084\u00d9\u0089 \u00d8\u00ad\u00d9\u008a\u00d9\u0081\u00d8\u00a7</td>\n",
        "      <td>  1</td>\n",
        "    </tr>\n",
        "    <tr>\n",
        "      <th>1951</th>\n",
        "      <td>                              Van Laven Chronicles</td>\n",
        "      <td>  1</td>\n",
        "    </tr>\n",
        "    <tr>\n",
        "      <th>2733</th>\n",
        "      <td>                                     War and Peace</td>\n",
        "      <td>  1</td>\n",
        "    </tr>\n",
        "    <tr>\n",
        "      <th>2648</th>\n",
        "      <td>                       The Keeper (The Keeper, #2)</td>\n",
        "      <td>  1</td>\n",
        "    </tr>\n",
        "    <tr>\n",
        "      <th>1225</th>\n",
        "      <td>                                            Carnal</td>\n",
        "      <td>  1</td>\n",
        "    </tr>\n",
        "    <tr>\n",
        "      <th>5685</th>\n",
        "      <td> Abstraction In Theory - Laws Of Physical Trans...</td>\n",
        "      <td>  1</td>\n",
        "    </tr>\n",
        "    <tr>\n",
        "      <th>3287</th>\n",
        "      <td>                              Messages From Heaven</td>\n",
        "      <td>  1</td>\n",
        "    </tr>\n",
        "    <tr>\n",
        "      <th>4407</th>\n",
        "      <td>                                 Hard Up, Ardon #1</td>\n",
        "      <td>  1</td>\n",
        "    </tr>\n",
        "    <tr>\n",
        "      <th>4402</th>\n",
        "      <td>                                      My Two Cents</td>\n",
        "      <td>  1</td>\n",
        "    </tr>\n",
        "    <tr>\n",
        "      <th>4386</th>\n",
        "      <td> We Got Zombies On The Lawn Again, Ma (Ax Hande...</td>\n",
        "      <td>  1</td>\n",
        "    </tr>\n",
        "    <tr>\n",
        "      <th>5710</th>\n",
        "      <td>                                 American Amaranth</td>\n",
        "      <td>  1</td>\n",
        "    </tr>\n",
        "    <tr>\n",
        "      <th>4384</th>\n",
        "      <td> It's Not What You Think (It's Not What You Thi...</td>\n",
        "      <td>  1</td>\n",
        "    </tr>\n",
        "    <tr>\n",
        "      <th>2034</th>\n",
        "      <td>                                   Happy Halloween</td>\n",
        "      <td>  1</td>\n",
        "    </tr>\n",
        "    <tr>\n",
        "      <th>1752</th>\n",
        "      <td>                   The Day Jesus Rode Into Croydon</td>\n",
        "      <td>  1</td>\n",
        "    </tr>\n",
        "    <tr>\n",
        "      <th>5512</th>\n",
        "      <td>                    The Peace of the Spirit Within</td>\n",
        "      <td>  1</td>\n",
        "    </tr>\n",
        "    <tr>\n",
        "      <th>4381</th>\n",
        "      <td>                             Undying (Undying, #1)</td>\n",
        "      <td>  1</td>\n",
        "    </tr>\n",
        "    <tr>\n",
        "      <th>4380</th>\n",
        "      <td>                                    I am an Island</td>\n",
        "      <td>  1</td>\n",
        "    </tr>\n",
        "    <tr>\n",
        "      <th>1854</th>\n",
        "      <td>                                 Supernatural Hero</td>\n",
        "      <td>  1</td>\n",
        "    </tr>\n",
        "    <tr>\n",
        "      <th>1941</th>\n",
        "      <td>               Meeting With Christ and Other Poems</td>\n",
        "      <td>  1</td>\n",
        "    </tr>\n",
        "    <tr>\n",
        "      <th>5721</th>\n",
        "      <td>                                 Where Is My Home?</td>\n",
        "      <td>  1</td>\n",
        "    </tr>\n",
        "    <tr>\n",
        "      <th>5722</th>\n",
        "      <td>                       The Keeper (The Keeper, #5)</td>\n",
        "      <td>  1</td>\n",
        "    </tr>\n",
        "    <tr>\n",
        "      <th>1942</th>\n",
        "      <td>                            Letters from your soul</td>\n",
        "      <td>  1</td>\n",
        "    </tr>\n",
        "    <tr>\n",
        "      <th>2623</th>\n",
        "      <td>                                In and Out of Step</td>\n",
        "      <td>  1</td>\n",
        "    </tr>\n",
        "    <tr>\n",
        "      <th>3026</th>\n",
        "      <td>                Spook House (Harmony, Indiana, #3)</td>\n",
        "      <td>  1</td>\n",
        "    </tr>\n",
        "    <tr>\n",
        "      <th>3962</th>\n",
        "      <td>                                \u00d8\u00a7\u00d9\u0084\u00d8\u00b7\u00d9\u0086\u00d8\u00b7\u00d9\u0088\u00d8\u00b1\u00d9\u008a\u00d8\u00a9</td>\n",
        "      <td>  1</td>\n",
        "    </tr>\n",
        "    <tr>\n",
        "      <th>5496</th>\n",
        "      <td>                             Fantacia (Voxian, #1)</td>\n",
        "      <td>  1</td>\n",
        "    </tr>\n",
        "    <tr>\n",
        "      <th>1515</th>\n",
        "      <td>                            Crashing Down to Earth</td>\n",
        "      <td>  1</td>\n",
        "    </tr>\n",
        "    <tr>\n",
        "      <th>5494</th>\n",
        "      <td>                                  Syrian Folktales</td>\n",
        "      <td>  1</td>\n",
        "    </tr>\n",
        "    <tr>\n",
        "      <th>5490</th>\n",
        "      <td>             Huey Lambert's Walking Nuclear Circus</td>\n",
        "      <td>  1</td>\n",
        "    </tr>\n",
        "    <tr>\n",
        "      <th>5585</th>\n",
        "      <td>                   Terry Treetop Finds New Friends</td>\n",
        "      <td>  1</td>\n",
        "    </tr>\n",
        "  </tbody>\n",
        "</table>\n",
        "<p>5993 rows \u00d7 2 columns</p>\n",
        "</div>"
       ],
       "metadata": {},
       "output_type": "pyout",
       "prompt_number": 29,
       "text": [
        "                                                   name   0\n",
        "97                              The Secret Life of Bees  15\n",
        "4294                Price of a Kiss (Forbidden Men, #1)  15\n",
        "4398                                       Eating Smoke  15\n",
        "4088                      Twilight Director's Notebook   14\n",
        "3764                                        Underground  14\n",
        "3473                                    The Anti-Christ  14\n",
        "239   The Guernsey Literary and Potato Peel Pie Society  14\n",
        "1705                            Lies My Teacher Told Me  14\n",
        "3051                            The Coldest Winter Ever  14\n",
        "3550                                  This Charming Man  14\n",
        "264                                              Walden  14\n",
        "2139                               Under the Tuscan Sun  14\n",
        "4522                                A Lover's Discourse  14\n",
        "3788                       The Professor and the Madman  14\n",
        "5747                                              Beast  14\n",
        "3452                                   The Hunger Games  14\n",
        "3866                                      Illuminations  14\n",
        "3878                     Tractatus Logico-Philosophicus  14\n",
        "4055                                             Sheila  14\n",
        "5644                                       If I Grow Up  14\n",
        "5636                       Staying Fat for Sarah Byrnes  14\n",
        "1398                              The Epic of Gilgamesh  14\n",
        "4859             Married By Morning (The Hathaways, #4)  14\n",
        "5558                                  Ashes in the Wind  14\n",
        "4884                                 The Flanders Panel  14\n",
        "3348                               The Paul Street Boys  14\n",
        "3326  We Wish to Inform You That Tomorrow We Will Be...  14\n",
        "5918                                            Paroles  14\n",
        "2300                               Memoirs of Cleopatra  13\n",
        "327                                             Beowulf  13\n",
        "...                                                 ...  ..\n",
        "5676                           \u00d8\u00b9\u00d8\u00a7\u00d8\u00a6\u00d8\u00af \u00d8\u00a5\u00d9\u0084\u00d9\u0089 \u00d8\u00ad\u00d9\u008a\u00d9\u0081\u00d8\u00a7   1\n",
        "1951                               Van Laven Chronicles   1\n",
        "2733                                      War and Peace   1\n",
        "2648                        The Keeper (The Keeper, #2)   1\n",
        "1225                                             Carnal   1\n",
        "5685  Abstraction In Theory - Laws Of Physical Trans...   1\n",
        "3287                               Messages From Heaven   1\n",
        "4407                                  Hard Up, Ardon #1   1\n",
        "4402                                       My Two Cents   1\n",
        "4386  We Got Zombies On The Lawn Again, Ma (Ax Hande...   1\n",
        "5710                                  American Amaranth   1\n",
        "4384  It's Not What You Think (It's Not What You Thi...   1\n",
        "2034                                    Happy Halloween   1\n",
        "1752                    The Day Jesus Rode Into Croydon   1\n",
        "5512                     The Peace of the Spirit Within   1\n",
        "4381                              Undying (Undying, #1)   1\n",
        "4380                                     I am an Island   1\n",
        "1854                                  Supernatural Hero   1\n",
        "1941                Meeting With Christ and Other Poems   1\n",
        "5721                                  Where Is My Home?   1\n",
        "5722                        The Keeper (The Keeper, #5)   1\n",
        "1942                             Letters from your soul   1\n",
        "2623                                 In and Out of Step   1\n",
        "3026                 Spook House (Harmony, Indiana, #3)   1\n",
        "3962                                 \u00d8\u00a7\u00d9\u0084\u00d8\u00b7\u00d9\u0086\u00d8\u00b7\u00d9\u0088\u00d8\u00b1\u00d9\u008a\u00d8\u00a9   1\n",
        "5496                              Fantacia (Voxian, #1)   1\n",
        "1515                             Crashing Down to Earth   1\n",
        "5494                                   Syrian Folktales   1\n",
        "5490              Huey Lambert's Walking Nuclear Circus   1\n",
        "5585                    Terry Treetop Finds New Friends   1\n",
        "\n",
        "[5993 rows x 2 columns]"
       ]
      }
     ],
     "prompt_number": 29
    },
    {
     "cell_type": "code",
     "collapsed": false,
     "input": [
      "df.ix[97].genres"
     ],
     "language": "python",
     "metadata": {},
     "outputs": [
      {
       "metadata": {},
       "output_type": "pyout",
       "prompt_number": 32,
       "text": [
        "'american|southern|fiction|book-club|novels|literary-fiction|cultural|african-american|young-adult|high-school|media-tie-in|movies|romance|academic|read-for-school'"
       ]
      }
     ],
     "prompt_number": 32
    },
    {
     "cell_type": "code",
     "collapsed": false,
     "input": [
      "type(df.ix[97])"
     ],
     "language": "python",
     "metadata": {},
     "outputs": [
      {
       "metadata": {},
       "output_type": "pyout",
       "prompt_number": 33,
       "text": [
        "pandas.core.series.Series"
       ]
      }
     ],
     "prompt_number": 33
    },
    {
     "cell_type": "code",
     "collapsed": false,
     "input": [
      "print \"Average book has %0.2f genres\" % genre_count.mean()\n",
      "genre_count.describe()"
     ],
     "language": "python",
     "metadata": {},
     "outputs": [
      {
       "output_type": "stream",
       "stream": "stdout",
       "text": [
        "Average book has 9.83 genres\n"
       ]
      },
      {
       "metadata": {},
       "output_type": "pyout",
       "prompt_number": 34,
       "text": [
        "count    5993.00000\n",
        "mean        9.83464\n",
        "std         2.29802\n",
        "min         1.00000\n",
        "25%        10.00000\n",
        "50%        10.00000\n",
        "75%        11.00000\n",
        "max        15.00000\n",
        "dtype: float64"
       ]
      }
     ],
     "prompt_number": 34
    },
    {
     "cell_type": "code",
     "collapsed": false,
     "input": [
      "genres_wanted=dfg.index[dfg.values> 200]\n",
      "genres_wanted"
     ],
     "language": "python",
     "metadata": {},
     "outputs": [
      {
       "metadata": {},
       "output_type": "pyout",
       "prompt_number": 35,
       "text": [
        "Index([u'genre:fiction', u'genre:fantasy', u'genre:romance', u'genre:young-adult', u'genre:literature', u'genre:classics', u'genre:novels', u'genre:contemporary', u'genre:adult', u'genre:paranormal', u'genre:adventure', u'genre:historical-fiction', u'genre:mystery', u'genre:science-fiction', u'genre:book-club', u'genre:cultural', u'genre:supernatural', u'genre:european-literature', u'genre:magic', u'genre:adult-fiction', u'genre:science-fiction-fantasy', u'genre:childrens', u'genre:urban-fantasy', u'genre:teen', u'genre:paranormal-romance', u'genre:thriller', u'genre:non-fiction', u'genre:humor', u'genre:womens-fiction', u'genre:chick-lit', u'genre:horror', u'genre:american', u'genre:vampires', u'genre:academic', u'genre:literary-fiction', u'genre:british-literature', u'genre:realistic-fiction', u'genre:philosophy', u'genre:suspense', u'genre:drama', u'genre:crime', u'genre:school', u'genre:history', u'genre:middle-grade', u'genre:dystopia', u'genre:contemporary-romance', u'genre:religion', u'genre:biography', u'genre:high-fantasy', u'genre:war', u'genre:juvenile', u'genre:mystery-thriller', u'genre:autobiography', u'genre:memoir', u'genre:funny', u'genre:epic-fantasy', u'genre:short-stories', u'genre:20th-century', u'genre:mythology', u'genre:new-adult'], dtype='object')"
       ]
      }
     ],
     "prompt_number": 35
    },
    {
     "cell_type": "code",
     "collapsed": false,
     "input": [
      "genres_wanted.shape, type(genres_wanted)"
     ],
     "language": "python",
     "metadata": {},
     "outputs": [
      {
       "metadata": {},
       "output_type": "pyout",
       "prompt_number": 36,
       "text": [
        "((60,), pandas.core.index.Index)"
       ]
      }
     ],
     "prompt_number": 36
    },
    {
     "cell_type": "code",
     "collapsed": false,
     "input": [
      "fig, axes = plt.subplots(nrows=10, ncols=6, figsize=(12, 20), \n",
      "                         tight_layout=True)\n",
      "#print axes.ravel()\n",
      "bins = np.arange(1950, 2013, 3)\n",
      "for ax, genre in zip(axes.ravel(), genres_wanted):\n",
      "    #print genre, df[df[genre] == True].year.values\n",
      "    ax.hist(df[df[genre] == True].year.values, \n",
      "            bins=bins, histtype='stepfilled', normed=True, color='r', alpha=.2, ec='none')\n",
      "    ax.hist(df.year, bins=bins, histtype='stepfilled', ec='None', normed=True, zorder=0, color='#cccccc')\n",
      "    \n",
      "    ax.annotate(genre.split(':')[-1], xy=(1955, 3e-2), fontsize=12)\n",
      "    ax.xaxis.set_ticks(np.arange(1950, 2013, 30))\n",
      "    ax.set_yticks([])\n",
      "    ax.set_xlabel('Year')"
     ],
     "language": "python",
     "metadata": {},
     "outputs": [
      {
       "output_type": "stream",
       "stream": "stderr",
       "text": [
        "//anaconda/lib/python2.7/site-packages/matplotlib/figure.py:1644: UserWarning: This figure includes Axes that are not compatible with tight_layout, so its results might be incorrect.\n",
        "  warnings.warn(\"This figure includes Axes that are not \"\n"
       ]
      },
      {
       "metadata": {},
       "output_type": "display_data",
       "png": "[encoded data removed]",
       "text": [
        "<matplotlib.figure.Figure at 0x10c9e3490>"
       ]
      }
     ],
     "prompt_number": 37
    },
    {
     "cell_type": "code",
     "collapsed": false,
     "input": [
      "fig, axes = plt.subplots(nrows=10, ncols=6, figsize=(12, 20), \n",
      "                         tight_layout=True)\n",
      "#print axes.ravel()\n",
      "bins = np.arange(2, 5, 0.1)\n",
      "for ax, genre in zip(axes.ravel(), genres_wanted):\n",
      "    #print genre, df[df[genre] == True].year.values\n",
      "    ax.hist(df[df[genre] == True].rating.values, \n",
      "            bins=bins, histtype='stepfilled', normed=True, color='r', alpha=.1, ec='none')\n",
      "    ax.hist(df.rating, bins=bins, histtype='stepfilled', ec='None', normed=True, zorder=0, color='#cccccc')\n",
      "    \n",
      "    ax.annotate(genre.split(':')[-1], xy=(2, 3e-1), fontsize=12)\n",
      "    ax.xaxis.set_ticks(np.arange(2, 5, 1))\n",
      "    ax.set_yticks([])\n",
      "    ax.set_xlabel('Rating')"
     ],
     "language": "python",
     "metadata": {},
     "outputs": [
      {
       "metadata": {},
       "output_type": "display_data",
       "png": "[encoded data removed]",
       "text": [
        "<matplotlib.figure.Figure at 0x11036f910>"
       ]
      }
     ],
     "prompt_number": 38
    },
    {
     "cell_type": "code",
     "collapsed": false,
     "input": [
      "from pandas.tools.plotting import scatter_matrix\n",
      "with sns.axes_style('white'):\n",
      "    scatter_matrix(df[['review_count', 'rating_count', 'rating', 'year']], figsize=(10, 10), diagonal='kde');"
     ],
     "language": "python",
     "metadata": {},
     "outputs": [
      {
       "metadata": {},
       "output_type": "display_data",
       "png": "[encoded data removed]",
       "text": [
        "<matplotlib.figure.Figure at 0x10e47be50>"
       ]
      }
     ],
     "prompt_number": 44
    },
    {
     "cell_type": "code",
     "collapsed": false,
     "input": [],
     "language": "python",
     "metadata": {},
     "outputs": []
    }
   ],
   "metadata": {}
  }
 ]
}