{
 "metadata": {
  "name": "",
  "signature": "sha256:54ea35916a2109f77afef554e553ce0cc830fad6d0b982ce0a863d0467b4cd75"
 },
 "nbformat": 3,
 "nbformat_minor": 0,
 "worksheets": [
  {
   "cells": [
    {
     "cell_type": "code",
     "collapsed": false,
     "input": [
      "print(\"Hello World\")"
     ],
     "language": "python",
     "metadata": {},
     "outputs": [
      {
       "output_type": "stream",
       "stream": "stdout",
       "text": [
        "Hello World\n"
       ]
      }
     ],
     "prompt_number": 1
    },
    {
     "cell_type": "code",
     "collapsed": false,
     "input": [
      "1 + 1"
     ],
     "language": "python",
     "metadata": {},
     "outputs": [
      {
       "metadata": {},
       "output_type": "pyout",
       "prompt_number": 2,
       "text": [
        "2"
       ]
      }
     ],
     "prompt_number": 2
    },
    {
     "cell_type": "code",
     "collapsed": false,
     "input": [
      "+2)"
     ],
     "language": "python",
     "metadata": {},
     "outputs": [
      {
       "metadata": {},
       "output_type": "pyout",
       "prompt_number": 3,
       "text": [
        "3"
       ]
      }
     ],
     "prompt_number": 3
    },
    {
     "cell_type": "code",
     "collapsed": false,
     "input": [
      "(1 + 2) * 2"
     ],
     "language": "python",
     "metadata": {},
     "outputs": [
      {
       "metadata": {},
       "output_type": "pyout",
       "prompt_number": 4,
       "text": [
        "6"
       ]
      }
     ],
     "prompt_number": 4
    },
    {
     "cell_type": "code",
     "collapsed": false,
     "input": [
      "!pip install pyquery"
     ],
     "language": "python",
     "metadata": {},
     "outputs": [
      {
       "output_type": "stream",
       "stream": "stdout",
       "text": [
        "Downloading/unpacking pyquery\n",
        "  Running setup.py (path:c:\\users\\mento\\appdata\\local\\temp\\pip_build_MENTO\\pyquery\\setup.py) egg_info for package pyquery\n",
        "    \n",
        "    no previously-included directories found matching 'docs\\_build'\n",
        "    warning: no previously-included files matching '*.pyc' found anywhere in distribution\n",
        "    warning: no previously-included files matching '__pycache__' found anywhere in distribution\n",
        "Requirement already satisfied (use --upgrade to upgrade): lxml>=2.1 in c:\\users\\mento\\appdata\\local\\continuum\\anaconda\\lib\\site-packages (from pyquery)\n",
        "Downloading/unpacking cssselect (from pyquery)\n",
        "  Downloading cssselect-0.9.1.tar.gz\n",
        "  Running setup.py (path:c:\\users\\mento\\appdata\\local\\temp\\pip_build_MENTO\\cssselect\\setup.py) egg_info for package cssselect\n",
        "    \n",
        "    no previously-included directories found matching 'docs\\_build'\n",
        "Installing collected packages: pyquery, cssselect\n",
        "  Running setup.py install for pyquery\n",
        "    \n",
        "    no previously-included directories found matching 'docs\\_build'\n",
        "    warning: no previously-included files matching '*.pyc' found anywhere in distribution\n",
        "    warning: no previously-included files matching '__pycache__' found anywhere in distribution\n",
        "  Running setup.py install for cssselect\n",
        "    \n",
        "    no previously-included directories found matching 'docs\\_build'\n",
        "Successfully installed pyquery cssselect\n",
        "Cleaning up...\n"
       ]
      }
     ],
     "prompt_number": 5
    },
    {
     "cell_type": "code",
     "collapsed": false,
     "input": [
      "!pip install twitter"
     ],
     "language": "python",
     "metadata": {},
     "outputs": [
      {
       "output_type": "stream",
       "stream": "stdout",
       "text": [
        "Downloading/unpacking twitter\n",
        "Installing collected packages: twitter\n",
        "Successfully installed twitter\n",
        "Cleaning up...\n"
       ]
      }
     ],
     "prompt_number": 6
    },
    {
     "cell_type": "code",
     "collapsed": false,
     "input": [
      "!pip install requests"
     ],
     "language": "python",
     "metadata": {},
     "outputs": [
      {
       "output_type": "stream",
       "stream": "stdout",
       "text": [
        "Requirement already satisfied (use --upgrade to upgrade): requests in c:\\users\\mento\\appdata\\local\\continuum\\anaconda\\lib\\site-packages\n",
        "Cleaning up...\n"
       ]
      }
     ],
     "prompt_number": 7
    },
    {
     "cell_type": "code",
     "collapsed": false,
     "input": [
      "$$ E = m \\ time c^2"
     ],
     "language": "python",
     "metadata": {},
     "outputs": [
      {
       "ename": "SyntaxError",
       "evalue": "invalid syntax (<ipython-input-8-3796ac3672c6>, line 1)",
       "output_type": "pyerr",
       "traceback": [
        "\u001b[1;36m  File \u001b[1;32m\"<ipython-input-8-3796ac3672c6>\"\u001b[1;36m, line \u001b[1;32m1\u001b[0m\n\u001b[1;33m    $$ E = m \\ time c^2\u001b[0m\n\u001b[1;37m    ^\u001b[0m\n\u001b[1;31mSyntaxError\u001b[0m\u001b[1;31m:\u001b[0m invalid syntax\n"
       ]
      }
     ],
     "prompt_number": 8
    },
    {
     "cell_type": "markdown",
     "metadata": {},
     "source": [
      "$$ E = m\\times c^2 $$"
     ]
    },
    {
     "cell_type": "markdown",
     "metadata": {},
     "source": [
      "Install Anaconda first:\n",
      "\n",
      "https://store.continuum.io/cshop/anaconda/\n",
      "\n",
      "We will need some follow on packages:\n",
      "\n",
      "Start the ipython notebook thus: ipython notebook\n",
      "\n",
      "Create a new notebook.\n",
      "\n",
      "put this into a cell in the notebook:\n",
      "\n",
      "!pip install requests\n",
      "\n",
      "Then hit Shift-Enter. This is how you make any input in the ipython notebook.\n",
      "\n",
      "Do the same for these two....\n",
      "\n",
      "!pip install pyquery\n",
      "\n",
      "!pip install twitter\n",
      "\n",
      "Also install pandoc: http://johnmacfarlane.net/pandoc/\n",
      "\n",
      "Etherpad: https://etherpad.mozilla.org/bKd8ixfFqy\n"
     ]
    },
    {
     "cell_type": "code",
     "collapsed": false,
     "input": [],
     "language": "python",
     "metadata": {},
     "outputs": []
    }
   ],
   "metadata": {}
  }
 ]
}